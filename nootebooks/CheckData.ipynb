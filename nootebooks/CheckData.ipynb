{
 "cells": [
  {
   "cell_type": "code",
   "execution_count": 1,
   "id": "58940d69",
   "metadata": {},
   "outputs": [],
   "source": [
    "import pathlib\n",
    "import pandas as pd\n",
    "import matplotlib.pyplot as plt"
   ]
  },
  {
   "cell_type": "raw",
   "id": "2597a43c",
   "metadata": {},
   "source": [
    "paths = list(pathlib.Path(\"../media\").glob(\"break_*.xlsx\"))\n",
    "len(paths)"
   ]
  },
  {
   "cell_type": "raw",
   "id": "a4a2a7f1",
   "metadata": {},
   "source": [
    "frames = []\n",
    "for path in paths:\n",
    "    frame = pd.read_excel(path).assign(path=path)\n",
    "    frames.append(frame)\n",
    "data = pd.concat(frames)"
   ]
  },
  {
   "cell_type": "raw",
   "id": "b60280b3",
   "metadata": {},
   "source": [
    "data.to_excel(\"break_vigenere_20221105_FirstTest.xlsx\")"
   ]
  },
  {
   "cell_type": "code",
   "execution_count": 2,
   "id": "0d4bcb64",
   "metadata": {},
   "outputs": [],
   "source": [
    "data = pd.read_excel(\"break_vigenere_20221105_FirstTest.xlsx\")"
   ]
  },
  {
   "cell_type": "code",
   "execution_count": 3,
   "id": "f5658903",
   "metadata": {},
   "outputs": [],
   "source": [
    "data = data.drop(\"Unnamed: 0\", axis=1)"
   ]
  },
  {
   "cell_type": "code",
   "execution_count": 4,
   "id": "bf6f6dd5",
   "metadata": {},
   "outputs": [],
   "source": [
    "data[\"score\"] = data[\"selection_max\"]/data[\"target\"]\n",
    "data[\"progress\"] = 1 - data[\"hamming_distance\"]/data[\"key_size\"]"
   ]
  },
  {
   "cell_type": "code",
   "execution_count": 5,
   "id": "90c25a78",
   "metadata": {},
   "outputs": [
    {
     "data": {
      "text/html": [
       "<div>\n",
       "<style scoped>\n",
       "    .dataframe tbody tr th:only-of-type {\n",
       "        vertical-align: middle;\n",
       "    }\n",
       "\n",
       "    .dataframe tbody tr th {\n",
       "        vertical-align: top;\n",
       "    }\n",
       "\n",
       "    .dataframe thead th {\n",
       "        text-align: right;\n",
       "    }\n",
       "</style>\n",
       "<table border=\"1\" class=\"dataframe\">\n",
       "  <thead>\n",
       "    <tr style=\"text-align: right;\">\n",
       "      <th></th>\n",
       "      <th>Unnamed: 0.1</th>\n",
       "      <th>generation</th>\n",
       "      <th>generation_count</th>\n",
       "      <th>seed</th>\n",
       "      <th>mutation_threshold</th>\n",
       "      <th>key_size</th>\n",
       "      <th>population_size</th>\n",
       "      <th>global_min</th>\n",
       "      <th>global_max</th>\n",
       "      <th>selection_min</th>\n",
       "      <th>...</th>\n",
       "      <th>best_individual</th>\n",
       "      <th>elapsed</th>\n",
       "      <th>hamming_distance</th>\n",
       "      <th>weights</th>\n",
       "      <th>target</th>\n",
       "      <th>original_key</th>\n",
       "      <th>text_length</th>\n",
       "      <th>path</th>\n",
       "      <th>score</th>\n",
       "      <th>progress</th>\n",
       "    </tr>\n",
       "  </thead>\n",
       "  <tbody>\n",
       "    <tr>\n",
       "      <th>0</th>\n",
       "      <td>0</td>\n",
       "      <td>1</td>\n",
       "      <td>50</td>\n",
       "      <td>123456789</td>\n",
       "      <td>0.5</td>\n",
       "      <td>6</td>\n",
       "      <td>10</td>\n",
       "      <td>-2576.095225</td>\n",
       "      <td>-2280.620646</td>\n",
       "      <td>-2495.653214</td>\n",
       "      <td>...</td>\n",
       "      <td>PUOSEM</td>\n",
       "      <td>0.057949</td>\n",
       "      <td>5</td>\n",
       "      <td>[0.6, 0.3, 0.1]</td>\n",
       "      <td>-1357.979929</td>\n",
       "      <td>SECRET</td>\n",
       "      <td>1174</td>\n",
       "      <td>..\\media\\break_vigenere_1.xlsx</td>\n",
       "      <td>1.679421</td>\n",
       "      <td>0.166667</td>\n",
       "    </tr>\n",
       "    <tr>\n",
       "      <th>1</th>\n",
       "      <td>1</td>\n",
       "      <td>2</td>\n",
       "      <td>50</td>\n",
       "      <td>123456789</td>\n",
       "      <td>0.5</td>\n",
       "      <td>6</td>\n",
       "      <td>10</td>\n",
       "      <td>-2506.191179</td>\n",
       "      <td>-2280.620646</td>\n",
       "      <td>-2446.151979</td>\n",
       "      <td>...</td>\n",
       "      <td>PUOSEM</td>\n",
       "      <td>0.061206</td>\n",
       "      <td>5</td>\n",
       "      <td>[0.6, 0.3, 0.1]</td>\n",
       "      <td>-1357.979929</td>\n",
       "      <td>SECRET</td>\n",
       "      <td>1174</td>\n",
       "      <td>..\\media\\break_vigenere_1.xlsx</td>\n",
       "      <td>1.679421</td>\n",
       "      <td>0.166667</td>\n",
       "    </tr>\n",
       "    <tr>\n",
       "      <th>2</th>\n",
       "      <td>2</td>\n",
       "      <td>3</td>\n",
       "      <td>50</td>\n",
       "      <td>123456789</td>\n",
       "      <td>0.5</td>\n",
       "      <td>6</td>\n",
       "      <td>10</td>\n",
       "      <td>-2462.217341</td>\n",
       "      <td>-2280.620646</td>\n",
       "      <td>-2404.375268</td>\n",
       "      <td>...</td>\n",
       "      <td>PUOSEM</td>\n",
       "      <td>0.057754</td>\n",
       "      <td>5</td>\n",
       "      <td>[0.6, 0.3, 0.1]</td>\n",
       "      <td>-1357.979929</td>\n",
       "      <td>SECRET</td>\n",
       "      <td>1174</td>\n",
       "      <td>..\\media\\break_vigenere_1.xlsx</td>\n",
       "      <td>1.679421</td>\n",
       "      <td>0.166667</td>\n",
       "    </tr>\n",
       "    <tr>\n",
       "      <th>3</th>\n",
       "      <td>3</td>\n",
       "      <td>4</td>\n",
       "      <td>50</td>\n",
       "      <td>123456789</td>\n",
       "      <td>0.5</td>\n",
       "      <td>6</td>\n",
       "      <td>10</td>\n",
       "      <td>-2527.355676</td>\n",
       "      <td>-2183.031944</td>\n",
       "      <td>-2374.401020</td>\n",
       "      <td>...</td>\n",
       "      <td>SAEZEU</td>\n",
       "      <td>0.057145</td>\n",
       "      <td>4</td>\n",
       "      <td>[0.6, 0.3, 0.1]</td>\n",
       "      <td>-1357.979929</td>\n",
       "      <td>SECRET</td>\n",
       "      <td>1174</td>\n",
       "      <td>..\\media\\break_vigenere_1.xlsx</td>\n",
       "      <td>1.607558</td>\n",
       "      <td>0.333333</td>\n",
       "    </tr>\n",
       "    <tr>\n",
       "      <th>4</th>\n",
       "      <td>4</td>\n",
       "      <td>5</td>\n",
       "      <td>50</td>\n",
       "      <td>123456789</td>\n",
       "      <td>0.5</td>\n",
       "      <td>6</td>\n",
       "      <td>10</td>\n",
       "      <td>-2505.820515</td>\n",
       "      <td>-2096.441564</td>\n",
       "      <td>-2297.222370</td>\n",
       "      <td>...</td>\n",
       "      <td>SAEDEU</td>\n",
       "      <td>0.058003</td>\n",
       "      <td>4</td>\n",
       "      <td>[0.6, 0.3, 0.1]</td>\n",
       "      <td>-1357.979929</td>\n",
       "      <td>SECRET</td>\n",
       "      <td>1174</td>\n",
       "      <td>..\\media\\break_vigenere_1.xlsx</td>\n",
       "      <td>1.543794</td>\n",
       "      <td>0.333333</td>\n",
       "    </tr>\n",
       "    <tr>\n",
       "      <th>...</th>\n",
       "      <td>...</td>\n",
       "      <td>...</td>\n",
       "      <td>...</td>\n",
       "      <td>...</td>\n",
       "      <td>...</td>\n",
       "      <td>...</td>\n",
       "      <td>...</td>\n",
       "      <td>...</td>\n",
       "      <td>...</td>\n",
       "      <td>...</td>\n",
       "      <td>...</td>\n",
       "      <td>...</td>\n",
       "      <td>...</td>\n",
       "      <td>...</td>\n",
       "      <td>...</td>\n",
       "      <td>...</td>\n",
       "      <td>...</td>\n",
       "      <td>...</td>\n",
       "      <td>...</td>\n",
       "      <td>...</td>\n",
       "      <td>...</td>\n",
       "    </tr>\n",
       "    <tr>\n",
       "      <th>102056</th>\n",
       "      <td>23</td>\n",
       "      <td>24</td>\n",
       "      <td>50</td>\n",
       "      <td>123456789</td>\n",
       "      <td>0.8</td>\n",
       "      <td>16</td>\n",
       "      <td>500</td>\n",
       "      <td>-1092.319258</td>\n",
       "      <td>-939.420815</td>\n",
       "      <td>-993.709937</td>\n",
       "      <td>...</td>\n",
       "      <td>GENETIBALTORITHM</td>\n",
       "      <td>2.924143</td>\n",
       "      <td>2</td>\n",
       "      <td>[1, 0, 0]</td>\n",
       "      <td>-909.417194</td>\n",
       "      <td>GENETICALGORITHM</td>\n",
       "      <td>1174</td>\n",
       "      <td>..\\media\\break_vigenere_999.xlsx</td>\n",
       "      <td>1.032992</td>\n",
       "      <td>0.875000</td>\n",
       "    </tr>\n",
       "    <tr>\n",
       "      <th>102057</th>\n",
       "      <td>24</td>\n",
       "      <td>25</td>\n",
       "      <td>50</td>\n",
       "      <td>123456789</td>\n",
       "      <td>0.8</td>\n",
       "      <td>16</td>\n",
       "      <td>500</td>\n",
       "      <td>-1086.601056</td>\n",
       "      <td>-927.506694</td>\n",
       "      <td>-982.321371</td>\n",
       "      <td>...</td>\n",
       "      <td>GENETICALGLRITHM</td>\n",
       "      <td>2.835587</td>\n",
       "      <td>1</td>\n",
       "      <td>[1, 0, 0]</td>\n",
       "      <td>-909.417194</td>\n",
       "      <td>GENETICALGORITHM</td>\n",
       "      <td>1174</td>\n",
       "      <td>..\\media\\break_vigenere_999.xlsx</td>\n",
       "      <td>1.019891</td>\n",
       "      <td>0.937500</td>\n",
       "    </tr>\n",
       "    <tr>\n",
       "      <th>102058</th>\n",
       "      <td>25</td>\n",
       "      <td>26</td>\n",
       "      <td>50</td>\n",
       "      <td>123456789</td>\n",
       "      <td>0.8</td>\n",
       "      <td>16</td>\n",
       "      <td>500</td>\n",
       "      <td>-1062.271157</td>\n",
       "      <td>-923.543124</td>\n",
       "      <td>-973.224843</td>\n",
       "      <td>...</td>\n",
       "      <td>GENETICALGXRITHM</td>\n",
       "      <td>2.885845</td>\n",
       "      <td>1</td>\n",
       "      <td>[1, 0, 0]</td>\n",
       "      <td>-909.417194</td>\n",
       "      <td>GENETICALGORITHM</td>\n",
       "      <td>1174</td>\n",
       "      <td>..\\media\\break_vigenere_999.xlsx</td>\n",
       "      <td>1.015533</td>\n",
       "      <td>0.937500</td>\n",
       "    </tr>\n",
       "    <tr>\n",
       "      <th>102059</th>\n",
       "      <td>26</td>\n",
       "      <td>27</td>\n",
       "      <td>50</td>\n",
       "      <td>123456789</td>\n",
       "      <td>0.8</td>\n",
       "      <td>16</td>\n",
       "      <td>500</td>\n",
       "      <td>-1056.200932</td>\n",
       "      <td>-923.543124</td>\n",
       "      <td>-963.779020</td>\n",
       "      <td>...</td>\n",
       "      <td>GENETICALGXRITHM</td>\n",
       "      <td>2.858631</td>\n",
       "      <td>1</td>\n",
       "      <td>[1, 0, 0]</td>\n",
       "      <td>-909.417194</td>\n",
       "      <td>GENETICALGORITHM</td>\n",
       "      <td>1174</td>\n",
       "      <td>..\\media\\break_vigenere_999.xlsx</td>\n",
       "      <td>1.015533</td>\n",
       "      <td>0.937500</td>\n",
       "    </tr>\n",
       "    <tr>\n",
       "      <th>102060</th>\n",
       "      <td>27</td>\n",
       "      <td>28</td>\n",
       "      <td>50</td>\n",
       "      <td>123456789</td>\n",
       "      <td>0.8</td>\n",
       "      <td>16</td>\n",
       "      <td>500</td>\n",
       "      <td>-1051.161589</td>\n",
       "      <td>-909.417194</td>\n",
       "      <td>-955.778277</td>\n",
       "      <td>...</td>\n",
       "      <td>GENETICALGORITHM</td>\n",
       "      <td>2.866301</td>\n",
       "      <td>0</td>\n",
       "      <td>[1, 0, 0]</td>\n",
       "      <td>-909.417194</td>\n",
       "      <td>GENETICALGORITHM</td>\n",
       "      <td>1174</td>\n",
       "      <td>..\\media\\break_vigenere_999.xlsx</td>\n",
       "      <td>1.000000</td>\n",
       "      <td>1.000000</td>\n",
       "    </tr>\n",
       "  </tbody>\n",
       "</table>\n",
       "<p>102061 rows × 21 columns</p>\n",
       "</div>"
      ],
      "text/plain": [
       "        Unnamed: 0.1  generation  generation_count       seed  \\\n",
       "0                  0           1                50  123456789   \n",
       "1                  1           2                50  123456789   \n",
       "2                  2           3                50  123456789   \n",
       "3                  3           4                50  123456789   \n",
       "4                  4           5                50  123456789   \n",
       "...              ...         ...               ...        ...   \n",
       "102056            23          24                50  123456789   \n",
       "102057            24          25                50  123456789   \n",
       "102058            25          26                50  123456789   \n",
       "102059            26          27                50  123456789   \n",
       "102060            27          28                50  123456789   \n",
       "\n",
       "        mutation_threshold  key_size  population_size   global_min  \\\n",
       "0                      0.5         6               10 -2576.095225   \n",
       "1                      0.5         6               10 -2506.191179   \n",
       "2                      0.5         6               10 -2462.217341   \n",
       "3                      0.5         6               10 -2527.355676   \n",
       "4                      0.5         6               10 -2505.820515   \n",
       "...                    ...       ...              ...          ...   \n",
       "102056                 0.8        16              500 -1092.319258   \n",
       "102057                 0.8        16              500 -1086.601056   \n",
       "102058                 0.8        16              500 -1062.271157   \n",
       "102059                 0.8        16              500 -1056.200932   \n",
       "102060                 0.8        16              500 -1051.161589   \n",
       "\n",
       "         global_max  selection_min  ...   best_individual   elapsed  \\\n",
       "0      -2280.620646   -2495.653214  ...            PUOSEM  0.057949   \n",
       "1      -2280.620646   -2446.151979  ...            PUOSEM  0.061206   \n",
       "2      -2280.620646   -2404.375268  ...            PUOSEM  0.057754   \n",
       "3      -2183.031944   -2374.401020  ...            SAEZEU  0.057145   \n",
       "4      -2096.441564   -2297.222370  ...            SAEDEU  0.058003   \n",
       "...             ...            ...  ...               ...       ...   \n",
       "102056  -939.420815    -993.709937  ...  GENETIBALTORITHM  2.924143   \n",
       "102057  -927.506694    -982.321371  ...  GENETICALGLRITHM  2.835587   \n",
       "102058  -923.543124    -973.224843  ...  GENETICALGXRITHM  2.885845   \n",
       "102059  -923.543124    -963.779020  ...  GENETICALGXRITHM  2.858631   \n",
       "102060  -909.417194    -955.778277  ...  GENETICALGORITHM  2.866301   \n",
       "\n",
       "        hamming_distance          weights       target      original_key  \\\n",
       "0                      5  [0.6, 0.3, 0.1] -1357.979929            SECRET   \n",
       "1                      5  [0.6, 0.3, 0.1] -1357.979929            SECRET   \n",
       "2                      5  [0.6, 0.3, 0.1] -1357.979929            SECRET   \n",
       "3                      4  [0.6, 0.3, 0.1] -1357.979929            SECRET   \n",
       "4                      4  [0.6, 0.3, 0.1] -1357.979929            SECRET   \n",
       "...                  ...              ...          ...               ...   \n",
       "102056                 2        [1, 0, 0]  -909.417194  GENETICALGORITHM   \n",
       "102057                 1        [1, 0, 0]  -909.417194  GENETICALGORITHM   \n",
       "102058                 1        [1, 0, 0]  -909.417194  GENETICALGORITHM   \n",
       "102059                 1        [1, 0, 0]  -909.417194  GENETICALGORITHM   \n",
       "102060                 0        [1, 0, 0]  -909.417194  GENETICALGORITHM   \n",
       "\n",
       "       text_length                              path     score  progress  \n",
       "0             1174    ..\\media\\break_vigenere_1.xlsx  1.679421  0.166667  \n",
       "1             1174    ..\\media\\break_vigenere_1.xlsx  1.679421  0.166667  \n",
       "2             1174    ..\\media\\break_vigenere_1.xlsx  1.679421  0.166667  \n",
       "3             1174    ..\\media\\break_vigenere_1.xlsx  1.607558  0.333333  \n",
       "4             1174    ..\\media\\break_vigenere_1.xlsx  1.543794  0.333333  \n",
       "...            ...                               ...       ...       ...  \n",
       "102056        1174  ..\\media\\break_vigenere_999.xlsx  1.032992  0.875000  \n",
       "102057        1174  ..\\media\\break_vigenere_999.xlsx  1.019891  0.937500  \n",
       "102058        1174  ..\\media\\break_vigenere_999.xlsx  1.015533  0.937500  \n",
       "102059        1174  ..\\media\\break_vigenere_999.xlsx  1.015533  0.937500  \n",
       "102060        1174  ..\\media\\break_vigenere_999.xlsx  1.000000  1.000000  \n",
       "\n",
       "[102061 rows x 21 columns]"
      ]
     },
     "execution_count": 5,
     "metadata": {},
     "output_type": "execute_result"
    }
   ],
   "source": [
    "data"
   ]
  },
  {
   "cell_type": "code",
   "execution_count": 6,
   "id": "04f5e0da",
   "metadata": {},
   "outputs": [
    {
     "data": {
      "text/plain": [
       "Unnamed: 0.1            int64\n",
       "generation              int64\n",
       "generation_count        int64\n",
       "seed                    int64\n",
       "mutation_threshold    float64\n",
       "key_size                int64\n",
       "population_size         int64\n",
       "global_min            float64\n",
       "global_max            float64\n",
       "selection_min         float64\n",
       "selection_max         float64\n",
       "best_individual        object\n",
       "elapsed               float64\n",
       "hamming_distance        int64\n",
       "weights                object\n",
       "target                float64\n",
       "original_key           object\n",
       "text_length             int64\n",
       "path                   object\n",
       "score                 float64\n",
       "progress              float64\n",
       "dtype: object"
      ]
     },
     "execution_count": 6,
     "metadata": {},
     "output_type": "execute_result"
    }
   ],
   "source": [
    "data.dtypes"
   ]
  },
  {
   "cell_type": "code",
   "execution_count": 29,
   "id": "d0609ca6",
   "metadata": {},
   "outputs": [
    {
     "data": {
      "text/html": [
       "<div>\n",
       "<style scoped>\n",
       "    .dataframe tbody tr th:only-of-type {\n",
       "        vertical-align: middle;\n",
       "    }\n",
       "\n",
       "    .dataframe tbody tr th {\n",
       "        vertical-align: top;\n",
       "    }\n",
       "\n",
       "    .dataframe thead th {\n",
       "        text-align: right;\n",
       "    }\n",
       "</style>\n",
       "<table border=\"1\" class=\"dataframe\">\n",
       "  <thead>\n",
       "    <tr style=\"text-align: right;\">\n",
       "      <th></th>\n",
       "      <th>seed_count</th>\n",
       "      <th>weights_last</th>\n",
       "      <th>population_size_last</th>\n",
       "      <th>mutation_threshold_last</th>\n",
       "      <th>key_size_last</th>\n",
       "      <th>hamming_distance_last</th>\n",
       "      <th>global_min_first</th>\n",
       "      <th>selection_max_last</th>\n",
       "      <th>target_last</th>\n",
       "      <th>text_length_last</th>\n",
       "      <th>elapsed_mean</th>\n",
       "      <th>elapsed_sum</th>\n",
       "      <th>finished</th>\n",
       "      <th>symbol_progress</th>\n",
       "      <th>score_progress</th>\n",
       "      <th>decodable</th>\n",
       "    </tr>\n",
       "    <tr>\n",
       "      <th>path</th>\n",
       "      <th></th>\n",
       "      <th></th>\n",
       "      <th></th>\n",
       "      <th></th>\n",
       "      <th></th>\n",
       "      <th></th>\n",
       "      <th></th>\n",
       "      <th></th>\n",
       "      <th></th>\n",
       "      <th></th>\n",
       "      <th></th>\n",
       "      <th></th>\n",
       "      <th></th>\n",
       "      <th></th>\n",
       "      <th></th>\n",
       "      <th></th>\n",
       "    </tr>\n",
       "  </thead>\n",
       "  <tbody>\n",
       "    <tr>\n",
       "      <th>..\\media\\break_vigenere_1.xlsx</th>\n",
       "      <td>17</td>\n",
       "      <td>[0.6, 0.3, 0.1]</td>\n",
       "      <td>10</td>\n",
       "      <td>0.50</td>\n",
       "      <td>6</td>\n",
       "      <td>3</td>\n",
       "      <td>-2576.095225</td>\n",
       "      <td>-1879.428002</td>\n",
       "      <td>-1357.979929</td>\n",
       "      <td>1174</td>\n",
       "      <td>0.057597</td>\n",
       "      <td>0.979154</td>\n",
       "      <td>False</td>\n",
       "      <td>0.5000</td>\n",
       "      <td>0.571922</td>\n",
       "      <td>False</td>\n",
       "    </tr>\n",
       "    <tr>\n",
       "      <th>..\\media\\break_vigenere_10.xlsx</th>\n",
       "      <td>8</td>\n",
       "      <td>[0.6, 0.3, 0.1]</td>\n",
       "      <td>1000</td>\n",
       "      <td>0.80</td>\n",
       "      <td>6</td>\n",
       "      <td>0</td>\n",
       "      <td>-2728.019070</td>\n",
       "      <td>-1357.979929</td>\n",
       "      <td>-1357.979929</td>\n",
       "      <td>1174</td>\n",
       "      <td>5.574956</td>\n",
       "      <td>44.599648</td>\n",
       "      <td>True</td>\n",
       "      <td>1.0000</td>\n",
       "      <td>1.000000</td>\n",
       "      <td>True</td>\n",
       "    </tr>\n",
       "    <tr>\n",
       "      <th>..\\media\\break_vigenere_100.xlsx</th>\n",
       "      <td>19</td>\n",
       "      <td>[0.6, 0.3, 0.1]</td>\n",
       "      <td>1000</td>\n",
       "      <td>0.80</td>\n",
       "      <td>16</td>\n",
       "      <td>0</td>\n",
       "      <td>-2644.889504</td>\n",
       "      <td>-1357.979929</td>\n",
       "      <td>-1357.979929</td>\n",
       "      <td>1174</td>\n",
       "      <td>5.553587</td>\n",
       "      <td>105.518155</td>\n",
       "      <td>True</td>\n",
       "      <td>1.0000</td>\n",
       "      <td>1.000000</td>\n",
       "      <td>True</td>\n",
       "    </tr>\n",
       "    <tr>\n",
       "      <th>..\\media\\break_vigenere_1000.xlsx</th>\n",
       "      <td>24</td>\n",
       "      <td>[1, 0, 0]</td>\n",
       "      <td>1000</td>\n",
       "      <td>0.80</td>\n",
       "      <td>16</td>\n",
       "      <td>0</td>\n",
       "      <td>-1416.593952</td>\n",
       "      <td>-909.417194</td>\n",
       "      <td>-909.417194</td>\n",
       "      <td>1174</td>\n",
       "      <td>5.824049</td>\n",
       "      <td>139.777171</td>\n",
       "      <td>True</td>\n",
       "      <td>1.0000</td>\n",
       "      <td>1.000000</td>\n",
       "      <td>True</td>\n",
       "    </tr>\n",
       "    <tr>\n",
       "      <th>..\\media\\break_vigenere_1001.xlsx</th>\n",
       "      <td>10</td>\n",
       "      <td>[1, 0, 0]</td>\n",
       "      <td>10</td>\n",
       "      <td>0.99</td>\n",
       "      <td>16</td>\n",
       "      <td>11</td>\n",
       "      <td>-1390.285546</td>\n",
       "      <td>-1147.789287</td>\n",
       "      <td>-909.417194</td>\n",
       "      <td>1174</td>\n",
       "      <td>0.062422</td>\n",
       "      <td>0.624220</td>\n",
       "      <td>False</td>\n",
       "      <td>0.3125</td>\n",
       "      <td>0.504288</td>\n",
       "      <td>False</td>\n",
       "    </tr>\n",
       "    <tr>\n",
       "      <th>...</th>\n",
       "      <td>...</td>\n",
       "      <td>...</td>\n",
       "      <td>...</td>\n",
       "      <td>...</td>\n",
       "      <td>...</td>\n",
       "      <td>...</td>\n",
       "      <td>...</td>\n",
       "      <td>...</td>\n",
       "      <td>...</td>\n",
       "      <td>...</td>\n",
       "      <td>...</td>\n",
       "      <td>...</td>\n",
       "      <td>...</td>\n",
       "      <td>...</td>\n",
       "      <td>...</td>\n",
       "      <td>...</td>\n",
       "    </tr>\n",
       "    <tr>\n",
       "      <th>..\\media\\break_vigenere_995.xlsx</th>\n",
       "      <td>26</td>\n",
       "      <td>[1, 0, 0]</td>\n",
       "      <td>1000</td>\n",
       "      <td>0.50</td>\n",
       "      <td>16</td>\n",
       "      <td>0</td>\n",
       "      <td>-1416.593952</td>\n",
       "      <td>-909.417194</td>\n",
       "      <td>-909.417194</td>\n",
       "      <td>1174</td>\n",
       "      <td>5.865094</td>\n",
       "      <td>152.492442</td>\n",
       "      <td>True</td>\n",
       "      <td>1.0000</td>\n",
       "      <td>1.000000</td>\n",
       "      <td>True</td>\n",
       "    </tr>\n",
       "    <tr>\n",
       "      <th>..\\media\\break_vigenere_996.xlsx</th>\n",
       "      <td>15</td>\n",
       "      <td>[1, 0, 0]</td>\n",
       "      <td>10</td>\n",
       "      <td>0.80</td>\n",
       "      <td>16</td>\n",
       "      <td>10</td>\n",
       "      <td>-1390.285546</td>\n",
       "      <td>-1114.676379</td>\n",
       "      <td>-909.417194</td>\n",
       "      <td>1174</td>\n",
       "      <td>0.067089</td>\n",
       "      <td>1.006332</td>\n",
       "      <td>False</td>\n",
       "      <td>0.3750</td>\n",
       "      <td>0.573149</td>\n",
       "      <td>False</td>\n",
       "    </tr>\n",
       "    <tr>\n",
       "      <th>..\\media\\break_vigenere_997.xlsx</th>\n",
       "      <td>43</td>\n",
       "      <td>[1, 0, 0]</td>\n",
       "      <td>50</td>\n",
       "      <td>0.80</td>\n",
       "      <td>16</td>\n",
       "      <td>1</td>\n",
       "      <td>-1390.285546</td>\n",
       "      <td>-921.942514</td>\n",
       "      <td>-909.417194</td>\n",
       "      <td>1174</td>\n",
       "      <td>0.303147</td>\n",
       "      <td>13.035316</td>\n",
       "      <td>False</td>\n",
       "      <td>0.9375</td>\n",
       "      <td>0.973953</td>\n",
       "      <td>True</td>\n",
       "    </tr>\n",
       "    <tr>\n",
       "      <th>..\\media\\break_vigenere_998.xlsx</th>\n",
       "      <td>40</td>\n",
       "      <td>[1, 0, 0]</td>\n",
       "      <td>100</td>\n",
       "      <td>0.80</td>\n",
       "      <td>16</td>\n",
       "      <td>1</td>\n",
       "      <td>-1404.359788</td>\n",
       "      <td>-923.926545</td>\n",
       "      <td>-909.417194</td>\n",
       "      <td>1174</td>\n",
       "      <td>0.593779</td>\n",
       "      <td>23.751156</td>\n",
       "      <td>False</td>\n",
       "      <td>0.9375</td>\n",
       "      <td>0.970685</td>\n",
       "      <td>True</td>\n",
       "    </tr>\n",
       "    <tr>\n",
       "      <th>..\\media\\break_vigenere_999.xlsx</th>\n",
       "      <td>28</td>\n",
       "      <td>[1, 0, 0]</td>\n",
       "      <td>500</td>\n",
       "      <td>0.80</td>\n",
       "      <td>16</td>\n",
       "      <td>0</td>\n",
       "      <td>-1395.787001</td>\n",
       "      <td>-909.417194</td>\n",
       "      <td>-909.417194</td>\n",
       "      <td>1174</td>\n",
       "      <td>2.907255</td>\n",
       "      <td>81.403132</td>\n",
       "      <td>True</td>\n",
       "      <td>1.0000</td>\n",
       "      <td>1.000000</td>\n",
       "      <td>True</td>\n",
       "    </tr>\n",
       "  </tbody>\n",
       "</table>\n",
       "<p>3600 rows × 16 columns</p>\n",
       "</div>"
      ],
      "text/plain": [
       "                                   seed_count     weights_last  \\\n",
       "path                                                             \n",
       "..\\media\\break_vigenere_1.xlsx             17  [0.6, 0.3, 0.1]   \n",
       "..\\media\\break_vigenere_10.xlsx             8  [0.6, 0.3, 0.1]   \n",
       "..\\media\\break_vigenere_100.xlsx           19  [0.6, 0.3, 0.1]   \n",
       "..\\media\\break_vigenere_1000.xlsx          24        [1, 0, 0]   \n",
       "..\\media\\break_vigenere_1001.xlsx          10        [1, 0, 0]   \n",
       "...                                       ...              ...   \n",
       "..\\media\\break_vigenere_995.xlsx           26        [1, 0, 0]   \n",
       "..\\media\\break_vigenere_996.xlsx           15        [1, 0, 0]   \n",
       "..\\media\\break_vigenere_997.xlsx           43        [1, 0, 0]   \n",
       "..\\media\\break_vigenere_998.xlsx           40        [1, 0, 0]   \n",
       "..\\media\\break_vigenere_999.xlsx           28        [1, 0, 0]   \n",
       "\n",
       "                                   population_size_last  \\\n",
       "path                                                      \n",
       "..\\media\\break_vigenere_1.xlsx                       10   \n",
       "..\\media\\break_vigenere_10.xlsx                    1000   \n",
       "..\\media\\break_vigenere_100.xlsx                   1000   \n",
       "..\\media\\break_vigenere_1000.xlsx                  1000   \n",
       "..\\media\\break_vigenere_1001.xlsx                    10   \n",
       "...                                                 ...   \n",
       "..\\media\\break_vigenere_995.xlsx                   1000   \n",
       "..\\media\\break_vigenere_996.xlsx                     10   \n",
       "..\\media\\break_vigenere_997.xlsx                     50   \n",
       "..\\media\\break_vigenere_998.xlsx                    100   \n",
       "..\\media\\break_vigenere_999.xlsx                    500   \n",
       "\n",
       "                                   mutation_threshold_last  key_size_last  \\\n",
       "path                                                                        \n",
       "..\\media\\break_vigenere_1.xlsx                        0.50              6   \n",
       "..\\media\\break_vigenere_10.xlsx                       0.80              6   \n",
       "..\\media\\break_vigenere_100.xlsx                      0.80             16   \n",
       "..\\media\\break_vigenere_1000.xlsx                     0.80             16   \n",
       "..\\media\\break_vigenere_1001.xlsx                     0.99             16   \n",
       "...                                                    ...            ...   \n",
       "..\\media\\break_vigenere_995.xlsx                      0.50             16   \n",
       "..\\media\\break_vigenere_996.xlsx                      0.80             16   \n",
       "..\\media\\break_vigenere_997.xlsx                      0.80             16   \n",
       "..\\media\\break_vigenere_998.xlsx                      0.80             16   \n",
       "..\\media\\break_vigenere_999.xlsx                      0.80             16   \n",
       "\n",
       "                                   hamming_distance_last  global_min_first  \\\n",
       "path                                                                         \n",
       "..\\media\\break_vigenere_1.xlsx                         3      -2576.095225   \n",
       "..\\media\\break_vigenere_10.xlsx                        0      -2728.019070   \n",
       "..\\media\\break_vigenere_100.xlsx                       0      -2644.889504   \n",
       "..\\media\\break_vigenere_1000.xlsx                      0      -1416.593952   \n",
       "..\\media\\break_vigenere_1001.xlsx                     11      -1390.285546   \n",
       "...                                                  ...               ...   \n",
       "..\\media\\break_vigenere_995.xlsx                       0      -1416.593952   \n",
       "..\\media\\break_vigenere_996.xlsx                      10      -1390.285546   \n",
       "..\\media\\break_vigenere_997.xlsx                       1      -1390.285546   \n",
       "..\\media\\break_vigenere_998.xlsx                       1      -1404.359788   \n",
       "..\\media\\break_vigenere_999.xlsx                       0      -1395.787001   \n",
       "\n",
       "                                   selection_max_last  target_last  \\\n",
       "path                                                                 \n",
       "..\\media\\break_vigenere_1.xlsx           -1879.428002 -1357.979929   \n",
       "..\\media\\break_vigenere_10.xlsx          -1357.979929 -1357.979929   \n",
       "..\\media\\break_vigenere_100.xlsx         -1357.979929 -1357.979929   \n",
       "..\\media\\break_vigenere_1000.xlsx         -909.417194  -909.417194   \n",
       "..\\media\\break_vigenere_1001.xlsx        -1147.789287  -909.417194   \n",
       "...                                               ...          ...   \n",
       "..\\media\\break_vigenere_995.xlsx          -909.417194  -909.417194   \n",
       "..\\media\\break_vigenere_996.xlsx         -1114.676379  -909.417194   \n",
       "..\\media\\break_vigenere_997.xlsx          -921.942514  -909.417194   \n",
       "..\\media\\break_vigenere_998.xlsx          -923.926545  -909.417194   \n",
       "..\\media\\break_vigenere_999.xlsx          -909.417194  -909.417194   \n",
       "\n",
       "                                   text_length_last  elapsed_mean  \\\n",
       "path                                                                \n",
       "..\\media\\break_vigenere_1.xlsx                 1174      0.057597   \n",
       "..\\media\\break_vigenere_10.xlsx                1174      5.574956   \n",
       "..\\media\\break_vigenere_100.xlsx               1174      5.553587   \n",
       "..\\media\\break_vigenere_1000.xlsx              1174      5.824049   \n",
       "..\\media\\break_vigenere_1001.xlsx              1174      0.062422   \n",
       "...                                             ...           ...   \n",
       "..\\media\\break_vigenere_995.xlsx               1174      5.865094   \n",
       "..\\media\\break_vigenere_996.xlsx               1174      0.067089   \n",
       "..\\media\\break_vigenere_997.xlsx               1174      0.303147   \n",
       "..\\media\\break_vigenere_998.xlsx               1174      0.593779   \n",
       "..\\media\\break_vigenere_999.xlsx               1174      2.907255   \n",
       "\n",
       "                                   elapsed_sum  finished  symbol_progress  \\\n",
       "path                                                                        \n",
       "..\\media\\break_vigenere_1.xlsx        0.979154     False           0.5000   \n",
       "..\\media\\break_vigenere_10.xlsx      44.599648      True           1.0000   \n",
       "..\\media\\break_vigenere_100.xlsx    105.518155      True           1.0000   \n",
       "..\\media\\break_vigenere_1000.xlsx   139.777171      True           1.0000   \n",
       "..\\media\\break_vigenere_1001.xlsx     0.624220     False           0.3125   \n",
       "...                                        ...       ...              ...   \n",
       "..\\media\\break_vigenere_995.xlsx    152.492442      True           1.0000   \n",
       "..\\media\\break_vigenere_996.xlsx      1.006332     False           0.3750   \n",
       "..\\media\\break_vigenere_997.xlsx     13.035316     False           0.9375   \n",
       "..\\media\\break_vigenere_998.xlsx     23.751156     False           0.9375   \n",
       "..\\media\\break_vigenere_999.xlsx     81.403132      True           1.0000   \n",
       "\n",
       "                                   score_progress  decodable  \n",
       "path                                                          \n",
       "..\\media\\break_vigenere_1.xlsx           0.571922      False  \n",
       "..\\media\\break_vigenere_10.xlsx          1.000000       True  \n",
       "..\\media\\break_vigenere_100.xlsx         1.000000       True  \n",
       "..\\media\\break_vigenere_1000.xlsx        1.000000       True  \n",
       "..\\media\\break_vigenere_1001.xlsx        0.504288      False  \n",
       "...                                           ...        ...  \n",
       "..\\media\\break_vigenere_995.xlsx         1.000000       True  \n",
       "..\\media\\break_vigenere_996.xlsx         0.573149      False  \n",
       "..\\media\\break_vigenere_997.xlsx         0.973953       True  \n",
       "..\\media\\break_vigenere_998.xlsx         0.970685       True  \n",
       "..\\media\\break_vigenere_999.xlsx         1.000000       True  \n",
       "\n",
       "[3600 rows x 16 columns]"
      ]
     },
     "execution_count": 29,
     "metadata": {},
     "output_type": "execute_result"
    }
   ],
   "source": [
    "progress = data.groupby(\"path\").agg({\n",
    "    \"seed\": \"count\",\n",
    "    \"weights\": \"last\",\n",
    "    \"population_size\": \"last\",\n",
    "    \"mutation_threshold\": \"last\",\n",
    "    \"key_size\": \"last\",\n",
    "    \"hamming_distance\": \"last\",\n",
    "    \"global_min\": \"first\",\n",
    "    \"selection_max\": \"last\",\n",
    "    \"target\": \"last\",\n",
    "    \"text_length\":\"last\",\n",
    "    \"elapsed\": [\"mean\", \"sum\"]\n",
    "})\n",
    "progress.columns = progress.columns.map(lambda x: \"_\".join(x)) #.replace(\"_last\", \"\"))\n",
    "progress[\"finished\"] = progress[\"hamming_distance_last\"] == 0\n",
    "progress[\"symbol_progress\"] = 1 - progress[\"hamming_distance_last\"]/progress[\"key_size_last\"]\n",
    "progress[\"score_progress\"] = 1 - (progress[\"target_last\"] - progress[\"selection_max_last\"])/(progress[\"target_last\"] - progress[\"global_min_first\"])\n",
    "progress[\"decodable\"] = (progress[\"symbol_progress\"] >= 0.80) & (progress[\"hamming_distance_last\"] <= 5)\n",
    "progress"
   ]
  },
  {
   "cell_type": "code",
   "execution_count": 31,
   "id": "2b45a09d",
   "metadata": {},
   "outputs": [],
   "source": [
    "#data.query(\"(progress > 0.8) & (original_key == 'SECRET')\")[\"best_individual\"].to_csv(\"text.txt\", index=False)"
   ]
  },
  {
   "cell_type": "code",
   "execution_count": null,
   "id": "0f7f2778",
   "metadata": {},
   "outputs": [],
   "source": []
  },
  {
   "cell_type": "code",
   "execution_count": null,
   "id": "6c7f6743",
   "metadata": {},
   "outputs": [],
   "source": []
  },
  {
   "cell_type": "raw",
   "id": "ad457a05",
   "metadata": {},
   "source": [
    "fig, axe = plt.subplots(figsize=(15, 10))\n",
    "for key, series in data.reset_index().groupby(\"path\"):\n",
    "    series.plot(x=\"generation\", y=\"hamming_distance\", ax=axe)\n",
    "axe.legend(\"off\")"
   ]
  },
  {
   "cell_type": "raw",
   "id": "dcd7ceae",
   "metadata": {},
   "source": [
    "fig, axe = plt.subplots(figsize=(15, 10))\n",
    "for key, series in data.reset_index().groupby(\"path\"):\n",
    "    series.plot(x=\"generation\", y=\"progress\", ax=axe)\n",
    "axe.legend(\"off\")"
   ]
  },
  {
   "cell_type": "raw",
   "id": "532aea49",
   "metadata": {},
   "source": [
    "fig, axe = plt.subplots(figsize=(15, 10))\n",
    "for key, series in data.reset_index().groupby(\"path\"):\n",
    "    series.plot(x=\"generation\", y=\"score\", ax=axe)\n",
    "axe.legend(\"off\")"
   ]
  },
  {
   "cell_type": "code",
   "execution_count": null,
   "id": "c96a501b",
   "metadata": {},
   "outputs": [],
   "source": []
  },
  {
   "cell_type": "code",
   "execution_count": 32,
   "id": "4a190002",
   "metadata": {},
   "outputs": [
    {
     "data": {
      "text/plain": [
       "<AxesSubplot:xlabel='key_size_last'>"
      ]
     },
     "execution_count": 32,
     "metadata": {},
     "output_type": "execute_result"
    },
    {
     "data": {
      "image/png": "[encoded data removed]",
      "text/plain": [
       "<Figure size 432x288 with 1 Axes>"
      ]
     },
     "metadata": {
      "needs_background": "light"
     },
     "output_type": "display_data"
    }
   ],
   "source": [
    "progress.pivot_table(\n",
    "    index=\"key_size_last\", columns=\"finished\", values=\"seed_count\", aggfunc=\"count\"\n",
    ").plot(kind=\"bar\", stacked=\"true\")"
   ]
  },
  {
   "cell_type": "code",
   "execution_count": 34,
   "id": "b3ea5641",
   "metadata": {},
   "outputs": [
    {
     "data": {
      "text/plain": [
       "<AxesSubplot:xlabel='key_size_last'>"
      ]
     },
     "execution_count": 34,
     "metadata": {},
     "output_type": "execute_result"
    },
    {
     "data": {
      "image/png": "[encoded data removed]",
      "text/plain": [
       "<Figure size 432x288 with 1 Axes>"
      ]
     },
     "metadata": {
      "needs_background": "light"
     },
     "output_type": "display_data"
    }
   ],
   "source": [
    "progress.pivot_table(\n",
    "    index=\"key_size_last\", columns=\"decodable\", values=\"seed_count\", aggfunc=\"count\"\n",
    ").plot(kind=\"bar\", stacked=\"true\")"
   ]
  },
  {
   "cell_type": "code",
   "execution_count": 33,
   "id": "e72306c9",
   "metadata": {},
   "outputs": [
    {
     "data": {
      "text/plain": [
       "<AxesSubplot:xlabel='population_size_last'>"
      ]
     },
     "execution_count": 33,
     "metadata": {},
     "output_type": "execute_result"
    },
    {
     "data": {
      "image/png": "[encoded data removed]",
      "text/plain": [
       "<Figure size 432x288 with 1 Axes>"
      ]
     },
     "metadata": {
      "needs_background": "light"
     },
     "output_type": "display_data"
    }
   ],
   "source": [
    "progress.pivot_table(\n",
    "    index=\"population_size_last\", columns=\"finished\", values=\"seed_count\", aggfunc=\"count\"\n",
    ").plot(kind=\"bar\", stacked=\"true\")"
   ]
  },
  {
   "cell_type": "code",
   "execution_count": 35,
   "id": "7877bc6d",
   "metadata": {},
   "outputs": [
    {
     "data": {
      "text/plain": [
       "<AxesSubplot:xlabel='population_size_last'>"
      ]
     },
     "execution_count": 35,
     "metadata": {},
     "output_type": "execute_result"
    },
    {
     "data": {
      "image/png": "[encoded data removed]",
      "text/plain": [
       "<Figure size 432x288 with 1 Axes>"
      ]
     },
     "metadata": {
      "needs_background": "light"
     },
     "output_type": "display_data"
    }
   ],
   "source": [
    "progress.pivot_table(\n",
    "    index=\"population_size_last\", columns=\"decodable\", values=\"seed_count\", aggfunc=\"count\"\n",
    ").plot(kind=\"bar\", stacked=\"true\")"
   ]
  },
  {
   "cell_type": "code",
   "execution_count": 11,
   "id": "55025893",
   "metadata": {},
   "outputs": [
    {
     "data": {
      "text/plain": [
       "<AxesSubplot:xlabel='mutation_threshold_last'>"
      ]
     },
     "execution_count": 11,
     "metadata": {},
     "output_type": "execute_result"
    },
    {
     "data": {
      "image/png": "[encoded data removed]",
      "text/plain": [
       "<Figure size 432x288 with 1 Axes>"
      ]
     },
     "metadata": {
      "needs_background": "light"
     },
     "output_type": "display_data"
    }
   ],
   "source": [
    "progress.pivot_table(\n",
    "    index=\"mutation_threshold_last\", columns=\"finished\", values=\"seed_count\", aggfunc=\"count\"\n",
    ").plot(kind=\"bar\", stacked=\"true\")"
   ]
  },
  {
   "cell_type": "code",
   "execution_count": 36,
   "id": "4535355e",
   "metadata": {},
   "outputs": [
    {
     "data": {
      "text/plain": [
       "<AxesSubplot:xlabel='mutation_threshold_last'>"
      ]
     },
     "execution_count": 36,
     "metadata": {},
     "output_type": "execute_result"
    },
    {
     "data": {
      "image/png": "[encoded data removed]",
      "text/plain": [
       "<Figure size 432x288 with 1 Axes>"
      ]
     },
     "metadata": {
      "needs_background": "light"
     },
     "output_type": "display_data"
    }
   ],
   "source": [
    "progress.pivot_table(\n",
    "    index=\"mutation_threshold_last\", columns=\"decodable\", values=\"seed_count\", aggfunc=\"count\"\n",
    ").plot(kind=\"bar\", stacked=\"true\")"
   ]
  },
  {
   "cell_type": "code",
   "execution_count": null,
   "id": "8b4f9842",
   "metadata": {},
   "outputs": [],
   "source": []
  },
  {
   "cell_type": "code",
   "execution_count": 12,
   "id": "ee5afac7",
   "metadata": {},
   "outputs": [
    {
     "data": {
      "text/plain": [
       "<AxesSubplot:xlabel='symbol_progress', ylabel='score_progress'>"
      ]
     },
     "execution_count": 12,
     "metadata": {},
     "output_type": "execute_result"
    },
    {
     "data": {
      "image/png": "[encoded data removed]",
      "text/plain": [
       "<Figure size 432x288 with 1 Axes>"
      ]
     },
     "metadata": {
      "needs_background": "light"
     },
     "output_type": "display_data"
    }
   ],
   "source": [
    "progress.plot.scatter(x=\"symbol_progress\", y=\"score_progress\")"
   ]
  },
  {
   "cell_type": "code",
   "execution_count": 37,
   "id": "84214403",
   "metadata": {},
   "outputs": [
    {
     "data": {
      "text/plain": [
       "<AxesSubplot:title={'center':'elapsed_mean'}, xlabel='key_size_last'>"
      ]
     },
     "execution_count": 37,
     "metadata": {},
     "output_type": "execute_result"
    },
    {
     "data": {
      "image/png": "[encoded data removed]",
      "text/plain": [
       "<Figure size 432x288 with 1 Axes>"
      ]
     },
     "metadata": {
      "needs_background": "light"
     },
     "output_type": "display_data"
    }
   ],
   "source": [
    "progress.boxplot(by=\"key_size_last\", column=\"elapsed_mean\")"
   ]
  },
  {
   "cell_type": "code",
   "execution_count": 13,
   "id": "228af3bf",
   "metadata": {},
   "outputs": [
    {
     "data": {
      "text/plain": [
       "<AxesSubplot:title={'center':'elapsed_mean'}, xlabel='key_size_last'>"
      ]
     },
     "execution_count": 13,
     "metadata": {},
     "output_type": "execute_result"
    },
    {
     "data": {
      "image/png": "[encoded data removed]",
      "text/plain": [
       "<Figure size 432x288 with 1 Axes>"
      ]
     },
     "metadata": {
      "needs_background": "light"
     },
     "output_type": "display_data"
    }
   ],
   "source": [
    "progress.query(\"finished\").boxplot(by=\"key_size_last\", column=\"elapsed_mean\")"
   ]
  },
  {
   "cell_type": "code",
   "execution_count": 38,
   "id": "0dfeef4c",
   "metadata": {},
   "outputs": [
    {
     "data": {
      "text/plain": [
       "<AxesSubplot:title={'center':'elapsed_sum'}, xlabel='key_size_last'>"
      ]
     },
     "execution_count": 38,
     "metadata": {},
     "output_type": "execute_result"
    },
    {
     "data": {
      "image/png": "[encoded data removed]",
      "text/plain": [
       "<Figure size 432x288 with 1 Axes>"
      ]
     },
     "metadata": {
      "needs_background": "light"
     },
     "output_type": "display_data"
    }
   ],
   "source": [
    "progress.boxplot(by=\"key_size_last\", column=\"elapsed_sum\")"
   ]
  },
  {
   "cell_type": "code",
   "execution_count": 14,
   "id": "0b49cd59",
   "metadata": {},
   "outputs": [
    {
     "data": {
      "text/plain": [
       "<AxesSubplot:title={'center':'elapsed_sum'}, xlabel='key_size_last'>"
      ]
     },
     "execution_count": 14,
     "metadata": {},
     "output_type": "execute_result"
    },
    {
     "data": {
      "image/png": "[encoded data removed]",
      "text/plain": [
       "<Figure size 432x288 with 1 Axes>"
      ]
     },
     "metadata": {
      "needs_background": "light"
     },
     "output_type": "display_data"
    }
   ],
   "source": [
    "progress.query(\"finished\").boxplot(by=\"key_size_last\", column=\"elapsed_sum\")"
   ]
  },
  {
   "cell_type": "code",
   "execution_count": 15,
   "id": "267f57f9",
   "metadata": {},
   "outputs": [
    {
     "data": {
      "text/plain": [
       "<AxesSubplot:title={'center':'seed_count'}, xlabel='key_size_last'>"
      ]
     },
     "execution_count": 15,
     "metadata": {},
     "output_type": "execute_result"
    },
    {
     "data": {
      "image/png": "[encoded data removed]",
      "text/plain": [
       "<Figure size 432x288 with 1 Axes>"
      ]
     },
     "metadata": {
      "needs_background": "light"
     },
     "output_type": "display_data"
    }
   ],
   "source": [
    "progress.query(\"finished\").boxplot(by=\"key_size_last\", column=\"seed_count\")"
   ]
  },
  {
   "cell_type": "code",
   "execution_count": 16,
   "id": "e89b320a",
   "metadata": {},
   "outputs": [
    {
     "data": {
      "text/plain": [
       "<AxesSubplot:title={'center':'elapsed_mean'}, xlabel='population_size_last'>"
      ]
     },
     "execution_count": 16,
     "metadata": {},
     "output_type": "execute_result"
    },
    {
     "data": {
      "image/png": "[encoded data removed]",
      "text/plain": [
       "<Figure size 432x288 with 1 Axes>"
      ]
     },
     "metadata": {
      "needs_background": "light"
     },
     "output_type": "display_data"
    }
   ],
   "source": [
    "progress.query(\"finished\").boxplot(by=\"population_size_last\", column=\"elapsed_mean\")"
   ]
  },
  {
   "cell_type": "code",
   "execution_count": 17,
   "id": "cc8fc4cf",
   "metadata": {},
   "outputs": [
    {
     "data": {
      "text/plain": [
       "<AxesSubplot:title={'center':'elapsed_sum'}, xlabel='population_size_last'>"
      ]
     },
     "execution_count": 17,
     "metadata": {},
     "output_type": "execute_result"
    },
    {
     "data": {
      "image/png": "[encoded data removed]",
      "text/plain": [
       "<Figure size 432x288 with 1 Axes>"
      ]
     },
     "metadata": {
      "needs_background": "light"
     },
     "output_type": "display_data"
    }
   ],
   "source": [
    "progress.query(\"finished\").boxplot(by=\"population_size_last\", column=\"elapsed_sum\")"
   ]
  },
  {
   "cell_type": "code",
   "execution_count": 18,
   "id": "2e72c721",
   "metadata": {},
   "outputs": [
    {
     "data": {
      "text/plain": [
       "<AxesSubplot:title={'center':'seed_count'}, xlabel='population_size_last'>"
      ]
     },
     "execution_count": 18,
     "metadata": {},
     "output_type": "execute_result"
    },
    {
     "data": {
      "image/png": "[encoded data removed]",
      "text/plain": [
       "<Figure size 432x288 with 1 Axes>"
      ]
     },
     "metadata": {
      "needs_background": "light"
     },
     "output_type": "display_data"
    }
   ],
   "source": [
    "progress.query(\"finished\").boxplot(by=\"population_size_last\", column=\"seed_count\")"
   ]
  },
  {
   "cell_type": "code",
   "execution_count": 19,
   "id": "e2ac20c4",
   "metadata": {},
   "outputs": [
    {
     "data": {
      "text/plain": [
       "<AxesSubplot:title={'center':'seed_count'}, xlabel='population_size_last'>"
      ]
     },
     "execution_count": 19,
     "metadata": {},
     "output_type": "execute_result"
    },
    {
     "data": {
      "image/png": "[encoded data removed]",
      "text/plain": [
       "<Figure size 432x288 with 1 Axes>"
      ]
     },
     "metadata": {
      "needs_background": "light"
     },
     "output_type": "display_data"
    }
   ],
   "source": [
    "progress.query(\"~finished\").boxplot(by=\"population_size_last\", column=\"seed_count\")"
   ]
  },
  {
   "cell_type": "code",
   "execution_count": 20,
   "id": "10e3556f",
   "metadata": {},
   "outputs": [
    {
     "data": {
      "text/plain": [
       "<AxesSubplot:title={'center':'seed_count'}, xlabel='population_size_last'>"
      ]
     },
     "execution_count": 20,
     "metadata": {},
     "output_type": "execute_result"
    },
    {
     "data": {
      "image/png": "[encoded data removed]",
      "text/plain": [
       "<Figure size 432x288 with 1 Axes>"
      ]
     },
     "metadata": {
      "needs_background": "light"
     },
     "output_type": "display_data"
    }
   ],
   "source": [
    "progress.query(\"finished\").boxplot(by=\"population_size_last\", column=\"seed_count\")"
   ]
  },
  {
   "cell_type": "code",
   "execution_count": 21,
   "id": "40063281",
   "metadata": {},
   "outputs": [
    {
     "data": {
      "text/plain": [
       "<AxesSubplot:title={'center':'elapsed_mean'}, xlabel='mutation_threshold_last'>"
      ]
     },
     "execution_count": 21,
     "metadata": {},
     "output_type": "execute_result"
    },
    {
     "data": {
      "image/png": "[encoded data removed]",
      "text/plain": [
       "<Figure size 432x288 with 1 Axes>"
      ]
     },
     "metadata": {
      "needs_background": "light"
     },
     "output_type": "display_data"
    }
   ],
   "source": [
    "progress.query(\"finished\").boxplot(by=\"mutation_threshold_last\", column=\"elapsed_mean\")"
   ]
  },
  {
   "cell_type": "code",
   "execution_count": 22,
   "id": "12a07209",
   "metadata": {},
   "outputs": [
    {
     "data": {
      "text/plain": [
       "<AxesSubplot:title={'center':'elapsed_sum'}, xlabel='[mutation_threshold_last, finished]'>"
      ]
     },
     "execution_count": 22,
     "metadata": {},
     "output_type": "execute_result"
    },
    {
     "data": {
      "image/png": "[encoded data removed]",
      "text/plain": [
       "<Figure size 432x288 with 1 Axes>"
      ]
     },
     "metadata": {
      "needs_background": "light"
     },
     "output_type": "display_data"
    }
   ],
   "source": [
    "progress.boxplot(by=[\"mutation_threshold_last\", \"finished\"], column=\"elapsed_sum\")"
   ]
  },
  {
   "cell_type": "code",
   "execution_count": 23,
   "id": "bd453b76",
   "metadata": {},
   "outputs": [
    {
     "data": {
      "text/plain": [
       "<AxesSubplot:title={'center':'seed_count'}, xlabel='[mutation_threshold_last, finished]'>"
      ]
     },
     "execution_count": 23,
     "metadata": {},
     "output_type": "execute_result"
    },
    {
     "data": {
      "image/png": "[encoded data removed]",
      "text/plain": [
       "<Figure size 432x288 with 1 Axes>"
      ]
     },
     "metadata": {
      "needs_background": "light"
     },
     "output_type": "display_data"
    }
   ],
   "source": [
    "progress.boxplot(by=[\"mutation_threshold_last\", \"finished\"], column=\"seed_count\")"
   ]
  },
  {
   "cell_type": "code",
   "execution_count": null,
   "id": "7d7ae07e",
   "metadata": {},
   "outputs": [],
   "source": []
  },
  {
   "cell_type": "code",
   "execution_count": null,
   "id": "4650cdbd",
   "metadata": {},
   "outputs": [],
   "source": []
  },
  {
   "cell_type": "code",
   "execution_count": 24,
   "id": "ace033fb",
   "metadata": {},
   "outputs": [
    {
     "data": {
      "text/plain": [
       "<pandas.core.groupby.generic.SeriesGroupBy object at 0x000002ED201AECA0>"
      ]
     },
     "execution_count": 24,
     "metadata": {},
     "output_type": "execute_result"
    }
   ],
   "source": [
    "data.groupby(\"path\")[\"elapsed\"]"
   ]
  },
  {
   "cell_type": "code",
   "execution_count": 25,
   "id": "9892d5c7",
   "metadata": {},
   "outputs": [
    {
     "data": {
      "text/plain": [
       "Unnamed: 0.1            int64\n",
       "generation              int64\n",
       "generation_count        int64\n",
       "seed                    int64\n",
       "mutation_threshold    float64\n",
       "key_size                int64\n",
       "population_size         int64\n",
       "global_min            float64\n",
       "global_max            float64\n",
       "selection_min         float64\n",
       "selection_max         float64\n",
       "best_individual        object\n",
       "elapsed               float64\n",
       "hamming_distance        int64\n",
       "weights                object\n",
       "target                float64\n",
       "original_key           object\n",
       "text_length             int64\n",
       "path                   object\n",
       "score                 float64\n",
       "progress              float64\n",
       "dtype: object"
      ]
     },
     "execution_count": 25,
     "metadata": {},
     "output_type": "execute_result"
    }
   ],
   "source": [
    "data.dtypes"
   ]
  },
  {
   "cell_type": "code",
   "execution_count": 26,
   "id": "17b05066",
   "metadata": {},
   "outputs": [
    {
     "data": {
      "text/html": [
       "<div>\n",
       "<style scoped>\n",
       "    .dataframe tbody tr th:only-of-type {\n",
       "        vertical-align: middle;\n",
       "    }\n",
       "\n",
       "    .dataframe tbody tr th {\n",
       "        vertical-align: top;\n",
       "    }\n",
       "\n",
       "    .dataframe thead th {\n",
       "        text-align: right;\n",
       "    }\n",
       "</style>\n",
       "<table border=\"1\" class=\"dataframe\">\n",
       "  <thead>\n",
       "    <tr style=\"text-align: right;\">\n",
       "      <th></th>\n",
       "      <th>Unnamed: 0.1</th>\n",
       "      <th>generation</th>\n",
       "      <th>generation_count</th>\n",
       "      <th>seed</th>\n",
       "      <th>mutation_threshold</th>\n",
       "      <th>key_size</th>\n",
       "      <th>population_size</th>\n",
       "      <th>global_min</th>\n",
       "      <th>global_max</th>\n",
       "      <th>selection_min</th>\n",
       "      <th>selection_max</th>\n",
       "      <th>best_individual</th>\n",
       "      <th>elapsed</th>\n",
       "      <th>hamming_distance</th>\n",
       "      <th>target</th>\n",
       "      <th>original_key</th>\n",
       "      <th>text_length</th>\n",
       "      <th>path</th>\n",
       "      <th>score</th>\n",
       "      <th>progress</th>\n",
       "    </tr>\n",
       "    <tr>\n",
       "      <th>weights</th>\n",
       "      <th></th>\n",
       "      <th></th>\n",
       "      <th></th>\n",
       "      <th></th>\n",
       "      <th></th>\n",
       "      <th></th>\n",
       "      <th></th>\n",
       "      <th></th>\n",
       "      <th></th>\n",
       "      <th></th>\n",
       "      <th></th>\n",
       "      <th></th>\n",
       "      <th></th>\n",
       "      <th></th>\n",
       "      <th></th>\n",
       "      <th></th>\n",
       "      <th></th>\n",
       "      <th></th>\n",
       "      <th></th>\n",
       "      <th></th>\n",
       "    </tr>\n",
       "  </thead>\n",
       "  <tbody>\n",
       "    <tr>\n",
       "      <th>[0, 0, 1]</th>\n",
       "      <td>25049</td>\n",
       "      <td>25049</td>\n",
       "      <td>25049</td>\n",
       "      <td>25049</td>\n",
       "      <td>25049</td>\n",
       "      <td>25049</td>\n",
       "      <td>25049</td>\n",
       "      <td>25049</td>\n",
       "      <td>25049</td>\n",
       "      <td>25049</td>\n",
       "      <td>25049</td>\n",
       "      <td>25049</td>\n",
       "      <td>25049</td>\n",
       "      <td>25049</td>\n",
       "      <td>25049</td>\n",
       "      <td>25049</td>\n",
       "      <td>25049</td>\n",
       "      <td>25049</td>\n",
       "      <td>25049</td>\n",
       "      <td>25049</td>\n",
       "    </tr>\n",
       "    <tr>\n",
       "      <th>[0, 1, 0]</th>\n",
       "      <td>25595</td>\n",
       "      <td>25595</td>\n",
       "      <td>25595</td>\n",
       "      <td>25595</td>\n",
       "      <td>25595</td>\n",
       "      <td>25595</td>\n",
       "      <td>25595</td>\n",
       "      <td>25595</td>\n",
       "      <td>25595</td>\n",
       "      <td>25595</td>\n",
       "      <td>25595</td>\n",
       "      <td>25595</td>\n",
       "      <td>25595</td>\n",
       "      <td>25595</td>\n",
       "      <td>25595</td>\n",
       "      <td>25595</td>\n",
       "      <td>25595</td>\n",
       "      <td>25595</td>\n",
       "      <td>25595</td>\n",
       "      <td>25595</td>\n",
       "    </tr>\n",
       "    <tr>\n",
       "      <th>[0.6, 0.3, 0.1]</th>\n",
       "      <td>25129</td>\n",
       "      <td>25129</td>\n",
       "      <td>25129</td>\n",
       "      <td>25129</td>\n",
       "      <td>25129</td>\n",
       "      <td>25129</td>\n",
       "      <td>25129</td>\n",
       "      <td>25129</td>\n",
       "      <td>25129</td>\n",
       "      <td>25129</td>\n",
       "      <td>25129</td>\n",
       "      <td>25129</td>\n",
       "      <td>25129</td>\n",
       "      <td>25129</td>\n",
       "      <td>25129</td>\n",
       "      <td>25129</td>\n",
       "      <td>25129</td>\n",
       "      <td>25129</td>\n",
       "      <td>25129</td>\n",
       "      <td>25129</td>\n",
       "    </tr>\n",
       "    <tr>\n",
       "      <th>[1, 0, 0]</th>\n",
       "      <td>26288</td>\n",
       "      <td>26288</td>\n",
       "      <td>26288</td>\n",
       "      <td>26288</td>\n",
       "      <td>26288</td>\n",
       "      <td>26288</td>\n",
       "      <td>26288</td>\n",
       "      <td>26288</td>\n",
       "      <td>26288</td>\n",
       "      <td>26288</td>\n",
       "      <td>26288</td>\n",
       "      <td>26288</td>\n",
       "      <td>26288</td>\n",
       "      <td>26288</td>\n",
       "      <td>26288</td>\n",
       "      <td>26288</td>\n",
       "      <td>26288</td>\n",
       "      <td>26288</td>\n",
       "      <td>26288</td>\n",
       "      <td>26288</td>\n",
       "    </tr>\n",
       "  </tbody>\n",
       "</table>\n",
       "</div>"
      ],
      "text/plain": [
       "                 Unnamed: 0.1  generation  generation_count   seed  \\\n",
       "weights                                                              \n",
       "[0, 0, 1]               25049       25049             25049  25049   \n",
       "[0, 1, 0]               25595       25595             25595  25595   \n",
       "[0.6, 0.3, 0.1]         25129       25129             25129  25129   \n",
       "[1, 0, 0]               26288       26288             26288  26288   \n",
       "\n",
       "                 mutation_threshold  key_size  population_size  global_min  \\\n",
       "weights                                                                      \n",
       "[0, 0, 1]                     25049     25049            25049       25049   \n",
       "[0, 1, 0]                     25595     25595            25595       25595   \n",
       "[0.6, 0.3, 0.1]               25129     25129            25129       25129   \n",
       "[1, 0, 0]                     26288     26288            26288       26288   \n",
       "\n",
       "                 global_max  selection_min  selection_max  best_individual  \\\n",
       "weights                                                                      \n",
       "[0, 0, 1]             25049          25049          25049            25049   \n",
       "[0, 1, 0]             25595          25595          25595            25595   \n",
       "[0.6, 0.3, 0.1]       25129          25129          25129            25129   \n",
       "[1, 0, 0]             26288          26288          26288            26288   \n",
       "\n",
       "                 elapsed  hamming_distance  target  original_key  text_length  \\\n",
       "weights                                                                         \n",
       "[0, 0, 1]          25049             25049   25049         25049        25049   \n",
       "[0, 1, 0]          25595             25595   25595         25595        25595   \n",
       "[0.6, 0.3, 0.1]    25129             25129   25129         25129        25129   \n",
       "[1, 0, 0]          26288             26288   26288         26288        26288   \n",
       "\n",
       "                  path  score  progress  \n",
       "weights                                  \n",
       "[0, 0, 1]        25049  25049     25049  \n",
       "[0, 1, 0]        25595  25595     25595  \n",
       "[0.6, 0.3, 0.1]  25129  25129     25129  \n",
       "[1, 0, 0]        26288  26288     26288  "
      ]
     },
     "execution_count": 26,
     "metadata": {},
     "output_type": "execute_result"
    }
   ],
   "source": [
    "data.groupby(\"weights\").count()"
   ]
  },
  {
   "cell_type": "code",
   "execution_count": 27,
   "id": "00f52c5b",
   "metadata": {},
   "outputs": [
    {
     "data": {
      "text/plain": [
       "<AxesSubplot:xlabel='weights_last'>"
      ]
     },
     "execution_count": 27,
     "metadata": {},
     "output_type": "execute_result"
    },
    {
     "data": {
      "image/png": "[encoded data removed]",
      "text/plain": [
       "<Figure size 432x288 with 1 Axes>"
      ]
     },
     "metadata": {
      "needs_background": "light"
     },
     "output_type": "display_data"
    }
   ],
   "source": [
    "progress.groupby([\"weights_last\", \"finished\"])[\"seed_count\"].count().unstack().plot(kind=\"bar\", stacked=True)"
   ]
  },
  {
   "cell_type": "code",
   "execution_count": null,
   "id": "71d1cb48",
   "metadata": {},
   "outputs": [],
   "source": []
  },
  {
   "cell_type": "code",
   "execution_count": null,
   "id": "3df33940",
   "metadata": {},
   "outputs": [],
   "source": []
  },
  {
   "cell_type": "code",
   "execution_count": null,
   "id": "eda99195",
   "metadata": {},
   "outputs": [],
   "source": []
  }
 ],
 "metadata": {
  "kernelspec": {
   "display_name": "Python 3 (ipykernel)",
   "language": "python",
   "name": "python3"
  },
  "language_info": {
   "codemirror_mode": {
    "name": "ipython",
    "version": 3
   },
   "file_extension": ".py",
   "mimetype": "text/x-python",
   "name": "python",
   "nbconvert_exporter": "python",
   "pygments_lexer": "ipython3",
   "version": "3.9.7"
  }
 },
 "nbformat": 4,
 "nbformat_minor": 5
}
