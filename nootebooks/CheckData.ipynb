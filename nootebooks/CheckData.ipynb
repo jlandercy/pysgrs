{
 "cells": [
  {
   "cell_type": "code",
   "execution_count": 1,
   "id": "58940d69",
   "metadata": {},
   "outputs": [],
   "source": [
    "import pathlib\n",
    "import pandas as pd\n",
    "import matplotlib.pyplot as plt"
   ]
  },
  {
   "cell_type": "raw",
   "id": "13b65b28",
   "metadata": {},
   "source": [
    "paths = list(pathlib.Path(\"../media\").glob(\"*.xlsx\"))\n",
    "paths"
   ]
  },
  {
   "cell_type": "raw",
   "id": "1c1d9e8f",
   "metadata": {},
   "source": [
    "frames = []\n",
    "for path in paths:\n",
    "    frame = pd.read_excel(path).assign(path=path)\n",
    "    frames.append(frame)\n",
    "data = pd.concat(frames)"
   ]
  },
  {
   "cell_type": "code",
   "execution_count": 41,
   "id": "64dfdfc2",
   "metadata": {},
   "outputs": [],
   "source": [
    "data = pd.read_excel(\"../media/break_vigenere_20221105_FirstTest.xlsx\")"
   ]
  },
  {
   "cell_type": "code",
   "execution_count": 42,
   "id": "f5658903",
   "metadata": {},
   "outputs": [],
   "source": [
    "data = data.drop(\"Unnamed: 0\", axis=1)"
   ]
  },
  {
   "cell_type": "code",
   "execution_count": 43,
   "id": "bf6f6dd5",
   "metadata": {},
   "outputs": [],
   "source": [
    "data[\"score\"] = data[\"selection_max\"]/data[\"target\"]\n",
    "data[\"progress\"] = 1 - data[\"hamming_distance\"]/data[\"key_size\"]"
   ]
  },
  {
   "cell_type": "code",
   "execution_count": 44,
   "id": "90c25a78",
   "metadata": {},
   "outputs": [
    {
     "data": {
      "text/html": [
       "<div>\n",
       "<style scoped>\n",
       "    .dataframe tbody tr th:only-of-type {\n",
       "        vertical-align: middle;\n",
       "    }\n",
       "\n",
       "    .dataframe tbody tr th {\n",
       "        vertical-align: top;\n",
       "    }\n",
       "\n",
       "    .dataframe thead th {\n",
       "        text-align: right;\n",
       "    }\n",
       "</style>\n",
       "<table border=\"1\" class=\"dataframe\">\n",
       "  <thead>\n",
       "    <tr style=\"text-align: right;\">\n",
       "      <th></th>\n",
       "      <th>generation</th>\n",
       "      <th>generation_count</th>\n",
       "      <th>seed</th>\n",
       "      <th>mutation_threshold</th>\n",
       "      <th>key_size</th>\n",
       "      <th>population_size</th>\n",
       "      <th>global_min</th>\n",
       "      <th>global_max</th>\n",
       "      <th>selection_min</th>\n",
       "      <th>selection_max</th>\n",
       "      <th>best_individual</th>\n",
       "      <th>elapsed</th>\n",
       "      <th>hamming_distance</th>\n",
       "      <th>weights</th>\n",
       "      <th>target</th>\n",
       "      <th>original_key</th>\n",
       "      <th>text_length</th>\n",
       "      <th>path</th>\n",
       "      <th>score</th>\n",
       "      <th>progress</th>\n",
       "    </tr>\n",
       "  </thead>\n",
       "  <tbody>\n",
       "    <tr>\n",
       "      <th>0</th>\n",
       "      <td>1</td>\n",
       "      <td>50</td>\n",
       "      <td>123456789</td>\n",
       "      <td>0.50</td>\n",
       "      <td>6</td>\n",
       "      <td>10</td>\n",
       "      <td>-2576.095225</td>\n",
       "      <td>-2280.620646</td>\n",
       "      <td>-2495.653214</td>\n",
       "      <td>-2280.620646</td>\n",
       "      <td>PUOSEM</td>\n",
       "      <td>0.057949</td>\n",
       "      <td>5</td>\n",
       "      <td>[0.6, 0.3, 0.1]</td>\n",
       "      <td>-1357.979929</td>\n",
       "      <td>SECRET</td>\n",
       "      <td>1174</td>\n",
       "      <td>pysgrs\\resources\\texts\\fr\\baudelaire.txt</td>\n",
       "      <td>1.679421</td>\n",
       "      <td>0.166667</td>\n",
       "    </tr>\n",
       "    <tr>\n",
       "      <th>1</th>\n",
       "      <td>2</td>\n",
       "      <td>50</td>\n",
       "      <td>123456789</td>\n",
       "      <td>0.50</td>\n",
       "      <td>6</td>\n",
       "      <td>10</td>\n",
       "      <td>-2506.191179</td>\n",
       "      <td>-2280.620646</td>\n",
       "      <td>-2446.151979</td>\n",
       "      <td>-2280.620646</td>\n",
       "      <td>PUOSEM</td>\n",
       "      <td>0.061206</td>\n",
       "      <td>5</td>\n",
       "      <td>[0.6, 0.3, 0.1]</td>\n",
       "      <td>-1357.979929</td>\n",
       "      <td>SECRET</td>\n",
       "      <td>1174</td>\n",
       "      <td>pysgrs\\resources\\texts\\fr\\baudelaire.txt</td>\n",
       "      <td>1.679421</td>\n",
       "      <td>0.166667</td>\n",
       "    </tr>\n",
       "    <tr>\n",
       "      <th>2</th>\n",
       "      <td>3</td>\n",
       "      <td>50</td>\n",
       "      <td>123456789</td>\n",
       "      <td>0.50</td>\n",
       "      <td>6</td>\n",
       "      <td>10</td>\n",
       "      <td>-2462.217341</td>\n",
       "      <td>-2280.620646</td>\n",
       "      <td>-2404.375268</td>\n",
       "      <td>-2280.620646</td>\n",
       "      <td>PUOSEM</td>\n",
       "      <td>0.057754</td>\n",
       "      <td>5</td>\n",
       "      <td>[0.6, 0.3, 0.1]</td>\n",
       "      <td>-1357.979929</td>\n",
       "      <td>SECRET</td>\n",
       "      <td>1174</td>\n",
       "      <td>pysgrs\\resources\\texts\\fr\\baudelaire.txt</td>\n",
       "      <td>1.679421</td>\n",
       "      <td>0.166667</td>\n",
       "    </tr>\n",
       "    <tr>\n",
       "      <th>3</th>\n",
       "      <td>4</td>\n",
       "      <td>50</td>\n",
       "      <td>123456789</td>\n",
       "      <td>0.50</td>\n",
       "      <td>6</td>\n",
       "      <td>10</td>\n",
       "      <td>-2527.355676</td>\n",
       "      <td>-2183.031944</td>\n",
       "      <td>-2374.401020</td>\n",
       "      <td>-2183.031944</td>\n",
       "      <td>SAEZEU</td>\n",
       "      <td>0.057145</td>\n",
       "      <td>4</td>\n",
       "      <td>[0.6, 0.3, 0.1]</td>\n",
       "      <td>-1357.979929</td>\n",
       "      <td>SECRET</td>\n",
       "      <td>1174</td>\n",
       "      <td>pysgrs\\resources\\texts\\fr\\baudelaire.txt</td>\n",
       "      <td>1.607558</td>\n",
       "      <td>0.333333</td>\n",
       "    </tr>\n",
       "    <tr>\n",
       "      <th>4</th>\n",
       "      <td>5</td>\n",
       "      <td>50</td>\n",
       "      <td>123456789</td>\n",
       "      <td>0.50</td>\n",
       "      <td>6</td>\n",
       "      <td>10</td>\n",
       "      <td>-2505.820515</td>\n",
       "      <td>-2096.441564</td>\n",
       "      <td>-2297.222370</td>\n",
       "      <td>-2096.441564</td>\n",
       "      <td>SAEDEU</td>\n",
       "      <td>0.058003</td>\n",
       "      <td>4</td>\n",
       "      <td>[0.6, 0.3, 0.1]</td>\n",
       "      <td>-1357.979929</td>\n",
       "      <td>SECRET</td>\n",
       "      <td>1174</td>\n",
       "      <td>pysgrs\\resources\\texts\\fr\\baudelaire.txt</td>\n",
       "      <td>1.543794</td>\n",
       "      <td>0.333333</td>\n",
       "    </tr>\n",
       "    <tr>\n",
       "      <th>...</th>\n",
       "      <td>...</td>\n",
       "      <td>...</td>\n",
       "      <td>...</td>\n",
       "      <td>...</td>\n",
       "      <td>...</td>\n",
       "      <td>...</td>\n",
       "      <td>...</td>\n",
       "      <td>...</td>\n",
       "      <td>...</td>\n",
       "      <td>...</td>\n",
       "      <td>...</td>\n",
       "      <td>...</td>\n",
       "      <td>...</td>\n",
       "      <td>...</td>\n",
       "      <td>...</td>\n",
       "      <td>...</td>\n",
       "      <td>...</td>\n",
       "      <td>...</td>\n",
       "      <td>...</td>\n",
       "      <td>...</td>\n",
       "    </tr>\n",
       "    <tr>\n",
       "      <th>102056</th>\n",
       "      <td>46</td>\n",
       "      <td>50</td>\n",
       "      <td>546987123</td>\n",
       "      <td>0.99</td>\n",
       "      <td>27</td>\n",
       "      <td>1000</td>\n",
       "      <td>-423.814850</td>\n",
       "      <td>-345.051340</td>\n",
       "      <td>-354.146961</td>\n",
       "      <td>-345.051340</td>\n",
       "      <td>OMLIIRHIWJKLINOPTROKATUWQMZ</td>\n",
       "      <td>0.748665</td>\n",
       "      <td>18</td>\n",
       "      <td>[0, 0, 1]</td>\n",
       "      <td>-369.270453</td>\n",
       "      <td>ABCDEFGHIJKLMNOPQRSTUZVWXYZ</td>\n",
       "      <td>123</td>\n",
       "      <td>pysgrs\\resources\\texts\\fr\\voltaire.txt</td>\n",
       "      <td>0.934414</td>\n",
       "      <td>0.333333</td>\n",
       "    </tr>\n",
       "    <tr>\n",
       "      <th>102057</th>\n",
       "      <td>47</td>\n",
       "      <td>50</td>\n",
       "      <td>546987123</td>\n",
       "      <td>0.99</td>\n",
       "      <td>27</td>\n",
       "      <td>1000</td>\n",
       "      <td>-410.302003</td>\n",
       "      <td>-344.488410</td>\n",
       "      <td>-352.342129</td>\n",
       "      <td>-344.488410</td>\n",
       "      <td>OMLIIRHIWJKLINOPTROKRGUWQMZ</td>\n",
       "      <td>0.739885</td>\n",
       "      <td>18</td>\n",
       "      <td>[0, 0, 1]</td>\n",
       "      <td>-369.270453</td>\n",
       "      <td>ABCDEFGHIJKLMNOPQRSTUZVWXYZ</td>\n",
       "      <td>123</td>\n",
       "      <td>pysgrs\\resources\\texts\\fr\\voltaire.txt</td>\n",
       "      <td>0.932889</td>\n",
       "      <td>0.333333</td>\n",
       "    </tr>\n",
       "    <tr>\n",
       "      <th>102058</th>\n",
       "      <td>48</td>\n",
       "      <td>50</td>\n",
       "      <td>546987123</td>\n",
       "      <td>0.99</td>\n",
       "      <td>27</td>\n",
       "      <td>1000</td>\n",
       "      <td>-421.507638</td>\n",
       "      <td>-344.488410</td>\n",
       "      <td>-350.769865</td>\n",
       "      <td>-344.488410</td>\n",
       "      <td>OMLIIRHIWJKLINOPTROKRGUWQMZ</td>\n",
       "      <td>0.757103</td>\n",
       "      <td>18</td>\n",
       "      <td>[0, 0, 1]</td>\n",
       "      <td>-369.270453</td>\n",
       "      <td>ABCDEFGHIJKLMNOPQRSTUZVWXYZ</td>\n",
       "      <td>123</td>\n",
       "      <td>pysgrs\\resources\\texts\\fr\\voltaire.txt</td>\n",
       "      <td>0.932889</td>\n",
       "      <td>0.333333</td>\n",
       "    </tr>\n",
       "    <tr>\n",
       "      <th>102059</th>\n",
       "      <td>49</td>\n",
       "      <td>50</td>\n",
       "      <td>546987123</td>\n",
       "      <td>0.99</td>\n",
       "      <td>27</td>\n",
       "      <td>1000</td>\n",
       "      <td>-404.692866</td>\n",
       "      <td>-344.488410</td>\n",
       "      <td>-348.531768</td>\n",
       "      <td>-344.488410</td>\n",
       "      <td>OMLIIRHIWJKLINOPTROKRGUWQMZ</td>\n",
       "      <td>0.706018</td>\n",
       "      <td>18</td>\n",
       "      <td>[0, 0, 1]</td>\n",
       "      <td>-369.270453</td>\n",
       "      <td>ABCDEFGHIJKLMNOPQRSTUZVWXYZ</td>\n",
       "      <td>123</td>\n",
       "      <td>pysgrs\\resources\\texts\\fr\\voltaire.txt</td>\n",
       "      <td>0.932889</td>\n",
       "      <td>0.333333</td>\n",
       "    </tr>\n",
       "    <tr>\n",
       "      <th>102060</th>\n",
       "      <td>50</td>\n",
       "      <td>50</td>\n",
       "      <td>546987123</td>\n",
       "      <td>0.99</td>\n",
       "      <td>27</td>\n",
       "      <td>1000</td>\n",
       "      <td>-402.127467</td>\n",
       "      <td>-344.488410</td>\n",
       "      <td>-346.519828</td>\n",
       "      <td>-344.488410</td>\n",
       "      <td>OMLIIRHIWJKLINOPTROKRGUWQMZ</td>\n",
       "      <td>0.788403</td>\n",
       "      <td>18</td>\n",
       "      <td>[0, 0, 1]</td>\n",
       "      <td>-369.270453</td>\n",
       "      <td>ABCDEFGHIJKLMNOPQRSTUZVWXYZ</td>\n",
       "      <td>123</td>\n",
       "      <td>pysgrs\\resources\\texts\\fr\\voltaire.txt</td>\n",
       "      <td>0.932889</td>\n",
       "      <td>0.333333</td>\n",
       "    </tr>\n",
       "  </tbody>\n",
       "</table>\n",
       "<p>102061 rows × 20 columns</p>\n",
       "</div>"
      ],
      "text/plain": [
       "        generation  generation_count       seed  mutation_threshold  key_size  \\\n",
       "0                1                50  123456789                0.50         6   \n",
       "1                2                50  123456789                0.50         6   \n",
       "2                3                50  123456789                0.50         6   \n",
       "3                4                50  123456789                0.50         6   \n",
       "4                5                50  123456789                0.50         6   \n",
       "...            ...               ...        ...                 ...       ...   \n",
       "102056          46                50  546987123                0.99        27   \n",
       "102057          47                50  546987123                0.99        27   \n",
       "102058          48                50  546987123                0.99        27   \n",
       "102059          49                50  546987123                0.99        27   \n",
       "102060          50                50  546987123                0.99        27   \n",
       "\n",
       "        population_size   global_min   global_max  selection_min  \\\n",
       "0                    10 -2576.095225 -2280.620646   -2495.653214   \n",
       "1                    10 -2506.191179 -2280.620646   -2446.151979   \n",
       "2                    10 -2462.217341 -2280.620646   -2404.375268   \n",
       "3                    10 -2527.355676 -2183.031944   -2374.401020   \n",
       "4                    10 -2505.820515 -2096.441564   -2297.222370   \n",
       "...                 ...          ...          ...            ...   \n",
       "102056             1000  -423.814850  -345.051340    -354.146961   \n",
       "102057             1000  -410.302003  -344.488410    -352.342129   \n",
       "102058             1000  -421.507638  -344.488410    -350.769865   \n",
       "102059             1000  -404.692866  -344.488410    -348.531768   \n",
       "102060             1000  -402.127467  -344.488410    -346.519828   \n",
       "\n",
       "        selection_max              best_individual   elapsed  \\\n",
       "0        -2280.620646                       PUOSEM  0.057949   \n",
       "1        -2280.620646                       PUOSEM  0.061206   \n",
       "2        -2280.620646                       PUOSEM  0.057754   \n",
       "3        -2183.031944                       SAEZEU  0.057145   \n",
       "4        -2096.441564                       SAEDEU  0.058003   \n",
       "...               ...                          ...       ...   \n",
       "102056    -345.051340  OMLIIRHIWJKLINOPTROKATUWQMZ  0.748665   \n",
       "102057    -344.488410  OMLIIRHIWJKLINOPTROKRGUWQMZ  0.739885   \n",
       "102058    -344.488410  OMLIIRHIWJKLINOPTROKRGUWQMZ  0.757103   \n",
       "102059    -344.488410  OMLIIRHIWJKLINOPTROKRGUWQMZ  0.706018   \n",
       "102060    -344.488410  OMLIIRHIWJKLINOPTROKRGUWQMZ  0.788403   \n",
       "\n",
       "        hamming_distance          weights       target  \\\n",
       "0                      5  [0.6, 0.3, 0.1] -1357.979929   \n",
       "1                      5  [0.6, 0.3, 0.1] -1357.979929   \n",
       "2                      5  [0.6, 0.3, 0.1] -1357.979929   \n",
       "3                      4  [0.6, 0.3, 0.1] -1357.979929   \n",
       "4                      4  [0.6, 0.3, 0.1] -1357.979929   \n",
       "...                  ...              ...          ...   \n",
       "102056                18        [0, 0, 1]  -369.270453   \n",
       "102057                18        [0, 0, 1]  -369.270453   \n",
       "102058                18        [0, 0, 1]  -369.270453   \n",
       "102059                18        [0, 0, 1]  -369.270453   \n",
       "102060                18        [0, 0, 1]  -369.270453   \n",
       "\n",
       "                       original_key  text_length  \\\n",
       "0                            SECRET         1174   \n",
       "1                            SECRET         1174   \n",
       "2                            SECRET         1174   \n",
       "3                            SECRET         1174   \n",
       "4                            SECRET         1174   \n",
       "...                             ...          ...   \n",
       "102056  ABCDEFGHIJKLMNOPQRSTUZVWXYZ          123   \n",
       "102057  ABCDEFGHIJKLMNOPQRSTUZVWXYZ          123   \n",
       "102058  ABCDEFGHIJKLMNOPQRSTUZVWXYZ          123   \n",
       "102059  ABCDEFGHIJKLMNOPQRSTUZVWXYZ          123   \n",
       "102060  ABCDEFGHIJKLMNOPQRSTUZVWXYZ          123   \n",
       "\n",
       "                                            path     score  progress  \n",
       "0       pysgrs\\resources\\texts\\fr\\baudelaire.txt  1.679421  0.166667  \n",
       "1       pysgrs\\resources\\texts\\fr\\baudelaire.txt  1.679421  0.166667  \n",
       "2       pysgrs\\resources\\texts\\fr\\baudelaire.txt  1.679421  0.166667  \n",
       "3       pysgrs\\resources\\texts\\fr\\baudelaire.txt  1.607558  0.333333  \n",
       "4       pysgrs\\resources\\texts\\fr\\baudelaire.txt  1.543794  0.333333  \n",
       "...                                          ...       ...       ...  \n",
       "102056    pysgrs\\resources\\texts\\fr\\voltaire.txt  0.934414  0.333333  \n",
       "102057    pysgrs\\resources\\texts\\fr\\voltaire.txt  0.932889  0.333333  \n",
       "102058    pysgrs\\resources\\texts\\fr\\voltaire.txt  0.932889  0.333333  \n",
       "102059    pysgrs\\resources\\texts\\fr\\voltaire.txt  0.932889  0.333333  \n",
       "102060    pysgrs\\resources\\texts\\fr\\voltaire.txt  0.932889  0.333333  \n",
       "\n",
       "[102061 rows x 20 columns]"
      ]
     },
     "execution_count": 44,
     "metadata": {},
     "output_type": "execute_result"
    }
   ],
   "source": [
    "data"
   ]
  },
  {
   "cell_type": "code",
   "execution_count": 45,
   "id": "04f5e0da",
   "metadata": {},
   "outputs": [
    {
     "data": {
      "text/plain": [
       "generation              int64\n",
       "generation_count        int64\n",
       "seed                    int64\n",
       "mutation_threshold    float64\n",
       "key_size                int64\n",
       "population_size         int64\n",
       "global_min            float64\n",
       "global_max            float64\n",
       "selection_min         float64\n",
       "selection_max         float64\n",
       "best_individual        object\n",
       "elapsed               float64\n",
       "hamming_distance        int64\n",
       "weights                object\n",
       "target                float64\n",
       "original_key           object\n",
       "text_length             int64\n",
       "path                   object\n",
       "score                 float64\n",
       "progress              float64\n",
       "dtype: object"
      ]
     },
     "execution_count": 45,
     "metadata": {},
     "output_type": "execute_result"
    }
   ],
   "source": [
    "data.dtypes"
   ]
  },
  {
   "cell_type": "code",
   "execution_count": 46,
   "id": "d0609ca6",
   "metadata": {},
   "outputs": [
    {
     "data": {
      "text/html": [
       "<div>\n",
       "<style scoped>\n",
       "    .dataframe tbody tr th:only-of-type {\n",
       "        vertical-align: middle;\n",
       "    }\n",
       "\n",
       "    .dataframe tbody tr th {\n",
       "        vertical-align: top;\n",
       "    }\n",
       "\n",
       "    .dataframe thead th {\n",
       "        text-align: right;\n",
       "    }\n",
       "</style>\n",
       "<table border=\"1\" class=\"dataframe\">\n",
       "  <thead>\n",
       "    <tr style=\"text-align: right;\">\n",
       "      <th></th>\n",
       "      <th>seed_count</th>\n",
       "      <th>weights_last</th>\n",
       "      <th>population_size_last</th>\n",
       "      <th>mutation_threshold_last</th>\n",
       "      <th>key_size_last</th>\n",
       "      <th>hamming_distance_last</th>\n",
       "      <th>global_min_first</th>\n",
       "      <th>selection_max_last</th>\n",
       "      <th>target_last</th>\n",
       "      <th>text_length_last</th>\n",
       "      <th>elapsed_mean</th>\n",
       "      <th>elapsed_sum</th>\n",
       "      <th>finished</th>\n",
       "      <th>symbol_progress</th>\n",
       "      <th>score_progress</th>\n",
       "    </tr>\n",
       "    <tr>\n",
       "      <th>path</th>\n",
       "      <th></th>\n",
       "      <th></th>\n",
       "      <th></th>\n",
       "      <th></th>\n",
       "      <th></th>\n",
       "      <th></th>\n",
       "      <th></th>\n",
       "      <th></th>\n",
       "      <th></th>\n",
       "      <th></th>\n",
       "      <th></th>\n",
       "      <th></th>\n",
       "      <th></th>\n",
       "      <th></th>\n",
       "      <th></th>\n",
       "    </tr>\n",
       "  </thead>\n",
       "  <tbody>\n",
       "    <tr>\n",
       "      <th>pysgrs\\resources\\texts\\fr\\baudelaire.txt</th>\n",
       "      <td>24721</td>\n",
       "      <td>[0, 0, 1]</td>\n",
       "      <td>1000</td>\n",
       "      <td>0.99</td>\n",
       "      <td>27</td>\n",
       "      <td>0</td>\n",
       "      <td>-2576.095225</td>\n",
       "      <td>-2740.210118</td>\n",
       "      <td>-2740.210118</td>\n",
       "      <td>1174</td>\n",
       "      <td>1.730340</td>\n",
       "      <td>42775.747130</td>\n",
       "      <td>True</td>\n",
       "      <td>1.000000</td>\n",
       "      <td>1.000000</td>\n",
       "    </tr>\n",
       "    <tr>\n",
       "      <th>pysgrs\\resources\\texts\\fr\\rouseau.txt</th>\n",
       "      <td>23579</td>\n",
       "      <td>[0, 0, 1]</td>\n",
       "      <td>1000</td>\n",
       "      <td>0.99</td>\n",
       "      <td>27</td>\n",
       "      <td>0</td>\n",
       "      <td>-15658.738257</td>\n",
       "      <td>-16384.279514</td>\n",
       "      <td>-16384.279514</td>\n",
       "      <td>5671</td>\n",
       "      <td>8.044825</td>\n",
       "      <td>189688.930667</td>\n",
       "      <td>True</td>\n",
       "      <td>1.000000</td>\n",
       "      <td>1.000000</td>\n",
       "    </tr>\n",
       "    <tr>\n",
       "      <th>pysgrs\\resources\\texts\\fr\\trial.txt</th>\n",
       "      <td>24375</td>\n",
       "      <td>[0, 0, 1]</td>\n",
       "      <td>1000</td>\n",
       "      <td>0.99</td>\n",
       "      <td>27</td>\n",
       "      <td>1</td>\n",
       "      <td>-2497.762668</td>\n",
       "      <td>-2696.439725</td>\n",
       "      <td>-2596.303095</td>\n",
       "      <td>885</td>\n",
       "      <td>1.285359</td>\n",
       "      <td>31330.613480</td>\n",
       "      <td>False</td>\n",
       "      <td>0.962963</td>\n",
       "      <td>2.016198</td>\n",
       "    </tr>\n",
       "    <tr>\n",
       "      <th>pysgrs\\resources\\texts\\fr\\voltaire.txt</th>\n",
       "      <td>29386</td>\n",
       "      <td>[0, 0, 1]</td>\n",
       "      <td>1000</td>\n",
       "      <td>0.99</td>\n",
       "      <td>27</td>\n",
       "      <td>18</td>\n",
       "      <td>-347.675766</td>\n",
       "      <td>-344.488410</td>\n",
       "      <td>-369.270453</td>\n",
       "      <td>123</td>\n",
       "      <td>0.267752</td>\n",
       "      <td>7868.164145</td>\n",
       "      <td>False</td>\n",
       "      <td>0.333333</td>\n",
       "      <td>-0.147599</td>\n",
       "    </tr>\n",
       "  </tbody>\n",
       "</table>\n",
       "</div>"
      ],
      "text/plain": [
       "                                          seed_count weights_last  \\\n",
       "path                                                                \n",
       "pysgrs\\resources\\texts\\fr\\baudelaire.txt       24721    [0, 0, 1]   \n",
       "pysgrs\\resources\\texts\\fr\\rouseau.txt          23579    [0, 0, 1]   \n",
       "pysgrs\\resources\\texts\\fr\\trial.txt            24375    [0, 0, 1]   \n",
       "pysgrs\\resources\\texts\\fr\\voltaire.txt         29386    [0, 0, 1]   \n",
       "\n",
       "                                          population_size_last  \\\n",
       "path                                                             \n",
       "pysgrs\\resources\\texts\\fr\\baudelaire.txt                  1000   \n",
       "pysgrs\\resources\\texts\\fr\\rouseau.txt                     1000   \n",
       "pysgrs\\resources\\texts\\fr\\trial.txt                       1000   \n",
       "pysgrs\\resources\\texts\\fr\\voltaire.txt                    1000   \n",
       "\n",
       "                                          mutation_threshold_last  \\\n",
       "path                                                                \n",
       "pysgrs\\resources\\texts\\fr\\baudelaire.txt                     0.99   \n",
       "pysgrs\\resources\\texts\\fr\\rouseau.txt                        0.99   \n",
       "pysgrs\\resources\\texts\\fr\\trial.txt                          0.99   \n",
       "pysgrs\\resources\\texts\\fr\\voltaire.txt                       0.99   \n",
       "\n",
       "                                          key_size_last  \\\n",
       "path                                                      \n",
       "pysgrs\\resources\\texts\\fr\\baudelaire.txt             27   \n",
       "pysgrs\\resources\\texts\\fr\\rouseau.txt                27   \n",
       "pysgrs\\resources\\texts\\fr\\trial.txt                  27   \n",
       "pysgrs\\resources\\texts\\fr\\voltaire.txt               27   \n",
       "\n",
       "                                          hamming_distance_last  \\\n",
       "path                                                              \n",
       "pysgrs\\resources\\texts\\fr\\baudelaire.txt                      0   \n",
       "pysgrs\\resources\\texts\\fr\\rouseau.txt                         0   \n",
       "pysgrs\\resources\\texts\\fr\\trial.txt                           1   \n",
       "pysgrs\\resources\\texts\\fr\\voltaire.txt                       18   \n",
       "\n",
       "                                          global_min_first  \\\n",
       "path                                                         \n",
       "pysgrs\\resources\\texts\\fr\\baudelaire.txt      -2576.095225   \n",
       "pysgrs\\resources\\texts\\fr\\rouseau.txt        -15658.738257   \n",
       "pysgrs\\resources\\texts\\fr\\trial.txt           -2497.762668   \n",
       "pysgrs\\resources\\texts\\fr\\voltaire.txt         -347.675766   \n",
       "\n",
       "                                          selection_max_last   target_last  \\\n",
       "path                                                                         \n",
       "pysgrs\\resources\\texts\\fr\\baudelaire.txt        -2740.210118  -2740.210118   \n",
       "pysgrs\\resources\\texts\\fr\\rouseau.txt          -16384.279514 -16384.279514   \n",
       "pysgrs\\resources\\texts\\fr\\trial.txt             -2696.439725  -2596.303095   \n",
       "pysgrs\\resources\\texts\\fr\\voltaire.txt           -344.488410   -369.270453   \n",
       "\n",
       "                                          text_length_last  elapsed_mean  \\\n",
       "path                                                                       \n",
       "pysgrs\\resources\\texts\\fr\\baudelaire.txt              1174      1.730340   \n",
       "pysgrs\\resources\\texts\\fr\\rouseau.txt                 5671      8.044825   \n",
       "pysgrs\\resources\\texts\\fr\\trial.txt                    885      1.285359   \n",
       "pysgrs\\resources\\texts\\fr\\voltaire.txt                 123      0.267752   \n",
       "\n",
       "                                            elapsed_sum  finished  \\\n",
       "path                                                                \n",
       "pysgrs\\resources\\texts\\fr\\baudelaire.txt   42775.747130      True   \n",
       "pysgrs\\resources\\texts\\fr\\rouseau.txt     189688.930667      True   \n",
       "pysgrs\\resources\\texts\\fr\\trial.txt        31330.613480     False   \n",
       "pysgrs\\resources\\texts\\fr\\voltaire.txt      7868.164145     False   \n",
       "\n",
       "                                          symbol_progress  score_progress  \n",
       "path                                                                       \n",
       "pysgrs\\resources\\texts\\fr\\baudelaire.txt         1.000000        1.000000  \n",
       "pysgrs\\resources\\texts\\fr\\rouseau.txt            1.000000        1.000000  \n",
       "pysgrs\\resources\\texts\\fr\\trial.txt              0.962963        2.016198  \n",
       "pysgrs\\resources\\texts\\fr\\voltaire.txt           0.333333       -0.147599  "
      ]
     },
     "execution_count": 46,
     "metadata": {},
     "output_type": "execute_result"
    }
   ],
   "source": [
    "progress = data.groupby(\"path\").agg({\n",
    "    \"seed\": \"count\",\n",
    "    \"weights\": \"last\",\n",
    "    \"population_size\": \"last\",\n",
    "    \"mutation_threshold\": \"last\",\n",
    "    \"key_size\": \"last\",\n",
    "    \"hamming_distance\": \"last\",\n",
    "    \"global_min\": \"first\",\n",
    "    \"selection_max\": \"last\",\n",
    "    \"target\": \"last\",\n",
    "    \"text_length\":\"last\",\n",
    "    \"elapsed\": [\"mean\", \"sum\"]\n",
    "})\n",
    "progress.columns = progress.columns.map(lambda x: \"_\".join(x)) #.replace(\"_last\", \"\"))\n",
    "progress[\"finished\"] = progress[\"hamming_distance_last\"] == 0\n",
    "progress[\"symbol_progress\"] = 1 - progress[\"hamming_distance_last\"]/progress[\"key_size_last\"]\n",
    "progress[\"score_progress\"] = 1 - (progress[\"target_last\"] - progress[\"selection_max_last\"])/(progress[\"target_last\"] - progress[\"global_min_first\"])\n",
    "progress"
   ]
  },
  {
   "cell_type": "code",
   "execution_count": 47,
   "id": "2b45a09d",
   "metadata": {},
   "outputs": [],
   "source": [
    "data.query(\"(progress > 0.8) & (original_key == 'SECRET')\")[\"best_individual\"].to_csv(\"text.txt\", index=False)"
   ]
  },
  {
   "cell_type": "code",
   "execution_count": null,
   "id": "0f7f2778",
   "metadata": {},
   "outputs": [],
   "source": []
  },
  {
   "cell_type": "code",
   "execution_count": null,
   "id": "6c7f6743",
   "metadata": {},
   "outputs": [],
   "source": []
  },
  {
   "cell_type": "raw",
   "id": "0bbd7747",
   "metadata": {},
   "source": [
    "fig, axe = plt.subplots(figsize=(15, 10))\n",
    "for key, series in data.reset_index().groupby(\"path\"):\n",
    "    series.plot(x=\"generation\", y=\"hamming_distance\", ax=axe)\n",
    "axe.legend(\"off\")"
   ]
  },
  {
   "cell_type": "raw",
   "id": "5e35b3b7",
   "metadata": {},
   "source": [
    "fig, axe = plt.subplots(figsize=(15, 10))\n",
    "for key, series in data.reset_index().groupby(\"path\"):\n",
    "    series.plot(x=\"generation\", y=\"progress\", ax=axe)\n",
    "axe.legend(\"off\")"
   ]
  },
  {
   "cell_type": "raw",
   "id": "56028ce3",
   "metadata": {},
   "source": [
    "fig, axe = plt.subplots(figsize=(15, 10))\n",
    "for key, series in data.reset_index().groupby(\"path\"):\n",
    "    series.plot(x=\"generation\", y=\"score\", ax=axe)\n",
    "axe.legend(\"off\")"
   ]
  },
  {
   "cell_type": "code",
   "execution_count": null,
   "id": "c96a501b",
   "metadata": {},
   "outputs": [],
   "source": []
  },
  {
   "cell_type": "code",
   "execution_count": 48,
   "id": "4a190002",
   "metadata": {},
   "outputs": [
    {
     "data": {
      "text/plain": [
       "<AxesSubplot:xlabel='key_size_last'>"
      ]
     },
     "execution_count": 48,
     "metadata": {},
     "output_type": "execute_result"
    },
    {
     "data": {
      "image/png": "[encoded data removed]",
      "text/plain": [
       "<Figure size 432x288 with 1 Axes>"
      ]
     },
     "metadata": {
      "needs_background": "light"
     },
     "output_type": "display_data"
    }
   ],
   "source": [
    "progress.pivot_table(\n",
    "    index=\"key_size_last\", columns=\"finished\", values=\"seed_count\", aggfunc=\"count\"\n",
    ").plot(kind=\"bar\", stacked=\"true\")"
   ]
  },
  {
   "cell_type": "code",
   "execution_count": 49,
   "id": "e72306c9",
   "metadata": {},
   "outputs": [
    {
     "data": {
      "text/plain": [
       "<AxesSubplot:xlabel='population_size_last'>"
      ]
     },
     "execution_count": 49,
     "metadata": {},
     "output_type": "execute_result"
    },
    {
     "data": {
      "image/png": "[encoded data removed]",
      "text/plain": [
       "<Figure size 432x288 with 1 Axes>"
      ]
     },
     "metadata": {
      "needs_background": "light"
     },
     "output_type": "display_data"
    }
   ],
   "source": [
    "progress.pivot_table(\n",
    "    index=\"population_size_last\", columns=\"finished\", values=\"seed_count\", aggfunc=\"count\"\n",
    ").plot(kind=\"bar\", stacked=\"true\")"
   ]
  },
  {
   "cell_type": "code",
   "execution_count": 50,
   "id": "55025893",
   "metadata": {},
   "outputs": [
    {
     "data": {
      "text/plain": [
       "<AxesSubplot:xlabel='mutation_threshold_last'>"
      ]
     },
     "execution_count": 50,
     "metadata": {},
     "output_type": "execute_result"
    },
    {
     "data": {
      "image/png": "[encoded data removed]",
      "text/plain": [
       "<Figure size 432x288 with 1 Axes>"
      ]
     },
     "metadata": {
      "needs_background": "light"
     },
     "output_type": "display_data"
    }
   ],
   "source": [
    "progress.pivot_table(\n",
    "    index=\"mutation_threshold_last\", columns=\"finished\", values=\"seed_count\", aggfunc=\"count\"\n",
    ").plot(kind=\"bar\", stacked=\"true\")"
   ]
  },
  {
   "cell_type": "code",
   "execution_count": null,
   "id": "8b4f9842",
   "metadata": {},
   "outputs": [],
   "source": []
  },
  {
   "cell_type": "code",
   "execution_count": 51,
   "id": "ee5afac7",
   "metadata": {},
   "outputs": [
    {
     "data": {
      "text/plain": [
       "<AxesSubplot:xlabel='symbol_progress', ylabel='score_progress'>"
      ]
     },
     "execution_count": 51,
     "metadata": {},
     "output_type": "execute_result"
    },
    {
     "data": {
      "image/png": "[encoded data removed]",
      "text/plain": [
       "<Figure size 432x288 with 1 Axes>"
      ]
     },
     "metadata": {
      "needs_background": "light"
     },
     "output_type": "display_data"
    }
   ],
   "source": [
    "progress.plot.scatter(x=\"symbol_progress\", y=\"score_progress\")"
   ]
  },
  {
   "cell_type": "code",
   "execution_count": 52,
   "id": "228af3bf",
   "metadata": {},
   "outputs": [
    {
     "data": {
      "text/plain": [
       "<AxesSubplot:title={'center':'elapsed_mean'}, xlabel='key_size_last'>"
      ]
     },
     "execution_count": 52,
     "metadata": {},
     "output_type": "execute_result"
    },
    {
     "data": {
      "image/png": "[encoded data removed]",
      "text/plain": [
       "<Figure size 432x288 with 1 Axes>"
      ]
     },
     "metadata": {
      "needs_background": "light"
     },
     "output_type": "display_data"
    }
   ],
   "source": [
    "progress.query(\"finished\").boxplot(by=\"key_size_last\", column=\"elapsed_mean\")"
   ]
  },
  {
   "cell_type": "code",
   "execution_count": 53,
   "id": "0b49cd59",
   "metadata": {},
   "outputs": [
    {
     "data": {
      "text/plain": [
       "<AxesSubplot:title={'center':'elapsed_sum'}, xlabel='key_size_last'>"
      ]
     },
     "execution_count": 53,
     "metadata": {},
     "output_type": "execute_result"
    },
    {
     "data": {
      "image/png": "[encoded data removed]",
      "text/plain": [
       "<Figure size 432x288 with 1 Axes>"
      ]
     },
     "metadata": {
      "needs_background": "light"
     },
     "output_type": "display_data"
    }
   ],
   "source": [
    "progress.query(\"finished\").boxplot(by=\"key_size_last\", column=\"elapsed_sum\")"
   ]
  },
  {
   "cell_type": "code",
   "execution_count": 54,
   "id": "267f57f9",
   "metadata": {},
   "outputs": [
    {
     "data": {
      "text/plain": [
       "<AxesSubplot:title={'center':'seed_count'}, xlabel='key_size_last'>"
      ]
     },
     "execution_count": 54,
     "metadata": {},
     "output_type": "execute_result"
    },
    {
     "data": {
      "image/png": "[encoded data removed]",
      "text/plain": [
       "<Figure size 432x288 with 1 Axes>"
      ]
     },
     "metadata": {
      "needs_background": "light"
     },
     "output_type": "display_data"
    }
   ],
   "source": [
    "progress.query(\"finished\").boxplot(by=\"key_size_last\", column=\"seed_count\")"
   ]
  },
  {
   "cell_type": "code",
   "execution_count": 55,
   "id": "e89b320a",
   "metadata": {},
   "outputs": [
    {
     "data": {
      "text/plain": [
       "<AxesSubplot:title={'center':'elapsed_mean'}, xlabel='population_size_last'>"
      ]
     },
     "execution_count": 55,
     "metadata": {},
     "output_type": "execute_result"
    },
    {
     "data": {
      "image/png": "[encoded data removed]",
      "text/plain": [
       "<Figure size 432x288 with 1 Axes>"
      ]
     },
     "metadata": {
      "needs_background": "light"
     },
     "output_type": "display_data"
    }
   ],
   "source": [
    "progress.query(\"finished\").boxplot(by=\"population_size_last\", column=\"elapsed_mean\")"
   ]
  },
  {
   "cell_type": "code",
   "execution_count": 56,
   "id": "cc8fc4cf",
   "metadata": {},
   "outputs": [
    {
     "data": {
      "text/plain": [
       "<AxesSubplot:title={'center':'elapsed_sum'}, xlabel='population_size_last'>"
      ]
     },
     "execution_count": 56,
     "metadata": {},
     "output_type": "execute_result"
    },
    {
     "data": {
      "image/png": "[encoded data removed]",
      "text/plain": [
       "<Figure size 432x288 with 1 Axes>"
      ]
     },
     "metadata": {
      "needs_background": "light"
     },
     "output_type": "display_data"
    }
   ],
   "source": [
    "progress.query(\"finished\").boxplot(by=\"population_size_last\", column=\"elapsed_sum\")"
   ]
  },
  {
   "cell_type": "code",
   "execution_count": 57,
   "id": "2e72c721",
   "metadata": {},
   "outputs": [
    {
     "data": {
      "text/plain": [
       "<AxesSubplot:title={'center':'seed_count'}, xlabel='population_size_last'>"
      ]
     },
     "execution_count": 57,
     "metadata": {},
     "output_type": "execute_result"
    },
    {
     "data": {
      "image/png": "[encoded data removed]",
      "text/plain": [
       "<Figure size 432x288 with 1 Axes>"
      ]
     },
     "metadata": {
      "needs_background": "light"
     },
     "output_type": "display_data"
    }
   ],
   "source": [
    "progress.query(\"finished\").boxplot(by=\"population_size_last\", column=\"seed_count\")"
   ]
  },
  {
   "cell_type": "code",
   "execution_count": 58,
   "id": "e2ac20c4",
   "metadata": {},
   "outputs": [
    {
     "data": {
      "text/plain": [
       "<AxesSubplot:title={'center':'seed_count'}, xlabel='population_size_last'>"
      ]
     },
     "execution_count": 58,
     "metadata": {},
     "output_type": "execute_result"
    },
    {
     "data": {
      "image/png": "[encoded data removed]",
      "text/plain": [
       "<Figure size 432x288 with 1 Axes>"
      ]
     },
     "metadata": {
      "needs_background": "light"
     },
     "output_type": "display_data"
    }
   ],
   "source": [
    "progress.query(\"~finished\").boxplot(by=\"population_size_last\", column=\"seed_count\")"
   ]
  },
  {
   "cell_type": "code",
   "execution_count": 59,
   "id": "10e3556f",
   "metadata": {},
   "outputs": [
    {
     "data": {
      "text/plain": [
       "<AxesSubplot:title={'center':'seed_count'}, xlabel='population_size_last'>"
      ]
     },
     "execution_count": 59,
     "metadata": {},
     "output_type": "execute_result"
    },
    {
     "data": {
      "image/png": "[encoded data removed]",
      "text/plain": [
       "<Figure size 432x288 with 1 Axes>"
      ]
     },
     "metadata": {
      "needs_background": "light"
     },
     "output_type": "display_data"
    }
   ],
   "source": [
    "progress.query(\"finished\").boxplot(by=\"population_size_last\", column=\"seed_count\")"
   ]
  },
  {
   "cell_type": "code",
   "execution_count": 60,
   "id": "40063281",
   "metadata": {},
   "outputs": [
    {
     "data": {
      "text/plain": [
       "<AxesSubplot:title={'center':'elapsed_mean'}, xlabel='mutation_threshold_last'>"
      ]
     },
     "execution_count": 60,
     "metadata": {},
     "output_type": "execute_result"
    },
    {
     "data": {
      "image/png": "[encoded data removed]",
      "text/plain": [
       "<Figure size 432x288 with 1 Axes>"
      ]
     },
     "metadata": {
      "needs_background": "light"
     },
     "output_type": "display_data"
    }
   ],
   "source": [
    "progress.query(\"finished\").boxplot(by=\"mutation_threshold_last\", column=\"elapsed_mean\")"
   ]
  },
  {
   "cell_type": "code",
   "execution_count": 61,
   "id": "12a07209",
   "metadata": {},
   "outputs": [
    {
     "data": {
      "text/plain": [
       "<AxesSubplot:title={'center':'elapsed_sum'}, xlabel='[mutation_threshold_last, finished]'>"
      ]
     },
     "execution_count": 61,
     "metadata": {},
     "output_type": "execute_result"
    },
    {
     "data": {
      "image/png": "[encoded data removed]",
      "text/plain": [
       "<Figure size 432x288 with 1 Axes>"
      ]
     },
     "metadata": {
      "needs_background": "light"
     },
     "output_type": "display_data"
    }
   ],
   "source": [
    "progress.boxplot(by=[\"mutation_threshold_last\", \"finished\"], column=\"elapsed_sum\")"
   ]
  },
  {
   "cell_type": "code",
   "execution_count": 62,
   "id": "bd453b76",
   "metadata": {},
   "outputs": [
    {
     "data": {
      "text/plain": [
       "<AxesSubplot:title={'center':'seed_count'}, xlabel='[mutation_threshold_last, finished]'>"
      ]
     },
     "execution_count": 62,
     "metadata": {},
     "output_type": "execute_result"
    },
    {
     "data": {
      "image/png": "[encoded data removed]",
      "text/plain": [
       "<Figure size 432x288 with 1 Axes>"
      ]
     },
     "metadata": {
      "needs_background": "light"
     },
     "output_type": "display_data"
    }
   ],
   "source": [
    "progress.boxplot(by=[\"mutation_threshold_last\", \"finished\"], column=\"seed_count\")"
   ]
  },
  {
   "cell_type": "code",
   "execution_count": null,
   "id": "7d7ae07e",
   "metadata": {},
   "outputs": [],
   "source": []
  },
  {
   "cell_type": "code",
   "execution_count": null,
   "id": "4650cdbd",
   "metadata": {},
   "outputs": [],
   "source": []
  },
  {
   "cell_type": "code",
   "execution_count": 63,
   "id": "ace033fb",
   "metadata": {},
   "outputs": [
    {
     "data": {
      "text/plain": [
       "<pandas.core.groupby.generic.SeriesGroupBy object at 0x00000230D58D7430>"
      ]
     },
     "execution_count": 63,
     "metadata": {},
     "output_type": "execute_result"
    }
   ],
   "source": [
    "data.groupby(\"path\")[\"elapsed\"]"
   ]
  },
  {
   "cell_type": "code",
   "execution_count": 64,
   "id": "d0fcfa7b",
   "metadata": {},
   "outputs": [
    {
     "data": {
      "text/plain": [
       "generation              int64\n",
       "generation_count        int64\n",
       "seed                    int64\n",
       "mutation_threshold    float64\n",
       "key_size                int64\n",
       "population_size         int64\n",
       "global_min            float64\n",
       "global_max            float64\n",
       "selection_min         float64\n",
       "selection_max         float64\n",
       "best_individual        object\n",
       "elapsed               float64\n",
       "hamming_distance        int64\n",
       "weights                object\n",
       "target                float64\n",
       "original_key           object\n",
       "text_length             int64\n",
       "path                   object\n",
       "score                 float64\n",
       "progress              float64\n",
       "dtype: object"
      ]
     },
     "execution_count": 64,
     "metadata": {},
     "output_type": "execute_result"
    }
   ],
   "source": [
    "data.dtypes"
   ]
  },
  {
   "cell_type": "code",
   "execution_count": 65,
   "id": "17b05066",
   "metadata": {},
   "outputs": [
    {
     "data": {
      "text/html": [
       "<div>\n",
       "<style scoped>\n",
       "    .dataframe tbody tr th:only-of-type {\n",
       "        vertical-align: middle;\n",
       "    }\n",
       "\n",
       "    .dataframe tbody tr th {\n",
       "        vertical-align: top;\n",
       "    }\n",
       "\n",
       "    .dataframe thead th {\n",
       "        text-align: right;\n",
       "    }\n",
       "</style>\n",
       "<table border=\"1\" class=\"dataframe\">\n",
       "  <thead>\n",
       "    <tr style=\"text-align: right;\">\n",
       "      <th></th>\n",
       "      <th>generation</th>\n",
       "      <th>generation_count</th>\n",
       "      <th>seed</th>\n",
       "      <th>mutation_threshold</th>\n",
       "      <th>key_size</th>\n",
       "      <th>population_size</th>\n",
       "      <th>global_min</th>\n",
       "      <th>global_max</th>\n",
       "      <th>selection_min</th>\n",
       "      <th>selection_max</th>\n",
       "      <th>best_individual</th>\n",
       "      <th>elapsed</th>\n",
       "      <th>hamming_distance</th>\n",
       "      <th>target</th>\n",
       "      <th>original_key</th>\n",
       "      <th>text_length</th>\n",
       "      <th>path</th>\n",
       "      <th>score</th>\n",
       "      <th>progress</th>\n",
       "    </tr>\n",
       "    <tr>\n",
       "      <th>weights</th>\n",
       "      <th></th>\n",
       "      <th></th>\n",
       "      <th></th>\n",
       "      <th></th>\n",
       "      <th></th>\n",
       "      <th></th>\n",
       "      <th></th>\n",
       "      <th></th>\n",
       "      <th></th>\n",
       "      <th></th>\n",
       "      <th></th>\n",
       "      <th></th>\n",
       "      <th></th>\n",
       "      <th></th>\n",
       "      <th></th>\n",
       "      <th></th>\n",
       "      <th></th>\n",
       "      <th></th>\n",
       "      <th></th>\n",
       "    </tr>\n",
       "  </thead>\n",
       "  <tbody>\n",
       "    <tr>\n",
       "      <th>[0, 0, 1]</th>\n",
       "      <td>25049</td>\n",
       "      <td>25049</td>\n",
       "      <td>25049</td>\n",
       "      <td>25049</td>\n",
       "      <td>25049</td>\n",
       "      <td>25049</td>\n",
       "      <td>25049</td>\n",
       "      <td>25049</td>\n",
       "      <td>25049</td>\n",
       "      <td>25049</td>\n",
       "      <td>25049</td>\n",
       "      <td>25049</td>\n",
       "      <td>25049</td>\n",
       "      <td>25049</td>\n",
       "      <td>25049</td>\n",
       "      <td>25049</td>\n",
       "      <td>25049</td>\n",
       "      <td>25049</td>\n",
       "      <td>25049</td>\n",
       "    </tr>\n",
       "    <tr>\n",
       "      <th>[0, 1, 0]</th>\n",
       "      <td>25595</td>\n",
       "      <td>25595</td>\n",
       "      <td>25595</td>\n",
       "      <td>25595</td>\n",
       "      <td>25595</td>\n",
       "      <td>25595</td>\n",
       "      <td>25595</td>\n",
       "      <td>25595</td>\n",
       "      <td>25595</td>\n",
       "      <td>25595</td>\n",
       "      <td>25595</td>\n",
       "      <td>25595</td>\n",
       "      <td>25595</td>\n",
       "      <td>25595</td>\n",
       "      <td>25595</td>\n",
       "      <td>25595</td>\n",
       "      <td>25595</td>\n",
       "      <td>25595</td>\n",
       "      <td>25595</td>\n",
       "    </tr>\n",
       "    <tr>\n",
       "      <th>[0.6, 0.3, 0.1]</th>\n",
       "      <td>25129</td>\n",
       "      <td>25129</td>\n",
       "      <td>25129</td>\n",
       "      <td>25129</td>\n",
       "      <td>25129</td>\n",
       "      <td>25129</td>\n",
       "      <td>25129</td>\n",
       "      <td>25129</td>\n",
       "      <td>25129</td>\n",
       "      <td>25129</td>\n",
       "      <td>25129</td>\n",
       "      <td>25129</td>\n",
       "      <td>25129</td>\n",
       "      <td>25129</td>\n",
       "      <td>25129</td>\n",
       "      <td>25129</td>\n",
       "      <td>25129</td>\n",
       "      <td>25129</td>\n",
       "      <td>25129</td>\n",
       "    </tr>\n",
       "    <tr>\n",
       "      <th>[1, 0, 0]</th>\n",
       "      <td>26288</td>\n",
       "      <td>26288</td>\n",
       "      <td>26288</td>\n",
       "      <td>26288</td>\n",
       "      <td>26288</td>\n",
       "      <td>26288</td>\n",
       "      <td>26288</td>\n",
       "      <td>26288</td>\n",
       "      <td>26288</td>\n",
       "      <td>26288</td>\n",
       "      <td>26288</td>\n",
       "      <td>26288</td>\n",
       "      <td>26288</td>\n",
       "      <td>26288</td>\n",
       "      <td>26288</td>\n",
       "      <td>26288</td>\n",
       "      <td>26288</td>\n",
       "      <td>26288</td>\n",
       "      <td>26288</td>\n",
       "    </tr>\n",
       "  </tbody>\n",
       "</table>\n",
       "</div>"
      ],
      "text/plain": [
       "                 generation  generation_count   seed  mutation_threshold  \\\n",
       "weights                                                                    \n",
       "[0, 0, 1]             25049             25049  25049               25049   \n",
       "[0, 1, 0]             25595             25595  25595               25595   \n",
       "[0.6, 0.3, 0.1]       25129             25129  25129               25129   \n",
       "[1, 0, 0]             26288             26288  26288               26288   \n",
       "\n",
       "                 key_size  population_size  global_min  global_max  \\\n",
       "weights                                                              \n",
       "[0, 0, 1]           25049            25049       25049       25049   \n",
       "[0, 1, 0]           25595            25595       25595       25595   \n",
       "[0.6, 0.3, 0.1]     25129            25129       25129       25129   \n",
       "[1, 0, 0]           26288            26288       26288       26288   \n",
       "\n",
       "                 selection_min  selection_max  best_individual  elapsed  \\\n",
       "weights                                                                   \n",
       "[0, 0, 1]                25049          25049            25049    25049   \n",
       "[0, 1, 0]                25595          25595            25595    25595   \n",
       "[0.6, 0.3, 0.1]          25129          25129            25129    25129   \n",
       "[1, 0, 0]                26288          26288            26288    26288   \n",
       "\n",
       "                 hamming_distance  target  original_key  text_length   path  \\\n",
       "weights                                                                       \n",
       "[0, 0, 1]                   25049   25049         25049        25049  25049   \n",
       "[0, 1, 0]                   25595   25595         25595        25595  25595   \n",
       "[0.6, 0.3, 0.1]             25129   25129         25129        25129  25129   \n",
       "[1, 0, 0]                   26288   26288         26288        26288  26288   \n",
       "\n",
       "                 score  progress  \n",
       "weights                           \n",
       "[0, 0, 1]        25049     25049  \n",
       "[0, 1, 0]        25595     25595  \n",
       "[0.6, 0.3, 0.1]  25129     25129  \n",
       "[1, 0, 0]        26288     26288  "
      ]
     },
     "execution_count": 65,
     "metadata": {},
     "output_type": "execute_result"
    }
   ],
   "source": [
    "data.groupby(\"weights\").count()"
   ]
  },
  {
   "cell_type": "code",
   "execution_count": 66,
   "id": "844b6091",
   "metadata": {},
   "outputs": [
    {
     "data": {
      "text/plain": [
       "<AxesSubplot:xlabel='weights_last'>"
      ]
     },
     "execution_count": 66,
     "metadata": {},
     "output_type": "execute_result"
    },
    {
     "data": {
      "image/png": "[encoded data removed]",
      "text/plain": [
       "<Figure size 432x288 with 1 Axes>"
      ]
     },
     "metadata": {
      "needs_background": "light"
     },
     "output_type": "display_data"
    }
   ],
   "source": [
    "progress.groupby([\"weights_last\", \"finished\"])[\"seed_count\"].count().unstack().plot(kind=\"bar\", stacked=True)"
   ]
  },
  {
   "cell_type": "code",
   "execution_count": null,
   "id": "696dacfb",
   "metadata": {},
   "outputs": [],
   "source": []
  },
  {
   "cell_type": "code",
   "execution_count": null,
   "id": "02b37479",
   "metadata": {},
   "outputs": [],
   "source": []
  },
  {
   "cell_type": "code",
   "execution_count": null,
   "id": "eb5b1030",
   "metadata": {},
   "outputs": [],
   "source": []
  }
 ],
 "metadata": {
  "kernelspec": {
   "display_name": "Python 3 (ipykernel)",
   "language": "python",
   "name": "python3"
  },
  "language_info": {
   "codemirror_mode": {
    "name": "ipython",
    "version": 3
   },
   "file_extension": ".py",
   "mimetype": "text/x-python",
   "name": "python",
   "nbconvert_exporter": "python",
   "pygments_lexer": "ipython3",
   "version": "3.9.7"
  }
 },
 "nbformat": 4,
 "nbformat_minor": 5
}
