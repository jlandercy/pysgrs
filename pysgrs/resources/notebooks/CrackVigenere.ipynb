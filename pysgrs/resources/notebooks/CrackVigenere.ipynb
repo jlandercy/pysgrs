{
 "cells": [
  {
   "cell_type": "code",
   "execution_count": 1,
   "metadata": {},
   "outputs": [],
   "source": [
    "import numpy as np\n",
    "import matplotlib.pyplot as plt\n",
    "import pandas as pd\n",
    "import pysgrs\n",
    "pysgrs.settings.logger.setLevel(40)"
   ]
  },
  {
   "cell_type": "code",
   "execution_count": 2,
   "metadata": {},
   "outputs": [
    {
     "data": {
      "text/plain": [
       "'0.0.19'"
      ]
     },
     "execution_count": 2,
     "metadata": {},
     "output_type": "execute_result"
    }
   ],
   "source": [
    "pysgrs.__version__"
   ]
  },
  {
   "cell_type": "code",
   "execution_count": 3,
   "metadata": {},
   "outputs": [],
   "source": [
    "text = \"\"\"\n",
    "La météo - Quel temps fait-il ?\n",
    "\n",
    "Avec les prévisions météo, on peut savoir quel temps il fera le soir,\n",
    "le lendemain ou dans la semaine.\n",
    "Quand il y a un grand soleil sur la carte, il fera chaud sur la région.\n",
    "\n",
    "Quand la météo indique un soleil avec des nuages,\n",
    "il y aura peu de soleil et il y aura souvent du vent.\n",
    "Le temps sera gris.\n",
    "S’il y a des nuages avec de la pluie sur la carte, c’est qu’il va pleuvoir et\n",
    "qu’il y a des risques de tempête ou de grêle.\n",
    "Si de la pluie tombe alors qu’il y a du soleil,\n",
    "vous pourrez sans doute observer un arc-en-ciel.\n",
    "\n",
    "Quand il y a des nuages avec de la neige qui tombe,\n",
    "c’est qu’il va neiger et qu’il peut y avoir du brouillard,\n",
    "des risques de congélation, de la glace et que la température sera très basse.\n",
    "Lorsqu’il y a un éclair avec des nuages et de la pluie,\n",
    "il risque d’y avoir de la foudre et du tonnerre.\n",
    "\"\"\""
   ]
  },
  {
   "cell_type": "code",
   "execution_count": 4,
   "metadata": {},
   "outputs": [
    {
     "data": {
      "text/plain": [
       "'LAMETEOQUELTEMPSFAITILAVECLESPREVISIONSMETEOONPEUTSAVOIRQUELTEMPSILFERALESOIRLELENDEMAINOUDANSLASEMAINEQUANDILYAUNGRANDSOLEILSURLACARTEILFERACHAUDSURLAREGIONQUANDLAMETEOINDIQUEUNSOLEILAVECDESNUAGESILYAURAPEUDESOLEILETILYAURASOUVENTDUVENTLETEMPSSERAGRISSILYADESNUAGESAVECDELAPLUIESURLACARTECESTQUILVAPLEUVOIRETQUILYADESRISQUESDETEMPETEOUDEGRELESIDELAPLUIETOMBEALORSQUILYADUSOLEILVOUSPOURREZSANSDOUTEOBSERVERUNARCENCIELQUANDILYADESNUAGESAVECDELANEIGEQUITOMBECESTQUILVANEIGERETQUILPEUTYAVOIRDUBROUILLARDDESRISQUESDECONGELATIONDELAGLACEETQUELATEMPERATURESERATRESBASSELORSQUILYAUNECLAIRAVECDESNUAGESETDELAPLUIEILRISQUEDYAVOIRDELAFOUDREETDUTONNERRE'"
      ]
     },
     "execution_count": 4,
     "metadata": {},
     "output_type": "execute_result"
    }
   ],
   "source": [
    "clean = pysgrs.toolbox.Cleaner.clean(text).replace(\" \", \"\").upper()\n",
    "clean"
   ]
  },
  {
   "cell_type": "code",
   "execution_count": 5,
   "metadata": {},
   "outputs": [
    {
     "data": {
      "text/plain": [
       "<matplotlib.axes._subplots.AxesSubplot at 0x189c269d408>"
      ]
     },
     "execution_count": 5,
     "metadata": {},
     "output_type": "execute_result"
    },
    {
     "data": {
      "image/png": "[encoded data removed]",
      "text/plain": [
       "<Figure size 432x288 with 1 Axes>"
      ]
     },
     "metadata": {
      "needs_background": "light"
     },
     "output_type": "display_data"
    }
   ],
   "source": [
    "ngrams = pysgrs.toolbox.FrequencyAnalyzer.analyze(clean)\n",
    "ngrams[0][\"frequency\"].plot(kind=\"bar\")"
   ]
  },
  {
   "cell_type": "code",
   "execution_count": 6,
   "metadata": {},
   "outputs": [
    {
     "data": {
      "text/plain": [
       "<matplotlib.axes._subplots.AxesSubplot at 0x189c4891188>"
      ]
     },
     "execution_count": 6,
     "metadata": {},
     "output_type": "execute_result"
    },
    {
     "data": {
      "image/png": "[encoded data removed]",
      "text/plain": [
       "<Figure size 432x288 with 1 Axes>"
      ]
     },
     "metadata": {
      "needs_background": "light"
     },
     "output_type": "display_data"
    }
   ],
   "source": [
    "ngrams[0][\"coincidence\"].plot(kind=\"bar\")"
   ]
  },
  {
   "cell_type": "code",
   "execution_count": 7,
   "metadata": {},
   "outputs": [
    {
     "data": {
      "text/plain": [
       "count          642.00000\n",
       "frequency        1.00000\n",
       "coincidence      1.68859\n",
       "dtype: float64"
      ]
     },
     "execution_count": 7,
     "metadata": {},
     "output_type": "execute_result"
    }
   ],
   "source": [
    "ngrams[0].sum()"
   ]
  },
  {
   "cell_type": "code",
   "execution_count": null,
   "metadata": {},
   "outputs": [],
   "source": []
  },
  {
   "cell_type": "code",
   "execution_count": 8,
   "metadata": {},
   "outputs": [],
   "source": [
    "V = pysgrs.VigenereCypher(key=\"HIROSHIMA\")"
   ]
  },
  {
   "cell_type": "code",
   "execution_count": 9,
   "metadata": {},
   "outputs": [
    {
     "data": {
      "text/plain": [
       "'SIDSLLWCULTKSEWARAPBZZSCMOLLAGFWCQEIVVJAWAMAOUXVILZIHOPZHIWSBQMWAZZXLZMLLAFWJSMXEULVASPVAUKIEGDHAQMHQESIBIZDPTPOMUODAULJCDLQXSBZCOUHZFEPTWSJHKTABLJIJSIDENQFBIBIZDSIDSLLWUNKQHIWBVEOSMZZSCMODLAEISNMEISGRIJHXQUKMJCDLQXEAQCMSBZMSVCMSFALGVLVKZWAMYPZAVFSNZUSZQCMSKMENBIXSKHDQCKMCOHSCUEZCIZSJIDTLKVGLXCULCIGZWBDAIYMKEMPTKAKMJFAZYGEZLVHWTXQTLWLRWNZQLLAZRWSIBLBQVHGTJQASWIGIBQXYHLLGGSMULCWLGHVCDRLHJOFZLAUAMFPKLZHEYCEOJJMZCPMCEMHVPISGRRWZVGANMJONLKPESIESANMCUPBFATLKQSAYLWDCIZEPOVFWAYGISXVILFIHOPZUITYWGISTRFVKMERPAHIWZLQCVVXSDHBUOULVZSNTMCLMKEMLTMTLUGSJHBGRLAVFSAZQSIIJGWSWDSXCZZQHCZEJTRWJHDQCKMJBMHOQSLBUSDHXXUPMZZJPACULLPONVQDDLTRTGBLDELBUILVVZEYZV'"
      ]
     },
     "execution_count": 9,
     "metadata": {},
     "output_type": "execute_result"
    }
   ],
   "source": [
    "code = V.cypher(clean)\n",
    "code"
   ]
  },
  {
   "cell_type": "code",
   "execution_count": 10,
   "metadata": {},
   "outputs": [
    {
     "data": {
      "text/plain": [
       "<matplotlib.axes._subplots.AxesSubplot at 0x189c48935c8>"
      ]
     },
     "execution_count": 10,
     "metadata": {},
     "output_type": "execute_result"
    },
    {
     "data": {
      "image/png": "[encoded data removed]",
      "text/plain": [
       "<Figure size 432x288 with 1 Axes>"
      ]
     },
     "metadata": {
      "needs_background": "light"
     },
     "output_type": "display_data"
    }
   ],
   "source": [
    "cngrams = pysgrs.toolbox.FrequencyAnalyzer.analyze(code)\n",
    "cngrams[0][\"frequency\"].plot(kind=\"bar\")"
   ]
  },
  {
   "cell_type": "code",
   "execution_count": 11,
   "metadata": {},
   "outputs": [
    {
     "data": {
      "text/plain": [
       "count          642.000000\n",
       "frequency        1.000000\n",
       "coincidence      1.138505\n",
       "dtype: float64"
      ]
     },
     "execution_count": 11,
     "metadata": {},
     "output_type": "execute_result"
    }
   ],
   "source": [
    "cngrams[0].sum()"
   ]
  },
  {
   "cell_type": "code",
   "execution_count": 12,
   "metadata": {},
   "outputs": [
    {
     "data": {
      "text/html": [
       "<div>\n",
       "<style scoped>\n",
       "    .dataframe tbody tr th:only-of-type {\n",
       "        vertical-align: middle;\n",
       "    }\n",
       "\n",
       "    .dataframe tbody tr th {\n",
       "        vertical-align: top;\n",
       "    }\n",
       "\n",
       "    .dataframe thead th {\n",
       "        text-align: right;\n",
       "    }\n",
       "</style>\n",
       "<table border=\"1\" class=\"dataframe\">\n",
       "  <thead>\n",
       "    <tr style=\"text-align: right;\">\n",
       "      <th></th>\n",
       "      <th>shape</th>\n",
       "      <th>size</th>\n",
       "      <th>padding</th>\n",
       "      <th>shape_diff</th>\n",
       "      <th>score</th>\n",
       "    </tr>\n",
       "    <tr>\n",
       "      <th>id</th>\n",
       "      <th></th>\n",
       "      <th></th>\n",
       "      <th></th>\n",
       "      <th></th>\n",
       "      <th></th>\n",
       "    </tr>\n",
       "  </thead>\n",
       "  <tbody>\n",
       "    <tr>\n",
       "      <th>min-square</th>\n",
       "      <td>(25, 25)</td>\n",
       "      <td>625.0</td>\n",
       "      <td>-17.0</td>\n",
       "      <td>0.0</td>\n",
       "      <td>-1.697644e-05</td>\n",
       "    </tr>\n",
       "    <tr>\n",
       "      <th>opt-rect-1</th>\n",
       "      <td>(25, 26)</td>\n",
       "      <td>650.0</td>\n",
       "      <td>8.0</td>\n",
       "      <td>1.0</td>\n",
       "      <td>4.641749e-06</td>\n",
       "    </tr>\n",
       "    <tr>\n",
       "      <th>opt-rect-2</th>\n",
       "      <td>(26, 25)</td>\n",
       "      <td>650.0</td>\n",
       "      <td>8.0</td>\n",
       "      <td>1.0</td>\n",
       "      <td>4.641749e-06</td>\n",
       "    </tr>\n",
       "    <tr>\n",
       "      <th>rect-25</th>\n",
       "      <td>(25, 26)</td>\n",
       "      <td>650.0</td>\n",
       "      <td>8.0</td>\n",
       "      <td>1.0</td>\n",
       "      <td>4.641749e-06</td>\n",
       "    </tr>\n",
       "    <tr>\n",
       "      <th>rect-26</th>\n",
       "      <td>(26, 25)</td>\n",
       "      <td>650.0</td>\n",
       "      <td>8.0</td>\n",
       "      <td>1.0</td>\n",
       "      <td>4.641749e-06</td>\n",
       "    </tr>\n",
       "    <tr>\n",
       "      <th>...</th>\n",
       "      <td>...</td>\n",
       "      <td>...</td>\n",
       "      <td>...</td>\n",
       "      <td>...</td>\n",
       "      <td>...</td>\n",
       "    </tr>\n",
       "    <tr>\n",
       "      <th>rect-637</th>\n",
       "      <td>(637, 2)</td>\n",
       "      <td>1274.0</td>\n",
       "      <td>632.0</td>\n",
       "      <td>635.0</td>\n",
       "      <td>1.554789e+11</td>\n",
       "    </tr>\n",
       "    <tr>\n",
       "      <th>rect-638</th>\n",
       "      <td>(638, 2)</td>\n",
       "      <td>1276.0</td>\n",
       "      <td>634.0</td>\n",
       "      <td>636.0</td>\n",
       "      <td>1.579495e+11</td>\n",
       "    </tr>\n",
       "    <tr>\n",
       "      <th>rect-639</th>\n",
       "      <td>(639, 2)</td>\n",
       "      <td>1278.0</td>\n",
       "      <td>636.0</td>\n",
       "      <td>637.0</td>\n",
       "      <td>1.604530e+11</td>\n",
       "    </tr>\n",
       "    <tr>\n",
       "      <th>rect-640</th>\n",
       "      <td>(640, 2)</td>\n",
       "      <td>1280.0</td>\n",
       "      <td>638.0</td>\n",
       "      <td>638.0</td>\n",
       "      <td>1.629898e+11</td>\n",
       "    </tr>\n",
       "    <tr>\n",
       "      <th>rect-641</th>\n",
       "      <td>(641, 2)</td>\n",
       "      <td>1282.0</td>\n",
       "      <td>640.0</td>\n",
       "      <td>639.0</td>\n",
       "      <td>1.655601e+11</td>\n",
       "    </tr>\n",
       "  </tbody>\n",
       "</table>\n",
       "<p>645 rows × 5 columns</p>\n",
       "</div>"
      ],
      "text/plain": [
       "               shape    size  padding  shape_diff         score\n",
       "id                                                             \n",
       "min-square  (25, 25)   625.0    -17.0         0.0 -1.697644e-05\n",
       "opt-rect-1  (25, 26)   650.0      8.0         1.0  4.641749e-06\n",
       "opt-rect-2  (26, 25)   650.0      8.0         1.0  4.641749e-06\n",
       "rect-25     (25, 26)   650.0      8.0         1.0  4.641749e-06\n",
       "rect-26     (26, 25)   650.0      8.0         1.0  4.641749e-06\n",
       "...              ...     ...      ...         ...           ...\n",
       "rect-637    (637, 2)  1274.0    632.0       635.0  1.554789e+11\n",
       "rect-638    (638, 2)  1276.0    634.0       636.0  1.579495e+11\n",
       "rect-639    (639, 2)  1278.0    636.0       637.0  1.604530e+11\n",
       "rect-640    (640, 2)  1280.0    638.0       638.0  1.629898e+11\n",
       "rect-641    (641, 2)  1282.0    640.0       639.0  1.655601e+11\n",
       "\n",
       "[645 rows x 5 columns]"
      ]
     },
     "execution_count": 12,
     "metadata": {},
     "output_type": "execute_result"
    }
   ],
   "source": [
    "shapes = pysgrs.toolbox.Shaper.get_shapes(len(code))\n",
    "shapes"
   ]
  },
  {
   "cell_type": "code",
   "execution_count": null,
   "metadata": {},
   "outputs": [],
   "source": []
  },
  {
   "cell_type": "code",
   "execution_count": 13,
   "metadata": {},
   "outputs": [],
   "source": [
    "n = len(code)\n",
    "coincidences = []\n",
    "for ncol in np.arange(1, 26):\n",
    "    nrow = int(np.ceil(n/ncol))\n",
    "    block = pysgrs.toolbox.Shaper.to_matrix(code, shape=(nrow, ncol))\n",
    "    for k in np.arange(ncol):\n",
    "        frag = pysgrs.toolbox.Shaper.to_str(block[:,k])\n",
    "        coincidence = pysgrs.toolbox.FrequencyAnalyzer.analyze(frag, max_ngram=1)[0].sum()[\"coincidence\"]\n",
    "        coincidences.append({\"keysize\": ncol, \"column\": k, \"coincidence\": coincidence})\n"
   ]
  },
  {
   "cell_type": "code",
   "execution_count": 20,
   "metadata": {},
   "outputs": [
    {
     "data": {
      "image/png": "[encoded data removed]",
      "text/plain": [
       "<Figure size 432x288 with 1 Axes>"
      ]
     },
     "metadata": {
      "needs_background": "light"
     },
     "output_type": "display_data"
    }
   ],
   "source": [
    "axe = pd.DataFrame(coincidences).groupby(\"keysize\")[\"coincidence\"].mean().plot(kind=\"bar\")\n",
    "axe.grid(axis='y')"
   ]
  },
  {
   "cell_type": "code",
   "execution_count": 15,
   "metadata": {},
   "outputs": [
    {
     "data": {
      "text/plain": [
       "9"
      ]
     },
     "execution_count": 15,
     "metadata": {},
     "output_type": "execute_result"
    }
   ],
   "source": [
    "len(V.key)"
   ]
  },
  {
   "cell_type": "code",
   "execution_count": null,
   "metadata": {},
   "outputs": [],
   "source": []
  }
 ],
 "metadata": {
  "kernelspec": {
   "display_name": "Python 3",
   "language": "python",
   "name": "python3"
  },
  "language_info": {
   "codemirror_mode": {
    "name": "ipython",
    "version": 3
   },
   "file_extension": ".py",
   "mimetype": "text/x-python",
   "name": "python",
   "nbconvert_exporter": "python",
   "pygments_lexer": "ipython3",
   "version": "3.7.6"
  }
 },
 "nbformat": 4,
 "nbformat_minor": 4
}
