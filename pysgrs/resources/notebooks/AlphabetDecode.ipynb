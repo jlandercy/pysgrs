{
 "cells": [
  {
   "cell_type": "code",
   "execution_count": 1,
   "metadata": {},
   "outputs": [],
   "source": [
    "import pysgrs"
   ]
  },
  {
   "cell_type": "code",
   "execution_count": 2,
   "metadata": {},
   "outputs": [
    {
     "data": {
      "text/plain": [
       "'0.0.18'"
      ]
     },
     "execution_count": 2,
     "metadata": {},
     "output_type": "execute_result"
    }
   ],
   "source": [
    "pysgrs.__version__"
   ]
  },
  {
   "cell_type": "code",
   "execution_count": 18,
   "metadata": {},
   "outputs": [
    {
     "name": "stdout",
     "output_type": "stream",
     "text": [
      "<MorseAlphabet size=36 symbols='0123456789ABCDEFGHIJKLMNOPQRSTUVWXYZ' indices=('-----', '*----', '**---', '***--', '****-', '*****', '-****', '--***', '---**', '----*', '*-', '-***', '-*-*', '-**', '*', '**-*', '--*', '****', '**', '*---', '-*-', '*-**', '--', '-*', '---', '*--*', '--*-', '*-*', '***', '-', '**-', '***-', '*--', '-**-', '-*--', '--**')>\n"
     ]
    }
   ],
   "source": [
    "A = pysgrs.MorseAlphabet()\n",
    "print(A)"
   ]
  },
  {
   "cell_type": "code",
   "execution_count": 19,
   "metadata": {},
   "outputs": [
    {
     "data": {
      "text/plain": [
       "'*---**--*'"
      ]
     },
     "execution_count": 19,
     "metadata": {},
     "output_type": "execute_result"
    }
   ],
   "source": [
    "\"\".join(A.encode(\"JEAN\"))"
   ]
  },
  {
   "cell_type": "code",
   "execution_count": 20,
   "metadata": {},
   "outputs": [
    {
     "data": {
      "text/plain": [
       "'ABC'"
      ]
     },
     "execution_count": 20,
     "metadata": {},
     "output_type": "execute_result"
    }
   ],
   "source": [
    "A.decode(['*-', '-***', '-*-*'])"
   ]
  },
  {
   "cell_type": "code",
   "execution_count": 23,
   "metadata": {},
   "outputs": [
    {
     "data": {
      "text/plain": [
       "['ETI1',\n",
       " 'ETVO',\n",
       " 'ETVO',\n",
       " 'ETVO',\n",
       " 'ET3M',\n",
       " 'ET3M',\n",
       " 'ET3M',\n",
       " 'ET3M',\n",
       " 'ENE1',\n",
       " 'ENUO',\n",
       " 'ENUO',\n",
       " 'ENUO',\n",
       " 'EN2T',\n",
       " 'EN2T',\n",
       " 'EN2T',\n",
       " 'EN2T',\n",
       " 'EN2T',\n",
       " 'EDAO',\n",
       " 'EDAO',\n",
       " 'EDAO',\n",
       " 'EDWM',\n",
       " 'EDWM',\n",
       " 'EDWM',\n",
       " 'EDWM',\n",
       " 'EDJT',\n",
       " 'EDJT',\n",
       " 'EDJT',\n",
       " 'EDJT',\n",
       " 'EDJT',\n",
       " 'ED1',\n",
       " 'EBTO',\n",
       " 'EBTO',\n",
       " 'EBTO',\n",
       " 'EBMM',\n",
       " 'EBMM',\n",
       " 'EBMM',\n",
       " 'EBMM',\n",
       " 'EBOT',\n",
       " 'EBOT',\n",
       " 'EBOT',\n",
       " 'EBOT',\n",
       " 'EBOT',\n",
       " 'AEE1',\n",
       " 'AEUO',\n",
       " 'AEUO',\n",
       " 'AEUO',\n",
       " 'AE2T',\n",
       " 'AE2T',\n",
       " 'AE2T',\n",
       " 'AE2T',\n",
       " 'AE2T',\n",
       " 'AIAO',\n",
       " 'AIAO',\n",
       " 'AIAO',\n",
       " 'AIWM',\n",
       " 'AIWM',\n",
       " 'AIWM',\n",
       " 'AIWM',\n",
       " 'AIJT',\n",
       " 'AIJT',\n",
       " 'AIJT',\n",
       " 'AIJT',\n",
       " 'AIJT',\n",
       " 'AI1',\n",
       " 'ASTO',\n",
       " 'ASTO',\n",
       " 'ASTO',\n",
       " 'ASMM',\n",
       " 'ASMM',\n",
       " 'ASMM',\n",
       " 'ASMM',\n",
       " 'ASOT',\n",
       " 'ASOT',\n",
       " 'ASOT',\n",
       " 'ASOT',\n",
       " 'ASOT',\n",
       " 'AVTM',\n",
       " 'AVTM',\n",
       " 'AVTM',\n",
       " 'AVTM',\n",
       " 'AVMT',\n",
       " 'AVMT',\n",
       " 'AVMT',\n",
       " 'AVMT',\n",
       " 'AVMT',\n",
       " 'AVO',\n",
       " 'AVO',\n",
       " 'AVO',\n",
       " 'A3TT',\n",
       " 'A3TT',\n",
       " 'A3TT',\n",
       " 'A3TT',\n",
       " 'A3TT',\n",
       " 'A3M',\n",
       " 'A3M',\n",
       " 'A3M',\n",
       " 'A3M',\n",
       " 'REAO',\n",
       " 'REAO',\n",
       " 'REAO',\n",
       " 'REWM',\n",
       " 'REWM',\n",
       " 'REWM',\n",
       " 'REWM',\n",
       " 'REJT',\n",
       " 'REJT',\n",
       " 'REJT',\n",
       " 'REJT',\n",
       " 'REJT',\n",
       " 'RE1',\n",
       " 'RITO',\n",
       " 'RITO',\n",
       " 'RITO',\n",
       " 'RIMM',\n",
       " 'RIMM',\n",
       " 'RIMM',\n",
       " 'RIMM',\n",
       " 'RIOT',\n",
       " 'RIOT',\n",
       " 'RIOT',\n",
       " 'RIOT',\n",
       " 'RIOT',\n",
       " 'RUTM',\n",
       " 'RUTM',\n",
       " 'RUTM',\n",
       " 'RUTM',\n",
       " 'RUMT',\n",
       " 'RUMT',\n",
       " 'RUMT',\n",
       " 'RUMT',\n",
       " 'RUMT',\n",
       " 'RUO',\n",
       " 'RUO',\n",
       " 'RUO',\n",
       " 'R2T',\n",
       " 'R2T',\n",
       " 'R2T',\n",
       " 'R2T',\n",
       " 'R2T',\n",
       " 'LETO',\n",
       " 'LETO',\n",
       " 'LETO',\n",
       " 'LEMM',\n",
       " 'LEMM',\n",
       " 'LEMM',\n",
       " 'LEMM',\n",
       " 'LEOT',\n",
       " 'LEOT',\n",
       " 'LEOT',\n",
       " 'LEOT',\n",
       " 'LEOT',\n",
       " 'LATM',\n",
       " 'LATM',\n",
       " 'LATM',\n",
       " 'LATM',\n",
       " 'LAMT',\n",
       " 'LAMT',\n",
       " 'LAMT',\n",
       " 'LAMT',\n",
       " 'LAMT',\n",
       " 'LAO',\n",
       " 'LAO',\n",
       " 'LAO',\n",
       " 'LWTT',\n",
       " 'LWTT',\n",
       " 'LWTT',\n",
       " 'LWTT',\n",
       " 'LWTT',\n",
       " 'LWM',\n",
       " 'LWM',\n",
       " 'LWM',\n",
       " 'LWM',\n",
       " 'LJT',\n",
       " 'LJT',\n",
       " 'LJT',\n",
       " 'LJT',\n",
       " 'LJT',\n",
       " 'L1']"
      ]
     },
     "execution_count": 23,
     "metadata": {},
     "output_type": "execute_result"
    }
   ],
   "source": [
    "list(A.parse(\"*-***----\", max_length=4))"
   ]
  },
  {
   "cell_type": "code",
   "execution_count": 7,
   "metadata": {},
   "outputs": [
    {
     "data": {
      "text/plain": [
       "10"
      ]
     },
     "execution_count": 7,
     "metadata": {},
     "output_type": "execute_result"
    }
   ],
   "source": [
    "len(\"HELLOWORLD\")"
   ]
  },
  {
   "cell_type": "code",
   "execution_count": 8,
   "metadata": {},
   "outputs": [],
   "source": [
    "A = pysgrs.BaconAlphabet()"
   ]
  },
  {
   "cell_type": "code",
   "execution_count": 9,
   "metadata": {},
   "outputs": [
    {
     "data": {
      "text/plain": [
       "'aabbbaabaaababaababaabbab'"
      ]
     },
     "execution_count": 9,
     "metadata": {},
     "output_type": "execute_result"
    }
   ],
   "source": [
    "\"\".join(A.encode(\"HELLO\"))"
   ]
  },
  {
   "cell_type": "code",
   "execution_count": 10,
   "metadata": {},
   "outputs": [
    {
     "data": {
      "text/plain": [
       "'aaaaaaaabaababbaabaa'"
      ]
     },
     "execution_count": 10,
     "metadata": {},
     "output_type": "execute_result"
    }
   ],
   "source": [
    "\"\".join(A.encode(\"ACME\"))"
   ]
  },
  {
   "cell_type": "code",
   "execution_count": 11,
   "metadata": {},
   "outputs": [
    {
     "data": {
      "text/plain": [
       "'abaaaaabaaaaaaaabbaa'"
      ]
     },
     "execution_count": 11,
     "metadata": {},
     "output_type": "execute_result"
    }
   ],
   "source": [
    "\"\".join(A.encode(\"IEAN\"))"
   ]
  },
  {
   "cell_type": "code",
   "execution_count": 14,
   "metadata": {},
   "outputs": [],
   "source": [
    "t = list(A.parse('abaaaaabaaaaaaaabbaa'))"
   ]
  },
  {
   "cell_type": "code",
   "execution_count": 15,
   "metadata": {},
   "outputs": [
    {
     "data": {
      "text/plain": [
       "['IEAN']"
      ]
     },
     "execution_count": 15,
     "metadata": {},
     "output_type": "execute_result"
    }
   ],
   "source": [
    "t"
   ]
  },
  {
   "cell_type": "code",
   "execution_count": null,
   "metadata": {},
   "outputs": [],
   "source": []
  }
 ],
 "metadata": {
  "kernelspec": {
   "display_name": "Python 3",
   "language": "python",
   "name": "python3"
  },
  "language_info": {
   "codemirror_mode": {
    "name": "ipython",
    "version": 3
   },
   "file_extension": ".py",
   "mimetype": "text/x-python",
   "name": "python",
   "nbconvert_exporter": "python",
   "pygments_lexer": "ipython3",
   "version": "3.7.6"
  }
 },
 "nbformat": 4,
 "nbformat_minor": 4
}
