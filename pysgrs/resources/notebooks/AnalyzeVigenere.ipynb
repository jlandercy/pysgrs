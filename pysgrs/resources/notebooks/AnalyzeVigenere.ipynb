{
 "cells": [
  {
   "cell_type": "code",
   "execution_count": 1,
   "metadata": {},
   "outputs": [],
   "source": [
    "import numpy as np\n",
    "import matplotlib.pyplot as plt\n",
    "import pandas as pd\n",
    "import pysgrs\n",
    "pysgrs.settings.logger.setLevel(40)"
   ]
  },
  {
   "cell_type": "code",
   "execution_count": 2,
   "metadata": {},
   "outputs": [
    {
     "data": {
      "text/plain": [
       "'0.0.20'"
      ]
     },
     "execution_count": 2,
     "metadata": {},
     "output_type": "execute_result"
    }
   ],
   "source": [
    "pysgrs.__version__"
   ]
  },
  {
   "cell_type": "code",
   "execution_count": 3,
   "metadata": {},
   "outputs": [],
   "source": [
    "text = \"\"\"\n",
    "La météo - Quel temps fait-il ?\n",
    "\n",
    "Avec les prévisions météo, on peut savoir quel temps il fera le soir,\n",
    "le lendemain ou dans la semaine.\n",
    "Quand il y a un grand soleil sur la carte, il fera chaud sur la région.\n",
    "\n",
    "Quand la météo indique un soleil avec des nuages,\n",
    "il y aura peu de soleil et il y aura souvent du vent.\n",
    "Le temps sera gris.\n",
    "S’il y a des nuages avec de la pluie sur la carte, c’est qu’il va pleuvoir et\n",
    "qu’il y a des risques de tempête ou de grêle.\n",
    "Si de la pluie tombe alors qu’il y a du soleil,\n",
    "vous pourrez sans doute observer un arc-en-ciel.\n",
    "\n",
    "Quand il y a des nuages avec de la neige qui tombe,\n",
    "c’est qu’il va neiger et qu’il peut y avoir du brouillard,\n",
    "des risques de congélation, de la glace et que la température sera très basse.\n",
    "Lorsqu’il y a un éclair avec des nuages et de la pluie,\n",
    "il risque d’y avoir de la foudre et du tonnerre.\n",
    "\"\"\""
   ]
  },
  {
   "cell_type": "code",
   "execution_count": 4,
   "metadata": {},
   "outputs": [
    {
     "data": {
      "text/plain": [
       "'LAMETEOQUELTEMPSFAITILAVECLESPREVISIONSMETEOONPEUTSAVOIRQUELTEMPSILFERALESOIRLELENDEMAINOUDANSLASEMAINEQUANDILYAUNGRANDSOLEILSURLACARTEILFERACHAUDSURLAREGIONQUANDLAMETEOINDIQUEUNSOLEILAVECDESNUAGESILYAURAPEUDESOLEILETILYAURASOUVENTDUVENTLETEMPSSERAGRISSILYADESNUAGESAVECDELAPLUIESURLACARTECESTQUILVAPLEUVOIRETQUILYADESRISQUESDETEMPETEOUDEGRELESIDELAPLUIETOMBEALORSQUILYADUSOLEILVOUSPOURREZSANSDOUTEOBSERVERUNARCENCIELQUANDILYADESNUAGESAVECDELANEIGEQUITOMBECESTQUILVANEIGERETQUILPEUTYAVOIRDUBROUILLARDDESRISQUESDECONGELATIONDELAGLACEETQUELATEMPERATURESERATRESBASSELORSQUILYAUNECLAIRAVECDESNUAGESETDELAPLUIEILRISQUEDYAVOIRDELAFOUDREETDUTONNERRE'"
      ]
     },
     "execution_count": 4,
     "metadata": {},
     "output_type": "execute_result"
    }
   ],
   "source": [
    "clean = pysgrs.toolbox.Cleaner.clean(text).replace(\" \", \"\").upper()\n",
    "clean"
   ]
  },
  {
   "cell_type": "code",
   "execution_count": 5,
   "metadata": {},
   "outputs": [
    {
     "data": {
      "text/plain": [
       "<matplotlib.axes._subplots.AxesSubplot at 0x20d43cec188>"
      ]
     },
     "execution_count": 5,
     "metadata": {},
     "output_type": "execute_result"
    },
    {
     "data": {
      "image/png": "[encoded data removed]",
      "text/plain": [
       "<Figure size 432x288 with 1 Axes>"
      ]
     },
     "metadata": {
      "needs_background": "light"
     },
     "output_type": "display_data"
    }
   ],
   "source": [
    "ngrams = pysgrs.toolbox.FrequencyAnalyzer.analyze(clean)\n",
    "ngrams[0][\"frequency\"].plot(kind=\"bar\")"
   ]
  },
  {
   "cell_type": "code",
   "execution_count": 6,
   "metadata": {},
   "outputs": [
    {
     "data": {
      "text/plain": [
       "<matplotlib.axes._subplots.AxesSubplot at 0x20d45e52288>"
      ]
     },
     "execution_count": 6,
     "metadata": {},
     "output_type": "execute_result"
    },
    {
     "data": {
      "image/png": "[encoded data removed]",
      "text/plain": [
       "<Figure size 432x288 with 1 Axes>"
      ]
     },
     "metadata": {
      "needs_background": "light"
     },
     "output_type": "display_data"
    }
   ],
   "source": [
    "ngrams[0][\"coincidence\"].plot(kind=\"bar\")"
   ]
  },
  {
   "cell_type": "code",
   "execution_count": 7,
   "metadata": {},
   "outputs": [
    {
     "data": {
      "text/plain": [
       "count          642.00000\n",
       "frequency        1.00000\n",
       "coincidence      1.68859\n",
       "dtype: float64"
      ]
     },
     "execution_count": 7,
     "metadata": {},
     "output_type": "execute_result"
    }
   ],
   "source": [
    "ngrams[0].sum()"
   ]
  },
  {
   "cell_type": "code",
   "execution_count": null,
   "metadata": {},
   "outputs": [],
   "source": []
  },
  {
   "cell_type": "code",
   "execution_count": 8,
   "metadata": {},
   "outputs": [],
   "source": [
    "V = pysgrs.VigenereCypher(key=\"HIROSHIMA\")"
   ]
  },
  {
   "cell_type": "code",
   "execution_count": 9,
   "metadata": {},
   "outputs": [
    {
     "data": {
      "text/plain": [
       "'SIDSLLWCULTKSEWARAPBZZSCMOLLAGFWCQEIVVJAWAMAOUXVILZIHOPZHIWSBQMWAZZXLZMLLAFWJSMXEULVASPVAUKIEGDHAQMHQESIBIZDPTPOMUODAULJCDLQXSBZCOUHZFEPTWSJHKTABLJIJSIDENQFBIBIZDSIDSLLWUNKQHIWBVEOSMZZSCMODLAEISNMEISGRIJHXQUKMJCDLQXEAQCMSBZMSVCMSFALGVLVKZWAMYPZAVFSNZUSZQCMSKMENBIXSKHDQCKMCOHSCUEZCIZSJIDTLKVGLXCULCIGZWBDAIYMKEMPTKAKMJFAZYGEZLVHWTXQTLWLRWNZQLLAZRWSIBLBQVHGTJQASWIGIBQXYHLLGGSMULCWLGHVCDRLHJOFZLAUAMFPKLZHEYCEOJJMZCPMCEMHVPISGRRWZVGANMJONLKPESIESANMCUPBFATLKQSAYLWDCIZEPOVFWAYGISXVILFIHOPZUITYWGISTRFVKMERPAHIWZLQCVVXSDHBUOULVZSNTMCLMKEMLTMTLUGSJHBGRLAVFSAZQSIIJGWSWDSXCZZQHCZEJTRWJHDQCKMJBMHOQSLBUSDHXXUPMZZJPACULLPONVQDDLTRTGBLDELBUILVVZEYZV'"
      ]
     },
     "execution_count": 9,
     "metadata": {},
     "output_type": "execute_result"
    }
   ],
   "source": [
    "code = V.cypher(clean)\n",
    "code"
   ]
  },
  {
   "cell_type": "code",
   "execution_count": 10,
   "metadata": {},
   "outputs": [
    {
     "data": {
      "text/plain": [
       "<matplotlib.axes._subplots.AxesSubplot at 0x20d45e244c8>"
      ]
     },
     "execution_count": 10,
     "metadata": {},
     "output_type": "execute_result"
    },
    {
     "data": {
      "image/png": "[encoded data removed]",
      "text/plain": [
       "<Figure size 432x288 with 1 Axes>"
      ]
     },
     "metadata": {
      "needs_background": "light"
     },
     "output_type": "display_data"
    }
   ],
   "source": [
    "cngrams = pysgrs.toolbox.FrequencyAnalyzer.analyze(code)\n",
    "cngrams[0][\"frequency\"].plot(kind=\"bar\")"
   ]
  },
  {
   "cell_type": "code",
   "execution_count": 11,
   "metadata": {},
   "outputs": [
    {
     "data": {
      "text/plain": [
       "count          642.000000\n",
       "frequency        1.000000\n",
       "coincidence      1.138505\n",
       "dtype: float64"
      ]
     },
     "execution_count": 11,
     "metadata": {},
     "output_type": "execute_result"
    }
   ],
   "source": [
    "cngrams[0].sum()"
   ]
  },
  {
   "cell_type": "code",
   "execution_count": 12,
   "metadata": {},
   "outputs": [
    {
     "data": {
      "text/html": [
       "<div>\n",
       "<style scoped>\n",
       "    .dataframe tbody tr th:only-of-type {\n",
       "        vertical-align: middle;\n",
       "    }\n",
       "\n",
       "    .dataframe tbody tr th {\n",
       "        vertical-align: top;\n",
       "    }\n",
       "\n",
       "    .dataframe thead th {\n",
       "        text-align: right;\n",
       "    }\n",
       "</style>\n",
       "<table border=\"1\" class=\"dataframe\">\n",
       "  <thead>\n",
       "    <tr style=\"text-align: right;\">\n",
       "      <th></th>\n",
       "      <th>shape</th>\n",
       "      <th>size</th>\n",
       "      <th>padding</th>\n",
       "      <th>shape_diff</th>\n",
       "      <th>score</th>\n",
       "    </tr>\n",
       "    <tr>\n",
       "      <th>id</th>\n",
       "      <th></th>\n",
       "      <th></th>\n",
       "      <th></th>\n",
       "      <th></th>\n",
       "      <th></th>\n",
       "    </tr>\n",
       "  </thead>\n",
       "  <tbody>\n",
       "    <tr>\n",
       "      <th>min-square</th>\n",
       "      <td>(25, 25)</td>\n",
       "      <td>625.0</td>\n",
       "      <td>-17.0</td>\n",
       "      <td>0.0</td>\n",
       "      <td>-1.697644e-05</td>\n",
       "    </tr>\n",
       "    <tr>\n",
       "      <th>opt-rect-1</th>\n",
       "      <td>(25, 26)</td>\n",
       "      <td>650.0</td>\n",
       "      <td>8.0</td>\n",
       "      <td>1.0</td>\n",
       "      <td>4.641749e-06</td>\n",
       "    </tr>\n",
       "    <tr>\n",
       "      <th>opt-rect-2</th>\n",
       "      <td>(26, 25)</td>\n",
       "      <td>650.0</td>\n",
       "      <td>8.0</td>\n",
       "      <td>1.0</td>\n",
       "      <td>4.641749e-06</td>\n",
       "    </tr>\n",
       "    <tr>\n",
       "      <th>rect-25</th>\n",
       "      <td>(25, 26)</td>\n",
       "      <td>650.0</td>\n",
       "      <td>8.0</td>\n",
       "      <td>1.0</td>\n",
       "      <td>4.641749e-06</td>\n",
       "    </tr>\n",
       "    <tr>\n",
       "      <th>rect-26</th>\n",
       "      <td>(26, 25)</td>\n",
       "      <td>650.0</td>\n",
       "      <td>8.0</td>\n",
       "      <td>1.0</td>\n",
       "      <td>4.641749e-06</td>\n",
       "    </tr>\n",
       "    <tr>\n",
       "      <th>...</th>\n",
       "      <td>...</td>\n",
       "      <td>...</td>\n",
       "      <td>...</td>\n",
       "      <td>...</td>\n",
       "      <td>...</td>\n",
       "    </tr>\n",
       "    <tr>\n",
       "      <th>rect-637</th>\n",
       "      <td>(637, 2)</td>\n",
       "      <td>1274.0</td>\n",
       "      <td>632.0</td>\n",
       "      <td>635.0</td>\n",
       "      <td>1.554789e+11</td>\n",
       "    </tr>\n",
       "    <tr>\n",
       "      <th>rect-638</th>\n",
       "      <td>(638, 2)</td>\n",
       "      <td>1276.0</td>\n",
       "      <td>634.0</td>\n",
       "      <td>636.0</td>\n",
       "      <td>1.579495e+11</td>\n",
       "    </tr>\n",
       "    <tr>\n",
       "      <th>rect-639</th>\n",
       "      <td>(639, 2)</td>\n",
       "      <td>1278.0</td>\n",
       "      <td>636.0</td>\n",
       "      <td>637.0</td>\n",
       "      <td>1.604530e+11</td>\n",
       "    </tr>\n",
       "    <tr>\n",
       "      <th>rect-640</th>\n",
       "      <td>(640, 2)</td>\n",
       "      <td>1280.0</td>\n",
       "      <td>638.0</td>\n",
       "      <td>638.0</td>\n",
       "      <td>1.629898e+11</td>\n",
       "    </tr>\n",
       "    <tr>\n",
       "      <th>rect-641</th>\n",
       "      <td>(641, 2)</td>\n",
       "      <td>1282.0</td>\n",
       "      <td>640.0</td>\n",
       "      <td>639.0</td>\n",
       "      <td>1.655601e+11</td>\n",
       "    </tr>\n",
       "  </tbody>\n",
       "</table>\n",
       "<p>645 rows × 5 columns</p>\n",
       "</div>"
      ],
      "text/plain": [
       "               shape    size  padding  shape_diff         score\n",
       "id                                                             \n",
       "min-square  (25, 25)   625.0    -17.0         0.0 -1.697644e-05\n",
       "opt-rect-1  (25, 26)   650.0      8.0         1.0  4.641749e-06\n",
       "opt-rect-2  (26, 25)   650.0      8.0         1.0  4.641749e-06\n",
       "rect-25     (25, 26)   650.0      8.0         1.0  4.641749e-06\n",
       "rect-26     (26, 25)   650.0      8.0         1.0  4.641749e-06\n",
       "...              ...     ...      ...         ...           ...\n",
       "rect-637    (637, 2)  1274.0    632.0       635.0  1.554789e+11\n",
       "rect-638    (638, 2)  1276.0    634.0       636.0  1.579495e+11\n",
       "rect-639    (639, 2)  1278.0    636.0       637.0  1.604530e+11\n",
       "rect-640    (640, 2)  1280.0    638.0       638.0  1.629898e+11\n",
       "rect-641    (641, 2)  1282.0    640.0       639.0  1.655601e+11\n",
       "\n",
       "[645 rows x 5 columns]"
      ]
     },
     "execution_count": 12,
     "metadata": {},
     "output_type": "execute_result"
    }
   ],
   "source": [
    "shapes = pysgrs.toolbox.Shaper.get_shapes(len(code))\n",
    "shapes"
   ]
  },
  {
   "cell_type": "code",
   "execution_count": null,
   "metadata": {},
   "outputs": [],
   "source": []
  },
  {
   "cell_type": "code",
   "execution_count": 24,
   "metadata": {},
   "outputs": [
    {
     "data": {
      "text/html": [
       "<div>\n",
       "<style scoped>\n",
       "    .dataframe tbody tr th:only-of-type {\n",
       "        vertical-align: middle;\n",
       "    }\n",
       "\n",
       "    .dataframe tbody tr th {\n",
       "        vertical-align: top;\n",
       "    }\n",
       "\n",
       "    .dataframe thead th {\n",
       "        text-align: right;\n",
       "    }\n",
       "</style>\n",
       "<table border=\"1\" class=\"dataframe\">\n",
       "  <thead>\n",
       "    <tr style=\"text-align: right;\">\n",
       "      <th></th>\n",
       "      <th>keysize</th>\n",
       "      <th>column</th>\n",
       "      <th>coincidence</th>\n",
       "    </tr>\n",
       "  </thead>\n",
       "  <tbody>\n",
       "    <tr>\n",
       "      <th>0</th>\n",
       "      <td>1</td>\n",
       "      <td>0</td>\n",
       "      <td>1.138505</td>\n",
       "    </tr>\n",
       "    <tr>\n",
       "      <th>1</th>\n",
       "      <td>2</td>\n",
       "      <td>0</td>\n",
       "      <td>1.122313</td>\n",
       "    </tr>\n",
       "    <tr>\n",
       "      <th>2</th>\n",
       "      <td>2</td>\n",
       "      <td>1</td>\n",
       "      <td>1.178505</td>\n",
       "    </tr>\n",
       "    <tr>\n",
       "      <th>3</th>\n",
       "      <td>3</td>\n",
       "      <td>0</td>\n",
       "      <td>1.354131</td>\n",
       "    </tr>\n",
       "    <tr>\n",
       "      <th>4</th>\n",
       "      <td>3</td>\n",
       "      <td>1</td>\n",
       "      <td>1.277697</td>\n",
       "    </tr>\n",
       "    <tr>\n",
       "      <th>...</th>\n",
       "      <td>...</td>\n",
       "      <td>...</td>\n",
       "      <td>...</td>\n",
       "    </tr>\n",
       "    <tr>\n",
       "      <th>373</th>\n",
       "      <td>27</td>\n",
       "      <td>22</td>\n",
       "      <td>0.873518</td>\n",
       "    </tr>\n",
       "    <tr>\n",
       "      <th>374</th>\n",
       "      <td>27</td>\n",
       "      <td>23</td>\n",
       "      <td>0.909091</td>\n",
       "    </tr>\n",
       "    <tr>\n",
       "      <th>375</th>\n",
       "      <td>27</td>\n",
       "      <td>24</td>\n",
       "      <td>1.130435</td>\n",
       "    </tr>\n",
       "    <tr>\n",
       "      <th>376</th>\n",
       "      <td>27</td>\n",
       "      <td>25</td>\n",
       "      <td>0.711462</td>\n",
       "    </tr>\n",
       "    <tr>\n",
       "      <th>377</th>\n",
       "      <td>27</td>\n",
       "      <td>26</td>\n",
       "      <td>0.960474</td>\n",
       "    </tr>\n",
       "  </tbody>\n",
       "</table>\n",
       "<p>378 rows × 3 columns</p>\n",
       "</div>"
      ],
      "text/plain": [
       "     keysize  column  coincidence\n",
       "0          1       0     1.138505\n",
       "1          2       0     1.122313\n",
       "2          2       1     1.178505\n",
       "3          3       0     1.354131\n",
       "4          3       1     1.277697\n",
       "..       ...     ...          ...\n",
       "373       27      22     0.873518\n",
       "374       27      23     0.909091\n",
       "375       27      24     1.130435\n",
       "376       27      25     0.711462\n",
       "377       27      26     0.960474\n",
       "\n",
       "[378 rows x 3 columns]"
      ]
     },
     "execution_count": 24,
     "metadata": {},
     "output_type": "execute_result"
    }
   ],
   "source": [
    "coincidences = pysgrs.toolbox.FrequencyAnalyzer.keysize_coincidences(code, max_keysize=3*9)\n",
    "coincidences"
   ]
  },
  {
   "cell_type": "code",
   "execution_count": 25,
   "metadata": {},
   "outputs": [
    {
     "data": {
      "text/html": [
       "<div>\n",
       "<style scoped>\n",
       "    .dataframe tbody tr th:only-of-type {\n",
       "        vertical-align: middle;\n",
       "    }\n",
       "\n",
       "    .dataframe tbody tr th {\n",
       "        vertical-align: top;\n",
       "    }\n",
       "\n",
       "    .dataframe thead th {\n",
       "        text-align: right;\n",
       "    }\n",
       "</style>\n",
       "<table border=\"1\" class=\"dataframe\">\n",
       "  <thead>\n",
       "    <tr style=\"text-align: right;\">\n",
       "      <th></th>\n",
       "      <th>mean</th>\n",
       "      <th>min</th>\n",
       "      <th>max</th>\n",
       "    </tr>\n",
       "    <tr>\n",
       "      <th>keysize</th>\n",
       "      <th></th>\n",
       "      <th></th>\n",
       "      <th></th>\n",
       "    </tr>\n",
       "  </thead>\n",
       "  <tbody>\n",
       "    <tr>\n",
       "      <th>1</th>\n",
       "      <td>1.138505</td>\n",
       "      <td>1.138505</td>\n",
       "      <td>1.138505</td>\n",
       "    </tr>\n",
       "    <tr>\n",
       "      <th>2</th>\n",
       "      <td>1.150409</td>\n",
       "      <td>1.122313</td>\n",
       "      <td>1.178505</td>\n",
       "    </tr>\n",
       "    <tr>\n",
       "      <th>3</th>\n",
       "      <td>1.280579</td>\n",
       "      <td>1.209907</td>\n",
       "      <td>1.354131</td>\n",
       "    </tr>\n",
       "    <tr>\n",
       "      <th>4</th>\n",
       "      <td>1.121557</td>\n",
       "      <td>1.069025</td>\n",
       "      <td>1.211180</td>\n",
       "    </tr>\n",
       "    <tr>\n",
       "      <th>5</th>\n",
       "      <td>1.113856</td>\n",
       "      <td>1.023498</td>\n",
       "      <td>1.254921</td>\n",
       "    </tr>\n",
       "    <tr>\n",
       "      <th>6</th>\n",
       "      <td>1.219832</td>\n",
       "      <td>1.079175</td>\n",
       "      <td>1.347910</td>\n",
       "    </tr>\n",
       "    <tr>\n",
       "      <th>7</th>\n",
       "      <td>1.112190</td>\n",
       "      <td>1.024845</td>\n",
       "      <td>1.245421</td>\n",
       "    </tr>\n",
       "    <tr>\n",
       "      <th>8</th>\n",
       "      <td>1.066031</td>\n",
       "      <td>0.956962</td>\n",
       "      <td>1.192593</td>\n",
       "    </tr>\n",
       "    <tr>\n",
       "      <th>9</th>\n",
       "      <td>1.326932</td>\n",
       "      <td>1.108249</td>\n",
       "      <td>1.636150</td>\n",
       "    </tr>\n",
       "    <tr>\n",
       "      <th>10</th>\n",
       "      <td>0.962759</td>\n",
       "      <td>0.845238</td>\n",
       "      <td>1.058532</td>\n",
       "    </tr>\n",
       "    <tr>\n",
       "      <th>11</th>\n",
       "      <td>0.980025</td>\n",
       "      <td>0.807018</td>\n",
       "      <td>1.264173</td>\n",
       "    </tr>\n",
       "    <tr>\n",
       "      <th>12</th>\n",
       "      <td>0.989760</td>\n",
       "      <td>0.768693</td>\n",
       "      <td>1.229318</td>\n",
       "    </tr>\n",
       "    <tr>\n",
       "      <th>13</th>\n",
       "      <td>0.938603</td>\n",
       "      <td>0.801871</td>\n",
       "      <td>1.185306</td>\n",
       "    </tr>\n",
       "    <tr>\n",
       "      <th>14</th>\n",
       "      <td>0.886238</td>\n",
       "      <td>0.688889</td>\n",
       "      <td>1.044444</td>\n",
       "    </tr>\n",
       "    <tr>\n",
       "      <th>15</th>\n",
       "      <td>0.910427</td>\n",
       "      <td>0.755260</td>\n",
       "      <td>1.157254</td>\n",
       "    </tr>\n",
       "    <tr>\n",
       "      <th>16</th>\n",
       "      <td>0.823851</td>\n",
       "      <td>0.692308</td>\n",
       "      <td>1.078049</td>\n",
       "    </tr>\n",
       "    <tr>\n",
       "      <th>17</th>\n",
       "      <td>0.878039</td>\n",
       "      <td>0.702703</td>\n",
       "      <td>1.135135</td>\n",
       "    </tr>\n",
       "    <tr>\n",
       "      <th>18</th>\n",
       "      <td>1.060867</td>\n",
       "      <td>0.857143</td>\n",
       "      <td>1.555556</td>\n",
       "    </tr>\n",
       "    <tr>\n",
       "      <th>19</th>\n",
       "      <td>0.743439</td>\n",
       "      <td>0.613636</td>\n",
       "      <td>0.939394</td>\n",
       "    </tr>\n",
       "    <tr>\n",
       "      <th>20</th>\n",
       "      <td>0.728336</td>\n",
       "      <td>0.592742</td>\n",
       "      <td>0.834677</td>\n",
       "    </tr>\n",
       "    <tr>\n",
       "      <th>21</th>\n",
       "      <td>0.837544</td>\n",
       "      <td>0.524138</td>\n",
       "      <td>1.133333</td>\n",
       "    </tr>\n",
       "    <tr>\n",
       "      <th>22</th>\n",
       "      <td>0.730997</td>\n",
       "      <td>0.541872</td>\n",
       "      <td>1.130542</td>\n",
       "    </tr>\n",
       "    <tr>\n",
       "      <th>23</th>\n",
       "      <td>0.680752</td>\n",
       "      <td>0.476190</td>\n",
       "      <td>1.015873</td>\n",
       "    </tr>\n",
       "    <tr>\n",
       "      <th>24</th>\n",
       "      <td>0.744150</td>\n",
       "      <td>0.564103</td>\n",
       "      <td>1.185185</td>\n",
       "    </tr>\n",
       "    <tr>\n",
       "      <th>25</th>\n",
       "      <td>0.647179</td>\n",
       "      <td>0.409231</td>\n",
       "      <td>0.947692</td>\n",
       "    </tr>\n",
       "    <tr>\n",
       "      <th>26</th>\n",
       "      <td>0.639476</td>\n",
       "      <td>0.431159</td>\n",
       "      <td>0.900000</td>\n",
       "    </tr>\n",
       "    <tr>\n",
       "      <th>27</th>\n",
       "      <td>0.846728</td>\n",
       "      <td>0.659420</td>\n",
       "      <td>1.130435</td>\n",
       "    </tr>\n",
       "  </tbody>\n",
       "</table>\n",
       "</div>"
      ],
      "text/plain": [
       "             mean       min       max\n",
       "keysize                              \n",
       "1        1.138505  1.138505  1.138505\n",
       "2        1.150409  1.122313  1.178505\n",
       "3        1.280579  1.209907  1.354131\n",
       "4        1.121557  1.069025  1.211180\n",
       "5        1.113856  1.023498  1.254921\n",
       "6        1.219832  1.079175  1.347910\n",
       "7        1.112190  1.024845  1.245421\n",
       "8        1.066031  0.956962  1.192593\n",
       "9        1.326932  1.108249  1.636150\n",
       "10       0.962759  0.845238  1.058532\n",
       "11       0.980025  0.807018  1.264173\n",
       "12       0.989760  0.768693  1.229318\n",
       "13       0.938603  0.801871  1.185306\n",
       "14       0.886238  0.688889  1.044444\n",
       "15       0.910427  0.755260  1.157254\n",
       "16       0.823851  0.692308  1.078049\n",
       "17       0.878039  0.702703  1.135135\n",
       "18       1.060867  0.857143  1.555556\n",
       "19       0.743439  0.613636  0.939394\n",
       "20       0.728336  0.592742  0.834677\n",
       "21       0.837544  0.524138  1.133333\n",
       "22       0.730997  0.541872  1.130542\n",
       "23       0.680752  0.476190  1.015873\n",
       "24       0.744150  0.564103  1.185185\n",
       "25       0.647179  0.409231  0.947692\n",
       "26       0.639476  0.431159  0.900000\n",
       "27       0.846728  0.659420  1.130435"
      ]
     },
     "execution_count": 25,
     "metadata": {},
     "output_type": "execute_result"
    }
   ],
   "source": [
    "g = pd.DataFrame(coincidences).groupby(\"keysize\")[\"coincidence\"].agg([\"mean\", \"min\", \"max\"])\n",
    "g"
   ]
  },
  {
   "cell_type": "code",
   "execution_count": 31,
   "metadata": {},
   "outputs": [
    {
     "data": {
      "image/png": "[encoded data removed]",
      "text/plain": [
       "<Figure size 432x288 with 1 Axes>"
      ]
     },
     "metadata": {
      "needs_background": "light"
     },
     "output_type": "display_data"
    }
   ],
   "source": [
    "axe = g[\"mean\"].plot(kind=\"bar\")\n",
    "axe.grid(axis='y')"
   ]
  },
  {
   "cell_type": "code",
   "execution_count": 27,
   "metadata": {},
   "outputs": [
    {
     "data": {
      "text/plain": [
       "9"
      ]
     },
     "execution_count": 27,
     "metadata": {},
     "output_type": "execute_result"
    }
   ],
   "source": [
    "len(V.key)"
   ]
  },
  {
   "cell_type": "code",
   "execution_count": null,
   "metadata": {},
   "outputs": [],
   "source": []
  }
 ],
 "metadata": {
  "kernelspec": {
   "display_name": "Python 3",
   "language": "python",
   "name": "python3"
  },
  "language_info": {
   "codemirror_mode": {
    "name": "ipython",
    "version": 3
   },
   "file_extension": ".py",
   "mimetype": "text/x-python",
   "name": "python",
   "nbconvert_exporter": "python",
   "pygments_lexer": "ipython3",
   "version": "3.7.6"
  }
 },
 "nbformat": 4,
 "nbformat_minor": 4
}
