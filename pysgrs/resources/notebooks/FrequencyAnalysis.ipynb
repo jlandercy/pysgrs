{
 "cells": [
  {
   "cell_type": "code",
   "execution_count": 1,
   "metadata": {},
   "outputs": [],
   "source": [
    "import numpy as np\n",
    "import pysgrs\n",
    "pysgrs.settings.logger.setLevel(40)"
   ]
  },
  {
   "cell_type": "code",
   "execution_count": 2,
   "metadata": {},
   "outputs": [
    {
     "data": {
      "text/plain": [
       "'0.0.18'"
      ]
     },
     "execution_count": 2,
     "metadata": {},
     "output_type": "execute_result"
    }
   ],
   "source": [
    "pysgrs.__version__"
   ]
  },
  {
   "cell_type": "code",
   "execution_count": 3,
   "metadata": {},
   "outputs": [],
   "source": [
    "ngrams = pysgrs.toolbox.FrequencyAnalyzer.analyze(language=\"fr\")"
   ]
  },
  {
   "cell_type": "code",
   "execution_count": 4,
   "metadata": {},
   "outputs": [
    {
     "data": {
      "image/png": "[encoded data removed]",
      "text/plain": [
       "<Figure size 432x288 with 1 Axes>"
      ]
     },
     "metadata": {
      "needs_background": "light"
     },
     "output_type": "display_data"
    }
   ],
   "source": [
    "axe = ngrams[0][\"frequency\"].plot(kind='bar')\n",
    "axe.grid(axis='y')"
   ]
  },
  {
   "cell_type": "code",
   "execution_count": 5,
   "metadata": {},
   "outputs": [],
   "source": [
    "text = \"\"\"\n",
    "La météo - Quel temps fait-il ?\n",
    "\n",
    "Avec les prévisions météo, on peut savoir quel temps il fera le soir,\n",
    "le lendemain ou dans la semaine.\n",
    "Quand il y a un grand soleil sur la carte, il fera chaud sur la région.\n",
    "\n",
    "Quand la météo indique un soleil avec des nuages,\n",
    "il y aura peu de soleil et il y aura souvent du vent.\n",
    "Le temps sera gris.\n",
    "S’il y a des nuages avec de la pluie sur la carte, c’est qu’il va pleuvoir et\n",
    "qu’il y a des risques de tempête ou de grêle.\n",
    "Si de la pluie tombe alors qu’il y a du soleil,\n",
    "vous pourrez sans doute observer un arc-en-ciel.\n",
    "\n",
    "Quand il y a des nuages avec de la neige qui tombe,\n",
    "c’est qu’il va neiger et qu’il peut y avoir du brouillard,\n",
    "des risques de congélation, de la glace et que la température sera très basse.\n",
    "Lorsqu’il y a un éclair avec des nuages et de la pluie,\n",
    "il risque d’y avoir de la foudre et du tonnerre.\n",
    "\"\"\""
   ]
  },
  {
   "cell_type": "code",
   "execution_count": 6,
   "metadata": {},
   "outputs": [
    {
     "name": "stdout",
     "output_type": "stream",
     "text": [
      "\n",
      "La meteo - Quel temps fait-il ?\n",
      "\n",
      "Avec les previsions meteo, on peut savoir quel temps il fera le soir,\n",
      "le lendemain ou dans la semaine.\n",
      "Quand il y a un grand soleil sur la carte, il fera chaud sur la region.\n",
      "\n",
      "Quand la meteo indique un soleil avec des nuages,\n",
      "il y aura peu de soleil et il y aura souvent du vent.\n",
      "Le temps sera gris.\n",
      "S’il y a des nuages avec de la pluie sur la carte, c’est qu’il va pleuvoir et\n",
      "qu’il y a des risques de tempete ou de grele.\n",
      "Si de la pluie tombe alors qu’il y a du soleil,\n",
      "vous pourrez sans doute observer un arc-en-ciel.\n",
      "\n",
      "Quand il y a des nuages avec de la neige qui tombe,\n",
      "c’est qu’il va neiger et qu’il peut y avoir du brouillard,\n",
      "des risques de congelation, de la glace et que la temperature sera tres basse.\n",
      "Lorsqu’il y a un eclair avec des nuages et de la pluie,\n",
      "il risque d’y avoir de la foudre et du tonnerre.\n",
      "\n"
     ]
    }
   ],
   "source": [
    "text = pysgrs.toolbox.Cleaner.strip_accents(text)\n",
    "print(text)"
   ]
  },
  {
   "cell_type": "code",
   "execution_count": 7,
   "metadata": {},
   "outputs": [],
   "source": [
    "C = pysgrs.CaesarCypher()"
   ]
  },
  {
   "cell_type": "code",
   "execution_count": 8,
   "metadata": {},
   "outputs": [
    {
     "name": "stdout",
     "output_type": "stream",
     "text": [
      "\n",
      "Od phwhr - Txho whpsv idlw-lo ?\n",
      "\n",
      "Dyhf ohv suhylvlrqv phwhr, rq shxw vdyrlu txho whpsv lo ihud oh vrlu,\n",
      "oh ohqghpdlq rx gdqv od vhpdlqh.\n",
      "Txdqg lo b d xq judqg vrohlo vxu od fduwh, lo ihud fkdxg vxu od uhjlrq.\n",
      "\n",
      "Txdqg od phwhr lqgltxh xq vrohlo dyhf ghv qxdjhv,\n",
      "lo b dxud shx gh vrohlo hw lo b dxud vrxyhqw gx yhqw.\n",
      "Oh whpsv vhud julv.\n",
      "V’lo b d ghv qxdjhv dyhf gh od soxlh vxu od fduwh, f’hvw tx’lo yd sohxyrlu hw\n",
      "tx’lo b d ghv ulvtxhv gh whpshwh rx gh juhoh.\n",
      "Vl gh od soxlh wrpeh doruv tx’lo b d gx vrohlo,\n",
      "yrxv srxuuhc vdqv grxwh revhuyhu xq duf-hq-flho.\n",
      "\n",
      "Txdqg lo b d ghv qxdjhv dyhf gh od qhljh txl wrpeh,\n",
      "f’hvw tx’lo yd qhljhu hw tx’lo shxw b dyrlu gx eurxloodug,\n",
      "ghv ulvtxhv gh frqjhodwlrq, gh od jodfh hw txh od whpshudwxuh vhud wuhv edvvh.\n",
      "Oruvtx’lo b d xq hfodlu dyhf ghv qxdjhv hw gh od soxlh,\n",
      "lo ulvtxh g’b dyrlu gh od irxguh hw gx wrqqhuuh.\n",
      "\n"
     ]
    }
   ],
   "source": [
    "cypher = C.cypher(text)\n",
    "print(cypher)"
   ]
  },
  {
   "cell_type": "code",
   "execution_count": 9,
   "metadata": {},
   "outputs": [],
   "source": [
    "cngrams = pysgrs.toolbox.FrequencyAnalyzer.analyze(cypher)"
   ]
  },
  {
   "cell_type": "code",
   "execution_count": 10,
   "metadata": {},
   "outputs": [
    {
     "data": {
      "text/plain": [
       "<matplotlib.axes._subplots.AxesSubplot at 0x195b0127908>"
      ]
     },
     "execution_count": 10,
     "metadata": {},
     "output_type": "execute_result"
    },
    {
     "data": {
      "image/png": "[encoded data removed]",
      "text/plain": [
       "<Figure size 432x288 with 1 Axes>"
      ]
     },
     "metadata": {
      "needs_background": "light"
     },
     "output_type": "display_data"
    }
   ],
   "source": [
    "cngrams[0][\"frequency\"].plot(kind=\"bar\")"
   ]
  },
  {
   "cell_type": "code",
   "execution_count": 11,
   "metadata": {},
   "outputs": [
    {
     "data": {
      "text/plain": [
       "Index(['E', 'A', 'S', 'I', 'N', 'T', 'R'], dtype='object')"
      ]
     },
     "execution_count": 11,
     "metadata": {},
     "output_type": "execute_result"
    }
   ],
   "source": [
    "sym1 = ngrams[0].iloc[:7,:].index\n",
    "sym1"
   ]
  },
  {
   "cell_type": "code",
   "execution_count": 12,
   "metadata": {},
   "outputs": [
    {
     "data": {
      "text/plain": [
       "Index(['H', 'D', 'O', 'X', 'V', 'L', 'U'], dtype='object')"
      ]
     },
     "execution_count": 12,
     "metadata": {},
     "output_type": "execute_result"
    }
   ],
   "source": [
    "sym2 = cngrams[0].iloc[:7,:].index\n",
    "sym2"
   ]
  },
  {
   "cell_type": "code",
   "execution_count": 13,
   "metadata": {},
   "outputs": [],
   "source": [
    "A = pysgrs.BasicAlphabet()\n",
    "idx1 = np.array(A.encode(sym1))\n",
    "idx2 = np.array(A.encode(sym2))"
   ]
  },
  {
   "cell_type": "code",
   "execution_count": 14,
   "metadata": {},
   "outputs": [
    {
     "data": {
      "text/plain": [
       "array([ 3,  3, -4, 15,  8, -8,  3])"
      ]
     },
     "execution_count": 14,
     "metadata": {},
     "output_type": "execute_result"
    }
   ],
   "source": [
    "idx2 - idx1"
   ]
  },
  {
   "cell_type": "code",
   "execution_count": 23,
   "metadata": {},
   "outputs": [
    {
     "name": "stdout",
     "output_type": "stream",
     "text": [
      "\n",
      "Oa pewer - Txeo wepsv ialw-lo ?\n",
      "\n",
      "Ayef oev sueylvlrqv pewer, rq sexw vayrlu txeo wepsv lo ieua oe vrlu,\n",
      "oe oeqgepalq rx gaqv oa vepalqe.\n",
      "Txaqg lo b a xq juaqg vroelo vxu oa fauwe, lo ieua fkaxg vxu oa uejlrq.\n",
      "\n",
      "Txaqg oa pewer lqgltxe xq vroelo ayef gev qxajev,\n",
      "lo b axua sex ge vroelo ew lo b axua vrxyeqw gx yeqw.\n",
      "Oe wepsv veua julv.\n",
      "V’lo b a gev qxajev ayef ge oa soxle vxu oa fauwe, f’evw tx’lo ya soexyrlu ew\n",
      "tx’lo b a gev ulvtxev ge wepsewe rx ge jueoe.\n",
      "Vl ge oa soxle wrpee aoruv tx’lo b a gx vroelo,\n",
      "yrxv srxuuec vaqv grxwe reveuyeu xq auf-eq-fleo.\n",
      "\n",
      "Txaqg lo b a gev qxajev ayef ge oa qelje txl wrpee,\n",
      "f’evw tx’lo ya qeljeu ew tx’lo sexw b ayrlu gx eurxlooaug,\n",
      "gev ulvtxev ge frqjeoawlrq, ge oa joafe ew txe oa wepseuawxue veua wuev eavve.\n",
      "Oruvtx’lo b a xq efoalu ayef gev qxajev ew ge oa soxle,\n",
      "lo ulvtxe g’b ayrlu ge oa irxgue ew gx wrqqeuue.\n",
      "\n"
     ]
    }
   ],
   "source": [
    "C2 = pysgrs.AlphabetCypher(pysgrs.GenericStringAlphabet(\"EA\", \"HD\"))\n",
    "print(C2.decypher(cypher))"
   ]
  },
  {
   "cell_type": "code",
   "execution_count": 27,
   "metadata": {},
   "outputs": [
    {
     "name": "stdout",
     "output_type": "stream",
     "text": [
      "\n",
      "La meteo - Txel temsv iait-il ?\n",
      "\n",
      "Ayef lev sueyivioqv meteo, oq sext vayoiu txel temsv il ieua le voiu,\n",
      "le leqgemaiq ox gaqv la vemaiqe.\n",
      "Txaqg il b a xq juaqg voleil vxu la faute, il ieua fkaxg vxu la uejioq.\n",
      "\n",
      "Txaqg la meteo iqgitxe xq voleil ayef gev qxajev,\n",
      "il b axua sex ge voleil et il b axua voxyeqt gx yeqt.\n",
      "Le temsv veua juiv.\n",
      "V’il b a gev qxajev ayef ge la slxie vxu la faute, f’evt tx’il ya slexyoiu et\n",
      "tx’il b a gev uivtxev ge temsete ox ge juele.\n",
      "Vi ge la slxie tomee alouv tx’il b a gx voleil,\n",
      "yoxv soxuuec vaqv goxte oeveuyeu xq auf-eq-fiel.\n",
      "\n",
      "Txaqg il b a gev qxajev ayef ge la qeije txi tomee,\n",
      "f’evt tx’il ya qeijeu et tx’il sext b ayoiu gx euoxillaug,\n",
      "gev uivtxev ge foqjelatioq, ge la jlafe et txe la temseuatxue veua tuev eavve.\n",
      "Louvtx’il b a xq eflaiu ayef gev qxajev et ge la slxie,\n",
      "il uivtxe g’b ayoiu ge la ioxgue et gx toqqeuue.\n",
      "\n"
     ]
    }
   ],
   "source": [
    "C2 = pysgrs.AlphabetCypher(pysgrs.GenericStringAlphabet(\"EAILMTO\", \"HDLOPWR\"))\n",
    "print(C2.decypher(cypher))"
   ]
  },
  {
   "cell_type": "code",
   "execution_count": 30,
   "metadata": {},
   "outputs": [
    {
     "name": "stdout",
     "output_type": "stream",
     "text": [
      "\n",
      "La meteo - Quel temps fait-il ?\n",
      "\n",
      "Ayef les pueyisioqs meteo, oq peut sayoiu quel temps il feua le soiu,\n",
      "le leqgemaiq ou gaqs la semaiqe.\n",
      "Quaqg il b a uq juaqg soleil suu la faute, il feua fkaug suu la uejioq.\n",
      "\n",
      "Quaqg la meteo iqgique uq soleil ayef ges quajes,\n",
      "il b auua peu ge soleil et il b auua souyeqt gu yeqt.\n",
      "Le temps seua juis.\n",
      "S’il b a ges quajes ayef ge la pluie suu la faute, f’est qu’il ya pleuyoiu et\n",
      "qu’il b a ges uisques ge tempete ou ge juele.\n",
      "Si ge la pluie tomee alous qu’il b a gu soleil,\n",
      "yous pouuuec saqs goute oeseuyeu uq auf-eq-fiel.\n",
      "\n",
      "Quaqg il b a ges quajes ayef ge la qeije qui tomee,\n",
      "f’est qu’il ya qeijeu et qu’il peut b ayoiu gu euouillaug,\n",
      "ges uisques ge foqjelatioq, ge la jlafe et que la tempeuatuue seua tues easse.\n",
      "Lousqu’il b a uq eflaiu ayef ges quajes et ge la pluie,\n",
      "il uisque g’b ayoiu ge la fougue et gu toqqeuue.\n",
      "\n"
     ]
    }
   ],
   "source": [
    "C2 = pysgrs.AlphabetCypher(pysgrs.GenericStringAlphabet(\"EAILMTOQUFSP\", \"HDLOPWRTXIVS\"))\n",
    "print(C2.decypher(cypher))"
   ]
  },
  {
   "cell_type": "code",
   "execution_count": 49,
   "metadata": {},
   "outputs": [
    {
     "name": "stdout",
     "output_type": "stream",
     "text": [
      "\n",
      "La meteo - Quel temps fait-il ?\n",
      "\n",
      "Avec les previsions meteo, on peut savoir quel temps il fera le soir,\n",
      "le lendemain ou dans la semaine.\n",
      "Quand il y a un grand soleil sur la carte, il fera chaud sur la region.\n",
      "\n",
      "Quand la meteo indique un soleil avec des nuages,\n",
      "il y aura peu de soleil et il y aura souvent du vent.\n",
      "Le temps sera gris.\n",
      "S’il y a des nuages avec de la pluie sur la carte, c’est qu’il va pleuvoir et\n",
      "qu’il y a des risques de tempete ou de grele.\n",
      "Si de la pluie tombe alors qu’il y a du soleil,\n",
      "vous pourrez sans doute observer un arc-en-ciel.\n",
      "\n",
      "Quand il y a des nuages avec de la neige qui tombe,\n",
      "c’est qu’il va neiger et qu’il peut y avoir du brouillard,\n",
      "des risques de congelation, de la glace et que la temperature sera tres basse.\n",
      "Lorsqu’il y a un eclair avec des nuages et de la pluie,\n",
      "il risque d’y avoir de la foudre et du tonnerre.\n",
      "\n"
     ]
    }
   ],
   "source": [
    "C2 = pysgrs.AlphabetCypher(pysgrs.GenericStringAlphabet(\"EAILMTOQUFSPNRVDGYCBHZ\", \"HDLOPWRTXIVSQUYGJBFEKC\"))\n",
    "print(C2.decypher(cypher))"
   ]
  },
  {
   "cell_type": "code",
   "execution_count": 50,
   "metadata": {},
   "outputs": [
    {
     "data": {
      "text/plain": [
       "<matplotlib.axes._subplots.AxesSubplot at 0x195b330a948>"
      ]
     },
     "execution_count": 50,
     "metadata": {},
     "output_type": "execute_result"
    },
    {
     "data": {
      "image/png": "[encoded data removed]",
      "text/plain": [
       "<Figure size 432x288 with 1 Axes>"
      ]
     },
     "metadata": {},
     "output_type": "display_data"
    }
   ],
   "source": [
    "C2.to_graph()"
   ]
  },
  {
   "cell_type": "code",
   "execution_count": null,
   "metadata": {},
   "outputs": [],
   "source": []
  },
  {
   "cell_type": "code",
   "execution_count": null,
   "metadata": {},
   "outputs": [],
   "source": []
  },
  {
   "cell_type": "code",
   "execution_count": null,
   "metadata": {},
   "outputs": [],
   "source": []
  }
 ],
 "metadata": {
  "kernelspec": {
   "display_name": "Python 3",
   "language": "python",
   "name": "python3"
  },
  "language_info": {
   "codemirror_mode": {
    "name": "ipython",
    "version": 3
   },
   "file_extension": ".py",
   "mimetype": "text/x-python",
   "name": "python",
   "nbconvert_exporter": "python",
   "pygments_lexer": "ipython3",
   "version": "3.7.6"
  }
 },
 "nbformat": 4,
 "nbformat_minor": 4
}
