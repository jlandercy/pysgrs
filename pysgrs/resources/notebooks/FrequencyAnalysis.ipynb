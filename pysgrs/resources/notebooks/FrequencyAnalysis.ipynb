{
 "cells": [
  {
   "cell_type": "code",
   "execution_count": 33,
   "metadata": {},
   "outputs": [],
   "source": [
    "import numpy as np\n",
    "import pysgrs\n",
    "pysgrs.settings.logger.setLevel(40)"
   ]
  },
  {
   "cell_type": "code",
   "execution_count": 2,
   "metadata": {},
   "outputs": [
    {
     "data": {
      "text/plain": [
       "'0.0.17'"
      ]
     },
     "execution_count": 2,
     "metadata": {},
     "output_type": "execute_result"
    }
   ],
   "source": [
    "pysgrs.__version__"
   ]
  },
  {
   "cell_type": "code",
   "execution_count": 3,
   "metadata": {},
   "outputs": [],
   "source": [
    "ngrams = pysgrs.toolbox.FrequencyAnalyzer.analyze(language=\"fr\")"
   ]
  },
  {
   "cell_type": "code",
   "execution_count": 4,
   "metadata": {},
   "outputs": [
    {
     "data": {
      "image/png": "[encoded data removed]",
      "text/plain": [
       "<Figure size 432x288 with 1 Axes>"
      ]
     },
     "metadata": {
      "needs_background": "light"
     },
     "output_type": "display_data"
    }
   ],
   "source": [
    "axe = ngrams[0][\"frequency\"].plot(kind='bar')\n",
    "axe.grid(axis='y')"
   ]
  },
  {
   "cell_type": "code",
   "execution_count": 5,
   "metadata": {},
   "outputs": [],
   "source": [
    "text = \"\"\"\n",
    "La météo - Quel temps fait-il ?\n",
    "\n",
    "Avec les prévisions météo, on peut savoir quel temps il fera le soir,\n",
    "le lendemain ou dans la semaine.\n",
    "Quand il y a un grand soleil sur la carte, il fera chaud sur la région.\n",
    "\n",
    "Quand la météo indique un soleil avec des nuages,\n",
    "il y aura peu de soleil et il y aura souvent du vent.\n",
    "Le temps sera gris.\n",
    "S’il y a des nuages avec de la pluie sur la carte, c’est qu’il va pleuvoir et\n",
    "qu’il y a des risques de tempête ou de grêle.\n",
    "Si de la pluie tombe alors qu’il y a du soleil,\n",
    "vous pourrez sans doute observer un arc-en-ciel.\n",
    "\n",
    "Quand il y a des nuages avec de la neige qui tombe,\n",
    "c’est qu’il va neiger et qu’il peut y avoir du brouillard,\n",
    "des risques de congélation, de la glace et que la température sera très basse.\n",
    "Lorsqu’il y a un éclair avec des nuages et de la pluie,\n",
    "il risque d’y avoir de la foudre et du tonnerre.\n",
    "\"\"\""
   ]
  },
  {
   "cell_type": "code",
   "execution_count": 8,
   "metadata": {},
   "outputs": [
    {
     "name": "stdout",
     "output_type": "stream",
     "text": [
      "\n",
      "La meteo - Quel temps fait-il ?\n",
      "\n",
      "Avec les previsions meteo, on peut savoir quel temps il fera le soir,\n",
      "le lendemain ou dans la semaine.\n",
      "Quand il y a un grand soleil sur la carte, il fera chaud sur la region.\n",
      "\n",
      "Quand la meteo indique un soleil avec des nuages,\n",
      "il y aura peu de soleil et il y aura souvent du vent.\n",
      "Le temps sera gris.\n",
      "S’il y a des nuages avec de la pluie sur la carte, c’est qu’il va pleuvoir et\n",
      "qu’il y a des risques de tempete ou de grele.\n",
      "Si de la pluie tombe alors qu’il y a du soleil,\n",
      "vous pourrez sans doute observer un arc-en-ciel.\n",
      "\n",
      "Quand il y a des nuages avec de la neige qui tombe,\n",
      "c’est qu’il va neiger et qu’il peut y avoir du brouillard,\n",
      "des risques de congelation, de la glace et que la temperature sera tres basse.\n",
      "Lorsqu’il y a un eclair avec des nuages et de la pluie,\n",
      "il risque d’y avoir de la foudre et du tonnerre.\n",
      "\n"
     ]
    }
   ],
   "source": [
    "text = pysgrs.toolbox.Cleaner.strip_accents(text)\n",
    "print(text)"
   ]
  },
  {
   "cell_type": "code",
   "execution_count": 9,
   "metadata": {},
   "outputs": [],
   "source": [
    "C = pysgrs.CaesarCypher()"
   ]
  },
  {
   "cell_type": "code",
   "execution_count": 11,
   "metadata": {},
   "outputs": [
    {
     "name": "stdout",
     "output_type": "stream",
     "text": [
      "\n",
      "Od phwhr - Txho whpsv idlw-lo ?\n",
      "\n",
      "Dyhf ohv suhylvlrqv phwhr, rq shxw vdyrlu txho whpsv lo ihud oh vrlu,\n",
      "oh ohqghpdlq rx gdqv od vhpdlqh.\n",
      "Txdqg lo b d xq judqg vrohlo vxu od fduwh, lo ihud fkdxg vxu od uhjlrq.\n",
      "\n",
      "Txdqg od phwhr lqgltxh xq vrohlo dyhf ghv qxdjhv,\n",
      "lo b dxud shx gh vrohlo hw lo b dxud vrxyhqw gx yhqw.\n",
      "Oh whpsv vhud julv.\n",
      "V’lo b d ghv qxdjhv dyhf gh od soxlh vxu od fduwh, f’hvw tx’lo yd sohxyrlu hw\n",
      "tx’lo b d ghv ulvtxhv gh whpshwh rx gh juhoh.\n",
      "Vl gh od soxlh wrpeh doruv tx’lo b d gx vrohlo,\n",
      "yrxv srxuuhc vdqv grxwh revhuyhu xq duf-hq-flho.\n",
      "\n",
      "Txdqg lo b d ghv qxdjhv dyhf gh od qhljh txl wrpeh,\n",
      "f’hvw tx’lo yd qhljhu hw tx’lo shxw b dyrlu gx eurxloodug,\n",
      "ghv ulvtxhv gh frqjhodwlrq, gh od jodfh hw txh od whpshudwxuh vhud wuhv edvvh.\n",
      "Oruvtx’lo b d xq hfodlu dyhf ghv qxdjhv hw gh od soxlh,\n",
      "lo ulvtxh g’b dyrlu gh od irxguh hw gx wrqqhuuh.\n",
      "\n"
     ]
    }
   ],
   "source": [
    "cypher = C.cypher(text)\n",
    "print(cypher)"
   ]
  },
  {
   "cell_type": "code",
   "execution_count": 13,
   "metadata": {},
   "outputs": [],
   "source": [
    "cngrams = pysgrs.toolbox.FrequencyAnalyzer.analyze(cypher)"
   ]
  },
  {
   "cell_type": "code",
   "execution_count": 17,
   "metadata": {},
   "outputs": [
    {
     "data": {
      "text/plain": [
       "<matplotlib.axes._subplots.AxesSubplot at 0x1f3138a4c08>"
      ]
     },
     "execution_count": 17,
     "metadata": {},
     "output_type": "execute_result"
    },
    {
     "data": {
      "image/png": "[encoded data removed]",
      "text/plain": [
       "<Figure size 432x288 with 1 Axes>"
      ]
     },
     "metadata": {
      "needs_background": "light"
     },
     "output_type": "display_data"
    }
   ],
   "source": [
    "cngrams[0][\"frequency\"].plot(kind=\"bar\")"
   ]
  },
  {
   "cell_type": "code",
   "execution_count": 28,
   "metadata": {},
   "outputs": [
    {
     "data": {
      "text/plain": [
       "Index(['E', 'A', 'S', 'I', 'N', 'T', 'R'], dtype='object')"
      ]
     },
     "execution_count": 28,
     "metadata": {},
     "output_type": "execute_result"
    }
   ],
   "source": [
    "sym1 = ngrams[0].iloc[:7,:].index\n",
    "sym1"
   ]
  },
  {
   "cell_type": "code",
   "execution_count": 29,
   "metadata": {},
   "outputs": [
    {
     "data": {
      "text/plain": [
       "Index(['H', 'D', 'O', 'X', 'V', 'L', 'U'], dtype='object')"
      ]
     },
     "execution_count": 29,
     "metadata": {},
     "output_type": "execute_result"
    }
   ],
   "source": [
    "sym2 = cngrams[0].iloc[:7,:].index\n",
    "sym2"
   ]
  },
  {
   "cell_type": "code",
   "execution_count": 34,
   "metadata": {},
   "outputs": [],
   "source": [
    "A = pysgrs.BasicAlphabet()\n",
    "idx1 = np.array(A.encode(sym1))\n",
    "idx2 = np.array(A.encode(sym2))"
   ]
  },
  {
   "cell_type": "code",
   "execution_count": 37,
   "metadata": {},
   "outputs": [
    {
     "data": {
      "text/plain": [
       "array([ 3,  3, -4, 15,  8, -8,  3])"
      ]
     },
     "execution_count": 37,
     "metadata": {},
     "output_type": "execute_result"
    }
   ],
   "source": [
    "idx2 - idx1"
   ]
  },
  {
   "cell_type": "code",
   "execution_count": null,
   "metadata": {},
   "outputs": [],
   "source": [
    "C2 = pysgrs."
   ]
  }
 ],
 "metadata": {
  "kernelspec": {
   "display_name": "Python 3",
   "language": "python",
   "name": "python3"
  },
  "language_info": {
   "codemirror_mode": {
    "name": "ipython",
    "version": 3
   },
   "file_extension": ".py",
   "mimetype": "text/x-python",
   "name": "python",
   "nbconvert_exporter": "python",
   "pygments_lexer": "ipython3",
   "version": "3.7.6"
  }
 },
 "nbformat": 4,
 "nbformat_minor": 4
}
